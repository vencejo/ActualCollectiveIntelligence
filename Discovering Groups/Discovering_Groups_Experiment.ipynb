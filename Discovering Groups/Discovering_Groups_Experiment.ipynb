{
 "metadata": {
  "name": "",
  "signature": "sha256:6e30aa03b99ec9c8dd04f15d38cbf27e2581b9f6194f38c2d41bd8f2d16eebb3"
 },
 "nbformat": 3,
 "nbformat_minor": 0,
 "worksheets": [
  {
   "cells": [
    {
     "cell_type": "code",
     "collapsed": false,
     "input": [
      "run generatefeedvector.py"
     ],
     "language": "python",
     "metadata": {},
     "outputs": [],
     "prompt_number": 12
    },
    {
     "cell_type": "code",
     "collapsed": false,
     "input": [],
     "language": "python",
     "metadata": {},
     "outputs": []
    }
   ],
   "metadata": {}
  }
 ]
}