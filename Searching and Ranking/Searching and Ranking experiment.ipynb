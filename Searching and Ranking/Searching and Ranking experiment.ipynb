{
 "metadata": {
  "name": "",
  "signature": "sha256:e71835ca1295674efd2a00483e19ac937def4c6e07e3e8e7a55cd0d4b607b2c9"
 },
 "nbformat": 3,
 "nbformat_minor": 0,
 "worksheets": [
  {
   "cells": [
    {
     "cell_type": "code",
     "collapsed": false,
     "input": [
      "import urllib2"
     ],
     "language": "python",
     "metadata": {},
     "outputs": [],
     "prompt_number": 1
    },
    {
     "cell_type": "code",
     "collapsed": false,
     "input": [
      "c=urllib2.urlopen('http://twitter.com')\n",
      "cont=c.read()\n",
      "print cont[0:50]"
     ],
     "language": "python",
     "metadata": {},
     "outputs": [
      {
       "output_type": "stream",
       "stream": "stdout",
       "text": [
        "<!DOCTYPE html>\n",
        "<!--[if IE 8]><html class=\"lt-ie10\n"
       ]
      }
     ],
     "prompt_number": 2
    },
    {
     "cell_type": "code",
     "collapsed": false,
     "input": [
      "import searchengine as se"
     ],
     "language": "python",
     "metadata": {},
     "outputs": [],
     "prompt_number": 2
    },
    {
     "cell_type": "code",
     "collapsed": false,
     "input": [
      "pagelist=['http://xkcd.com/1376/']\n",
      "crawler=se.crawler('')\n",
      "crawler.crawl(pagelist)"
     ],
     "language": "python",
     "metadata": {},
     "outputs": [
      {
       "output_type": "stream",
       "stream": "stdout",
       "text": [
        "Indexing http://xkcd.com/1376/\n",
        "Indexing http://www.asofterworld.com"
       ]
      },
      {
       "output_type": "stream",
       "stream": "stdout",
       "text": [
        "\n",
        "Indexing http://www.buttercupfestival.com/"
       ]
      },
      {
       "output_type": "stream",
       "stream": "stdout",
       "text": [
        "\n",
        "Indexing http://xkcd.com/1375/"
       ]
      },
      {
       "output_type": "stream",
       "stream": "stdout",
       "text": [
        "\n",
        "Indexing http://www.qwantz.com"
       ]
      },
      {
       "output_type": "stream",
       "stream": "stdout",
       "text": [
        "\n",
        "Indexing http://xkcd.com/1/"
       ]
      },
      {
       "output_type": "stream",
       "stream": "stdout",
       "text": [
        "\n",
        "Could not open http://questionablecontent.net/"
       ]
      },
      {
       "output_type": "stream",
       "stream": "stdout",
       "text": [
        "\n",
        "Indexing http://xkcd.com/1376/"
       ]
      },
      {
       "output_type": "stream",
       "stream": "stdout",
       "text": [
        "\n",
        "Indexing http://threewordphrase.com/"
       ]
      },
      {
       "output_type": "stream",
       "stream": "stdout",
       "text": [
        "\n",
        "Indexing http://xkcd.com/rss.xml"
       ]
      },
      {
       "output_type": "stream",
       "stream": "stdout",
       "text": [
        "\n",
        "Indexing http://buttersafe.com/"
       ]
      },
      {
       "output_type": "stream",
       "stream": "stdout",
       "text": [
        "\n",
        "Indexing http://pbfcomics.com/"
       ]
      },
      {
       "output_type": "stream",
       "stream": "stdout",
       "text": [
        "\n",
        "Indexing http://blog.xkcd.com/2014/03/12/what-if-i-wrote-a-book/"
       ]
      },
      {
       "output_type": "stream",
       "stream": "stdout",
       "text": [
        "\n",
        "Indexing http://www.smbc-comics.com/"
       ]
      },
      {
       "output_type": "stream",
       "stream": "stdout",
       "text": [
        "\n",
        "Indexing http://blag.xkcd.com"
       ]
      },
      {
       "output_type": "stream",
       "stream": "stdout",
       "text": [
        "\n",
        "Indexing http://xkcd.com/license.html"
       ]
      },
      {
       "output_type": "stream",
       "stream": "stdout",
       "text": [
        "\n",
        "Indexing http://store.xkcd.com/"
       ]
      }
     ]
    },
    {
     "cell_type": "code",
     "collapsed": false,
     "input": [
      "from sqlite3 import dbapi2 as sqlite"
     ],
     "language": "python",
     "metadata": {},
     "outputs": [],
     "prompt_number": 3
    },
    {
     "cell_type": "code",
     "collapsed": false,
     "input": [
      "import searchengine as se"
     ],
     "language": "python",
     "metadata": {},
     "outputs": [],
     "prompt_number": 7
    },
    {
     "cell_type": "code",
     "collapsed": false,
     "input": [
      "crawler=se.crawler('searchindex.db')"
     ],
     "language": "python",
     "metadata": {},
     "outputs": [],
     "prompt_number": 8
    },
    {
     "cell_type": "code",
     "collapsed": false,
     "input": [
      "crawler.createindextables()"
     ],
     "language": "python",
     "metadata": {},
     "outputs": [],
     "prompt_number": 9
    },
    {
     "cell_type": "code",
     "collapsed": true,
     "input": [
      "import searchengine as se\n",
      "crawler=se.crawler('searchindex.db')\n",
      "crawler.createindextables()\n",
      "pagelist=['http://xkcd.com/1376/']\n",
      "crawler.crawl(pagelist)"
     ],
     "language": "python",
     "metadata": {},
     "outputs": [
      {
       "output_type": "stream",
       "stream": "stdout",
       "text": [
        "Indexing http://xkcd.com/1376/\n",
        "Indexing http://www.asofterworld.com"
       ]
      },
      {
       "output_type": "stream",
       "stream": "stdout",
       "text": [
        "\n",
        "Indexing http://blog.xkcd.com/2014/03/12/what-if-i-wrote-a-book/"
       ]
      },
      {
       "output_type": "stream",
       "stream": "stdout",
       "text": [
        "\n",
        "Indexing http://xkcd.com/1375/"
       ]
      },
      {
       "output_type": "stream",
       "stream": "stdout",
       "text": [
        "\n",
        "Indexing http://www.qwantz.com"
       ]
      },
      {
       "output_type": "stream",
       "stream": "stdout",
       "text": [
        "\n",
        "Indexing http://xkcd.com/1/"
       ]
      },
      {
       "output_type": "stream",
       "stream": "stdout",
       "text": [
        "\n",
        "Could not open http://questionablecontent.net/"
       ]
      },
      {
       "output_type": "stream",
       "stream": "stdout",
       "text": [
        "\n",
        "Indexing http://threewordphrase.com/"
       ]
      },
      {
       "output_type": "stream",
       "stream": "stdout",
       "text": [
        "\n",
        "Indexing http://xkcd.com/rss.xml"
       ]
      },
      {
       "output_type": "stream",
       "stream": "stdout",
       "text": [
        "\n",
        "Indexing http://buttersafe.com/"
       ]
      },
      {
       "output_type": "stream",
       "stream": "stdout",
       "text": [
        "\n",
        "Indexing http://pbfcomics.com/"
       ]
      },
      {
       "output_type": "stream",
       "stream": "stdout",
       "text": [
        "\n",
        "Indexing http://www.buttercupfestival.com/"
       ]
      },
      {
       "output_type": "stream",
       "stream": "stdout",
       "text": [
        "\n",
        "Indexing http://www.smbc-comics.com/"
       ]
      },
      {
       "output_type": "stream",
       "stream": "stdout",
       "text": [
        "\n",
        "Indexing http://blag.xkcd.com"
       ]
      },
      {
       "output_type": "stream",
       "stream": "stdout",
       "text": [
        "\n",
        "Indexing http://xkcd.com/license.html"
       ]
      },
      {
       "output_type": "stream",
       "stream": "stdout",
       "text": [
        "\n",
        "Indexing http://store.xkcd.com/"
       ]
      },
      {
       "output_type": "stream",
       "stream": "stdout",
       "text": [
        "\n",
        "Indexing http://c.xkcd.com/random/comic/"
       ]
      },
      {
       "output_type": "stream",
       "stream": "stdout",
       "text": [
        "\n",
        "Indexing http://xkcd.com/atom.xml"
       ]
      },
      {
       "output_type": "stream",
       "stream": "stdout",
       "text": [
        "\n",
        "Indexing http://xkcd.com/about"
       ]
      },
      {
       "output_type": "stream",
       "stream": "stdout",
       "text": [
        "\n",
        "Indexing http://oglaf.com/"
       ]
      },
      {
       "output_type": "stream",
       "stream": "stdout",
       "text": [
        "\n",
        "Indexing http://what-if.xkcd.com"
       ]
      },
      {
       "output_type": "stream",
       "stream": "stdout",
       "text": [
        "\n",
        "Indexing http://xkcd.com/1377/"
       ]
      },
      {
       "output_type": "stream",
       "stream": "stdout",
       "text": [
        "\n",
        "Indexing http://xkcd.com/"
       ]
      },
      {
       "output_type": "stream",
       "stream": "stdout",
       "text": [
        "\n",
        "Indexing http://creativecommons.org/licenses/by-nc/2.5/"
       ]
      },
      {
       "output_type": "stream",
       "stream": "stdout",
       "text": [
        "\n",
        "Indexing http://xkcd.com/archive"
       ]
      },
      {
       "output_type": "stream",
       "stream": "stdout",
       "text": [
        "\n"
       ]
      }
     ],
     "prompt_number": 2
    },
    {
     "cell_type": "code",
     "collapsed": false,
     "input": [
      "import searchengine as se\n",
      "crawler=se.crawler('searchindex.db')\n",
      "#print [row for row in crawler.con.execute('select * from urllist')]\n",
      "print ''\n",
      "#print [row for row in crawler.con.execute('select * from wordlocation')]\n",
      "print ''\n",
      "wl = [row for row in crawler.con.execute('select * from wordlist')]\n",
      "print ''\n",
      "print wl.index((u'project',))\n",
      "print wl.index((u'data',))\n",
      "print wl.index((u'example',))\n",
      "print ''\n",
      "print [row for row in crawler.con.execute('select * from wordlist')]\n",
      "print ''\n",
      " #print len([row for row in crawler.con.execute('select * from wordlist')])\n",
      "print ''\n",
      "# print [row for row in crawler.con.execute('select * from linkwords')]\n",
      "print ''\n",
      "# print [row for row in crawler.con.execute('select * from link')]\n",
      "\n",
      "uarxiv, usmart, ublog = 1 , 2, 3\n",
      "wproject, wdata, wexample = 2969, 1132, 1447"
     ],
     "language": "python",
     "metadata": {},
     "outputs": [
      {
       "output_type": "stream",
       "stream": "stdout",
       "text": [
        "\n",
        "\n",
        "\n",
        "2969\n",
        "1132\n",
        "1447\n",
        "\n",
        "[(u'0',), (u'00',), (u'000',), (u'0000',), (u'001',), (u'00z',), (u'01',), (u'012652707207066138651',), (u'02',), (u'02t00',), (u'03',), (u'04',), (u'04t00',), (u'05',), (u'06',), (u'06t00',), (u'07',), (u'08',), (u'099',), (u'0_abovethefold',), (u'1',), (u'10',), (u'100',), (u'1000',), (u'1009622',), (u'101',), (u'102',), (u'103',), (u'104',), (u'105',), (u'106',), (u'107',), (u'108',), (u'108489',), (u'109',), (u'11',), (u'110',), (u'111',), (u'1113',), (u'112',), (u'113',), (u'114',), (u'115',), (u'116',), (u'117',), (u'118',), (u'119',), (u'1190',), (u'11th',), (u'12',), (u'120',), (u'121',), (u'122',), (u'123',), (u'124',), (u'125',), (u'126',), (u'127',), (u'128',), (u'129',), (u'13',), (u'130',), (u'131',), (u'132',), (u'133',), (u'1336885156020',), (u'1337',), (u'134',), (u'135',), (u'136',), (u'137',), (u'1375',), (u'1376',), (u'1377',), (u'1378',), (u'138',), (u'139',), (u'14',), (u'140',), (u'141',), (u'142',), (u'143',), (u'14400',), (u'1493544',), (u'15',), (u'150',), (u'16',), (u'160x600',), (u'17',), (u'18',), (u'1848549571',), (u'188',), (u'189',), (u'19',), (u'190',), (u'191',), (u'1925',), (u'1960s',), (u'1987',), (u'1996',), (u'1999',), (u'19th',), (u'1_left',), (u'1nfbxwqsexc9rcbc3cbbu6hjxyssfugkh6',), (u'2',), (u'20',), (u'200',), (u'2001',), (u'2006',), (u'2007',), (u'2008',), (u'2009',), (u'2010',), (u'2010376',), (u'2011',), (u'2012',), (u'2013',), (u'2014',), (u'2016',), (u'2017',), (u'2023',), (u'2025',), (u'2028',), (u'2030',), (u'2035',), (u'2038',), (u'204',), (u'2043',), (u'2055',), (u'21',), (u'214',), (u'218',), (u'22',), (u'23',), (u'235',), (u'24',), (u'243',), (u'249',), (u'25',), (u'250',), (u'25700708',), (u'25th',), (u'26',), (u'261',), (u'268',), (u'27',), (u'272',), (u'28',), (u'281',), (u'29',), (u'29465',), (u'2948387',), (u'296795',), (u'2_right',), (u'2nd',), (u'3',), (u'30',), (u'300',), (u'30t00',), (u'30th',), (u'31',), (u'312',), (u'313842',), (u'315',), (u'32',), (u'33',), (u'3381',), (u'3382',), (u'34',), (u'35',), (u'350',), (u'36',), (u'365',), (u'37',), (u'3727700',), (u'38',), (u'38581',), (u'39',), (u'391',), (u'3c',), (u'3c1baa63bb42',), (u'3cscript',), (u'3d',), (u'3djngo',), (u'3e',), (u'3x9',), (u'4',), (u'40',), (u'407',), (u'41',), (u'415063',), (u'42',), (u'4237',), (u'43',), (u'44',), (u'441',), (u'45',), (u'45375',), (u'46',), (u'47',), (u'48',), (u'49',), (u'493',), (u'4942',), (u'4th',), (u'5',), (u'50',), (u'500',), (u'51',), (u'52',), (u'53',), (u'54',), (u'55',), (u'55f',), (u'56',), (u'57',), (u'58',), (u'59',), (u'5th',), (u'6',), (u'60',), (u'60m',), (u'61',), (u'614',), (u'62',), (u'6260',), (u'63',), (u'64',), (u'65',), (u'65px',), (u'66',), (u'67',), (u'68',), (u'69',), (u'69m',), (u'7',), (u'70',), (u'700',), (u'705',), (u'708',), (u'71',), (u'72',), (u'723',), (u'728',), (u'728x90',), (u'73',), (u'734',), (u'74',), (u'7403',), (u'746',), (u'75',), (u'76',), (u'768',), (u'76m',), (u'77',), (u'774',), (u'77m',), (u'78',), (u'78m',), (u'79',), (u'797',), (u'8',), (u'80',), (u'80m',), (u'81',), (u'81175630',), (u'81m',), (u'82',), (u'82m',), (u'83',), (u'84',), (u'85',), (u'86',), (u'8601',), (u'87',), (u'88',), (u'89',), (u'893',), (u'9',), (u'90',), (u'91',), (u'92',), (u'93',), (u'94',), (u'9447230',), (u'95',), (u'96',), (u'97',), (u'971',), (u'98',), (u'99',), (u'9pt',), (u'_',), (u'__st',), (u'_adddevid',), (u'_gaq',), (u'_gat',), (u'_gettracker',), (u'_initdata',), (u'_recaptcha_wordpress_savedcomment',), (u'_setaccount',), (u'_setallowlinker',), (u'_setdomainname',), (u'_trackpageview',), (u'a22b39c4b697',), (u'a49d',), (u'aaaaaa',), (u'abbr',), (u'ability',), (u'able',), (u'ablogalypse',), (u'about',), (u'above',), (u'abruptly',), (u'absolutely',), (u'abstraction',), (u'absurd',), (u'abusive',), (u'academia',), (u'access',), (u'accident',), (u'according',), (u'account',), (u'accounts',), (u'accurate',), (u'achewood',), (u'achievement',), (u'acres',), (u'acronym',), (u'across',), (u'action',), (u'actual',), (u'actually',), (u'actuarial',), (u'actuary',), (u'ad',), (u'adam',), (u'adapt',), (u'add',), (u'added',), (u'addeventlistener',), (u'addiction',), (u'adding',), (u'addition',), (u'additional',), (u'address',), (u'addservice',), (u'addthis',), (u'addthis_config',), (u'adjacent',), (u'adjectives',), (u'adjusting',), (u'admin',), (u'admiral',), (u'admission',), (u'adobe',), (u'ads',), (u'adults',), (u'advance',), (u'advanced',), (u'advantage',), (u'advent',), (u'advertising',), (u'advice',), (u'advocate',), (u'aeris',), (u'affected',), (u'afraid',), (u'after',), (u'aftercomic',), (u'again',), (u'against',), (u'age',), (u'ages',), (u'ago',), (u'agronox',), (u'aground',), (u'ahead',), (u'ai',), (u'air',), (u'airaware',), (u'airborne',), (u'aired',), (u'airfoil',), (u'airplane',), (u'airport',), (u'ais',), (u'alamos',), (u'alarm',), (u'albedo',), (u'albert',), (u'album',), (u'alert',), (u'alerting',), (u'alex',), (u'algebra',), (u'algorithm',), (u'algorithms',), (u'alice',), (u'align',), (u'all',), (u'allen',), (u'alliance',), (u'alligator',), (u'allowed',), (u'allowfullscreen',), (u'almost',), (u'alone',), (u'along',), (u'alongside',), (u'alpha',), (u'alphabet',), (u'already',), (u'also',), (u'alt',), (u'alternate',), (u'alternative',), (u'although',), (u'always',), (u'am',), (u'amazing',), (u'amazon',), (u'amend',), (u'amendment',), (u'america',), (u'american',), (u'americans',), (u'among',), (u'amount',), (u'amp',), (u'amps',), (u'amsmath',), (u'amssymbols',), (u'an',), (u'analogies',), (u'analysis',), (u'analytics',), (u'anatomy',), (u'ancestry',), (u'ancient',), (u'ancients',), (u'andrew',), (u'android',), (u'angular',), (u'animal',), (u'animals',), (u'animated',), (u'annotations',), (u'announce',), (u'announced',), (u'announcement',), (u'annoying',), (u'another',), (u'answer',), (u'answering',), (u'answers',), (u'antenna',), (u'anti',), (u'antoine',), (u'ants',), (u'anxiety',), (u'any',), (u'anymore',), (u'anything',), (u'anyway',), (u'anywhere',), (u'apart',), (u'apartments',), (u'aphasia',), (u'api',), (u'apis',), (u'apocalypse',), (u'apocalyptic',), (u'apocryphal',), (u'apologies',), (u'app',), (u'apparently',), (u'appear',), (u'appearances',), (u'appeared',), (u'appearing',), (u'appendchild',), (u'apple',), (u'applicable',), (u'application',), (u'applied',), (u'apply',), (u'appreciate',), (u'approach',), (u'appropriate',), (u'approximations',), (u'apps',), (u'april',), (u'aquarium',), (u'arachnoneurology',), (u'arbitration',), (u'arc',), (u'arcade',), (u'archimedes',), (u'archive',), (u'archived',), (u'archives',), (u'archway',), (u'are',), (u'area',), (u'arecibo',), (u'aren',), (u'argument',), (u'arguments',), (u'around',), (u'array',), (u'arrow',), (u'arsenic',), (u'art',), (u'article',), (u'articles',), (u'artist',), (u'artists',), (u'arts',), (u'as',), (u'aside',), (u'ask',), (u'asked',), (u'asleep',), (u'aspect',), (u'ass',), (u'asshole',), (u'assume',), (u'assumed',), (u'asteroid',), (u'astronaut',), (u'astronaut_vandalism',), (u'astronauts',), (u'astronomer',), (u'astronomical',), (u'astronomy',), (u'async',), (u'asyncload',), (u'at',), (u'atheists',), (u'atlantis',), (u'atom',), (u'attachautocompletion',), (u'attached',), (u'attachevent',), (u'attention',), (u'attitude',), (u'attribute',), (u'attributed',), (u'attributes',), (u'attribution',), (u'audiophiles',), (u'august',), (u'author',), (u'authorization',), (u'auto',), (u'autoconfig',), (u'automated',), (u'automatic',), (u'automatically',), (u'automation',), (u'ava',), (u'available',), (u'availablefonts',), (u'average',), (u'aversion',), (u'avoid',), (u'avoidance',), (u'awards',), (u'away',), (u'awesome',), (u'awfully',), (u'ayn',), (u'b',), (u'babies',), (u'baby',), (u'back',), (u'backward',), (u'backwards',), (u'bacon',), (u'bad',), (u'bag',), (u'bags',), (u'balance',), (u'ball',), (u'ballmer',), (u'balloon',), (u'balls',), (u'band',), (u'banding',), (u'bank',), (u'banned',), (u'banter',), (u'bar',), (u'barb',), (u'baring',), (u'barnes',), (u'barrel',), (u'barrel_cropped_',), (u'base',), (u'based',), (u'basinger',), (u'baskins',), (u'bass',), (u'bathroom',), (u'batman',), (u'batteries',), (u'battle',), (u'bay',), (u'bayesians',), (u'be',), (u'beach',), (u'bear',), (u'beat',), (u'beautiful',), (u'beauty',), (u'because',), (u'become',), (u'bed',), (u'bee',), (u'been',), (u'before',), (u'began',), (u'begin',), (u'beginning',), (u'begins',), (u'behavior',), (u'behind',), (u'being',), (u'bel',), (u'beliefs',), (u'below',), (u'best',), (u'bet',), (u'better',), (u'between',), (u'bewitched',), (u'bf',), (u'bible',), (u'bicycle',), (u'big',), (u'bigger',), (u'biggest',), (u'bill',), (u'billiards',), (u'billion',), (u'billy',), (u'binary',), (u'biologists',), (u'bip',), (u'birch',), (u'birds',), (u'birth',), (u'birthday',), (u'bit',), (u'bitcoins',), (u'bite',), (u'black',), (u'blade',), (u'blades',), (u'blag',), (u'blagofaire',), (u'blanket',), (u'blockbuster',), (u'blockquote',), (u'blog',), (u'blogging',), (u'blogofractal',), (u'blogs',), (u'blown',), (u'blue',), (u'blurring',), (u'boat',), (u'bob',), (u'bobby',), (u'bobcat',), (u'bobolinks',), (u'body',), (u'boingboing',), (u'bonding',), (u'book',), (u'bookmark',), (u'books',), (u'bookseller',), (u'bookshelf',), (u'bookstore',), (u'boombox',), (u'boomerang',), (u'boomerangs',), (u'border',), (u'borders',), (u'bored',), (u'borehole',), (u'boss',), (u'boston',), (u'bot',), (u'botanists',), (u'bottom',), (u'bought',), (u'bound',), (u'bout',), (u'bowl',), (u'box',), (u'boy',), (u'boyfriend',), (u'boys',), (u'br',), (u'bracelet',), (u'brackets',), (u'braille',), (u'brain',), (u'brakes',), (u'brand',), (u'branding',), (u'brandon',), (u'break',), (u'breakfast',), (u'breeze',), (u'brick',), (u'bridge',), (u'brightness',), (u'bringing',), (u'britain',), (u'broken',), (u'bromance',), (u'brontosaurus',), (u'brooklyn',), (u'broomstick',), (u'brothers',), (u'browns',), (u'browser',), (u'browsing',), (u'bsx',), (u'btc',), (u'btn',), (u'bubbles',), (u'budget',), (u'bug',), (u'build',), (u'building',), (u'built',), (u'bumble',), (u'bumblebees',), (u'bumper',), (u'bunch',), (u'bunny',), (u'burned',), (u'burning',), (u'bus',), (u'business',), (u'but',), (u'buttercup',), (u'butterflies',), (u'butterfly',), (u'buttersafe',), (u'button',), (u'buttons',), (u'buy',), (u'buying',), (u'buzzfeed',), (u'buzzin',), (u'by',), (u'c',), (u'cabin',), (u'cache',), (u'cached',), (u'cadbury',), (u'calculate',), (u'calculating',), (u'calculation',), (u'calendar',), (u'call',), (u'callback',), (u'called',), (u'callee',), (u'calls',), (u'came',), (u'campfire',), (u'campus',), (u'can',), (u'canada',), (u'cancel',), (u'candy',), (u'cannot',), (u'canyon',), (u'capital',), (u'captain',), (u'captcha',), (u'car',), (u'cards',), (u'career',), (u'carefully',), (u'caring',), (u'caroling',), (u'carolyn',), (u'carriage',), (u'carrie',), (u'cars',), (u'cartesian',), (u'carving',), (u'case',), (u'casino',), (u'castellano',), (u'casting',), (u'castle',), (u'castles',), (u'cat',), (u'catal',), (u'cataloged',), (u'catchers',), (u'catching',), (u'categories',), (u'caught',), (u'cause',), (u'cautionary',), (u'cave',), (u'cc',), (u'cd',), (u'cdata',), (u'cdn',), (u'cell',), (u'cellar',), (u'cells',), (u'cemetery',), (u'center',), (u'centrifugal',), (u'centrifuge',), (u'cereal',), (u'cereals',), (u'certain',), (u'certainty',), (u'certificate',), (u'cgleason',), (u'chain',), (u'chalked',), (u'champion',), (u'chance',), (u'change',), (u'changed',), (u'changes',), (u'changing',), (u'channel',), (u'chaos',), (u'chapter',), (u'character',), (u'charge',), (u'charity',), (u'chart',), (u'charts',), (u'chat',), (u'cheap',), (u'cheat',), (u'check',), (u'checkcodes',), (u'checker',), (u'cheesy',), (u'chess',), (u'cheston',), (u'chew',), (u'chiacchieri',), (u'children',), (u'chin',), (u'china',), (u'chips',), (u'choices',), (u'chore',), (u'chris',), (u'christian',), (u'christmas',), (u'christopher',), (u'chromakode',), (u'chrome',), (u'chromium',), (u'chuck',), (u'cia',), (u'circuit',), (u'circular',), (u'circumference',), (u'circus',), (u'cirith',), (u'citation',), (u'cite',), (u'citogenesis',), (u'city',), (u'claim',), (u'clarity',), (u'clark',), (u'clasbey',), (u'class',), (u'classhole',), (u'classic',), (u'clear',), (u'clears',), (u'clever',), (u'clich',), (u'click',), (u'clicked',), (u'clicking',), (u'client',), (u'climax',), (u'climb',), (u'climbing',), (u'clinically',), (u'clinton',), (u'close',), (u'closed',), (u'closer',), (u'closing',), (u'clothes',), (u'cloud',), (u'clouds',), (u'clown',), (u'club',), (u'clubs',), (u'clues',), (u'cmd',), (u'cnr',), (u'cnu',), (u'code',), (u'codes',), (u'coding',), (u'coil',), (u'coincidence',), (u'coinstar',), (u'coke',), (u'col',), (u'cold',), (u'collapse',), (u'collatz',), (u'collecting',), (u'collection',), (u'collections',), (u'college',), (u'collider',), (u'colliding',), (u'colonel',), (u'colophon',), (u'color',), (u'columbus',), (u'column',), (u'columns',), (u'com',), (u'combination',), (u'combined',), (u'combines',), (u'come',), (u'comedy',), (u'comes',), (u'cometh',), (u'comic',), (u'comicpress',), (u'comics',), (u'coming',), (u'command',), (u'commandeer',), (u'commander',), (u'comment',), (u'commented',), (u'comments',), (u'commercial',), (u'commercialuse',), (u'commit',), (u'commitment',), (u'commons',), (u'commonwealth',), (u'communication',), (u'communications',), (u'communion',), (u'communities',), (u'company',), (u'comparable',), (u'compare',), (u'compared',), (u'comparison',), (u'compass',), (u'compatibility',), (u'compatible',), (u'compatiblelicenses',), (u'compensation',), (u'compiler',), (u'compiling',), (u'complaint',), (u'complete',), (u'complex',), (u'complexion',), (u'comply',), (u'compression',), (u'computational',), (u'computer',), (u'computers',), (u'concealed',), (u'conditional',), (u'conditioning',), (u'conditionnally',), (u'conditions',), (u'config',), (u'confused',), (u'confusion',), (u'congratulations',), (u'congress',), (u'conjecture',), (u'conjectures',), (u'conjugate',), (u'conjure',), (u'connect',), (u'connected',), (u'connection',), (u'connections',), (u'connoisseur',), (u'consecutive',), (u'consistently',), (u'consists',), (u'console',), (u'conspiracy',), (u'constant',), (u'constantly',), (u'constraints',), (u'constructive',), (u'contact',), (u'contained',), (u'container',), (u'containing',), (u'contains',), (u'contemplating',), (u'content',), (u'context',), (u'contextbot',), (u'contexts',), (u'contextual',), (u'contingency',), (u'continue',), (u'contrast',), (u'contributed',), (u'control',), (u'conveniently',), (u'conversations',), (u'converting',), (u'convincing',), (u'cook',), (u'cookie',), (u'cookies',), (u'cool',), (u'coolest',), (u'cop',), (u'copies',), (u'copy',), (u'copyright',), (u'core',), (u'corliss',), (u'correction',), (u'corrections',), (u'correlation',), (u'cosmologist',), (u'cost',), (u'costs',), (u'cougars',), (u'could',), (u'council',), (u'count',), (u'countdown',), (u'counter',), (u'couple',), (u'coupon',), (u'course',), (u'cover',), (u'coverage',), (u'covertly',), (u'cowing',), (u'craigslist',), (u'crazy',), (u'creams',), (u'create',), (u'created',), (u'createelement',), (u'creates',), (u'creation',), (u'creative',), (u'creativecommons',), (u'creator',), (u'credit',), (u'creepy',), (u'crime',), (u'crisp',), (u'criteria',), (u'criticized',), (u'crocball',), (u'cromax',), (u'crossbows',), (u'crowdfunding',), (u'crowdsourcing',), (u'cryogenics',), (u'cryptography',), (u'cse',), (u'css',), (u'cta',), (u'cubic',), (u'culture',), (u'cultures',), (u'cupid',), (u'cups',), (u'cure',), (u'curie',), (u'curiosity',), (u'curious',), (u'currency',), (u'current',), (u'currently',), (u'curse',), (u'curve',), (u'customsearchcontrol',), (u'cut',), (u'cute',), (u'cutting',), (u'cuttlefish',), (u'cycle',), (u'cycles',), (u'd',), (u'd1da99fe',), (u'd2',), (u'dad',), (u'dadaist',), (u'damn',), (u'dan',), (u'dance',), (u'dangers',), (u'dangling',), (u'daniel',), (u'dansk',), (u'dark',), (u'darkness',), (u'darmok',), (u'dash',), (u'data',), (u'data_track_clickback',), (u'date',), (u'date2',), (u'dates',), (u'datetime',), (u'dating',), (u'daughter',), (u'davean',), (u'davey',), (u'david',), (u'dawn',), (u'day',), (u'days',), (u'db',), (u'dc',), (u'dcmitype',), (u'dcterms',), (u'de',), (u'deal',), (u'dealing',), (u'dear',), (u'death',), (u'debby',), (u'debian',), (u'debugger',), (u'decades',), (u'decals',), (u'december',), (u'decision',), (u'decline',), (u'decode',), (u'dedicated',), (u'dee',), (u'deed',), (u'deed3',), (u'deer',), (u'defined',), (u'defines',), (u'defineslot',), (u'definitely',), (u'degree',), (u'del',), (u'delicious',), (u'delivery',), (u'delta',), (u'demand',), (u'demolition',), (u'demosthenes',), (u'dennis',), (u'density',), (u'dental',), (u'dependencies',), (u'dependent',), (u'depth',), (u'depths',), (u'derek',), (u'derivative',), (u'derivativeworks',), (u'describes',), (u'description',), (u'desecration',), (u'desert',), (u'design',), (u'designated',), (u'designed',), (u'detail',), (u'detailed',), (u'details',), (u'deutsch',), (u'developing',), (u'development',), (u'devil',), (u'devotion',), (u'dfs',), (u'diagram',), (u'diameter',), (u'dice',), (u'dick',), (u'dictionary',), (u'did',), (u'didn',), (u'didnt',), (u'die',), (u'dies',), (u'diet',), (u'difference',), (u'differences',), (u'different',), (u'difficult',), (u'difficulties',), (u'digital',), (u'digits',), (u'dignified',), (u'dilemma',), (u'dilution',), (u'dimensional',), (u'diminutive',), (u'dinner',), (u'dinosaur',), (u'dinosaurs',), (u'diode',), (u'direction',), (u'directions',), (u'dirty',), (u'disassemble',), (u'disaster',), (u'disclaimer',), (u'discovery',), (u'discuss',), (u'discussion',), (u'disgusting',), (u'disorder',), (u'display',), (u'displaying',), (u'displaymath',), (u'dissects',), (u'distance',), (u'distributing',), (u'distribution',), (u'div',), (u'dne',), (u'do',), (u'doctitle',), (u'document',), (u'does',), (u'doesn',), (u'doing',), (u'doku',), (u'doll',), (u'domain',), (u'domcontentloaded',), (u'dominate',), (u'don',), (u'donald',), (u'donate',), (u'done',), (u'donner',), (u'door',), (u'doors',), (u'dorm',), (u'dot',), (u'double',), (u'doubleclick',), (u'doughnut',), (u'douglas',), (u'douleurs',), (u'down',), (u'download',), (u'dp',), (u'dpain',), (u'drag',), (u'dragging',), (u'dragon',), (u'drake',), (u'drama',), (u'drapes',), (u'draw',), (u'drawing',), (u'drawings',), (u'drawn',), (u'dream',), (u'dreamcatcher',), (u'dreamcatcher3000',), (u'dreams',), (u'dressed',), (u'drew',), (u'drift',), (u'drifts',), (u'drinking',), (u'driven',), (u'drivers',), (u'drm',), (u'droid',), (u'drop',), (u'dry',), (u'dt',), (u'dtd',), (u'du6',), (u'ducklings',), (u'due',), (u'duncan',), (u'durab',), (u'durin',), (u'duty',), (u'dwarf',), (u'dwelling',), (u'dying',), (u'dynamic',), (u'dyslexics',), (u'e',), (u'e9',), (u'each',), (u'eagle',), (u'earl',), (u'earlier',), (u'early',), (u'earth',), (u'earths',), (u'easter',), (u'eating',), (u'ecommerce',), (u'economic',), (u'eden',), (u'edge',), (u'edition',), (u'editions',), (u'editors',), (u'effect',), (u'effective',), (u'efficiency',), (u'efficient',), (u'egg',), (u'eggnancy',), (u'eggs',), (u'eight',), (u'einstein',), (u'either',), (u'election',), (u'electoral',), (u'electric',), (u'electromagnetic',), (u'elefino',), (u'elements',), (u'elevator',), (u'elevators',), (u'eleven',), (u'else',), (u'elsie',), (u'em',), (u'emad',), (u'email',), (u'emails',), (u'embed',), (u'embedded',), (u'embedding',), (u'emily',), (u'emoticon',), (u'emotion',), (u'emotional',), (u'empirical',), (u'en',), (u'en_us',), (u'enableservices',), (u'enablesinglerequest',), (u'encodeuricomponent',), (u'encoding',), (u'encounter',), (u'encourage',), (u'encryptic',), (u'end',), (u'ended',), (u'endif',), (u'endorses',), (u'ends',), (u'enemy',), (u'energy',), (u'engelbart',), (u'engineer',), (u'engineering',), (u'english',), (u'engrossing',), (u'engulf',), (u'enjoy',), (u'enjoyed',), (u'enlightenment',), (u'enough',), (u'enthusiasts',), (u'entire',), (u'entirely',), (u'entity',), (u'entry',), (u'environment',), (u'episode',), (u'epsilon',), (u'equal',), (u'equals',), (u'equation',), (u'equipment',), (u'error',), (u'es',), (u'escalators',), (u'escape',), (u'escher',), (u'esky',), (u'espa',), (u'especially',), (u'esperanto',), (u'essay',), (u'est',), (u'estimation',), (u'etc',), (u'etch',), (u'eternal',), (u'etymology',), (u'euphemisms',), (u'euro',), (u'europe',), (u'european',), (u'evan',), (u'evaporates',), (u'eve',), (u'even',), (u'evening',), (u'event',), (u'events',), (u'eventually',), (u'ever',), (u'every',), (u'everyone',), (u'everything',), (u'evolving',), (u'evt',), (u'ew',), (u'ex',), (u'example',), (u'excellent',), (u'exception',), (u'exceptions',), (u'excessive',), (u'exchanges',), (u'excited',), (u'excitedly',), (u'excuse',), (u'executive',), (u'exercise',), (u'existing',), (u'exoplanet',), (u'exoplanets',), (u'expectancies',), (u'expected',), (u'expedition',), (u'expensive',), (u'experiment',), (u'experimentation',), (u'expert',), (u'expires',), (u'expiring',), (u'expiry',), (u'explain',), (u'explains',), (u'explanation',), (u'exploits',), (u'explorer',), (u'explorers',), (u'explosion',), (u'expressions',), (u'extended',), (u'extension',), (u'extensions',), (u'extensive',), (u'externalities',), (u'extinction',), (u'extra',), (u'extrapolating',), (u'extreme',), (u'eye',), (u'eyelash',), (u'eyes',), (u'f',), (u'facebook',), (u'fact',), (u'factoring',), (u'fades',), (u'fads',), (u'fail',), (u'failure',), (u'fair',), (u'fairly',), (u'fairy',), (u'fall',), (u'falling',), (u'false',), (u'familiar',), (u'family',), (u'fan',), (u'fandom',), (u'fans',), (u'fantasy',), (u'faq',), (u'far',), (u'fascinating',), (u'fast',), (u'fastest',), (u'faust',), (u'favorite',), (u'fbshare',), (u'feathers',), (u'feature',), (u'featured',), (u'features',), (u'february',), (u'feed',), (u'feedback',), (u'feel',), (u'feelin',), (u'feeling',), (u'feelings',), (u'felidae',), (u'fell',), (u'fellowship',), (u'female',), (u'fences',), (u'fermirotica',), (u'ferret',), (u'festival',), (u'fetishes',), (u'few',), (u'fi',), (u'fiction',), (u'fictional',), (u'field',), (u'fields',), (u'fifty',), (u'fight',), (u'figure',), (u'figured',), (u'figures',), (u'file',), (u'files',), (u'filled',), (u'filler',), (u'fills',), (u'final',), (u'finally',), (u'find',), (u'finder',), (u'finds',), (u'fine',), (u'finish',), (u'finished',), (u'finneas',), (u'fire',), (u'firefox',), (u'firm',), (u'first',), (u'fish',), (u'fisher',), (u'five',), (u'fixation',), (u'fixed',), (u'fjs',), (u'flake',), (u'flame',), (u'flap',), (u'flash',), (u'flatland',), (u'flies',), (u'float',), (u'floated',), (u'floating',), (u'flock',), (u'flocks',), (u'flood',), (u'floor',), (u'flow',), (u'flowchart',), (u'flowers',), (u'flowing',), (u'flu',), (u'flurry',), (u'fly',), (u'flying',), (u'focus',), (u'folder',), (u'foliage',), (u'follow',), (u'followed',), (u'following',), (u'font',), (u'food',), (u'foonetic',), (u'footer',), (u'footnote',), (u'for',), (u'fora',), (u'force',), (u'ford',), (u'forecast',), (u'foreign',), (u'forest',), (u'forever',), (u'forget',), (u'forgetting',), (u'forgot',), (u'forks',), (u'form',), (u'formal',), (u'format',), (u'former',), (u'formula',), (u'fort',), (u'fortress',), (u'fortunately',), (u'fortune',), (u'forum',), (u'forums',), (u'forward',), (u'fosca',), (u'found',), (u'fountain',), (u'fountains',), (u'four',), (u'fourier',), (u'foxtrot',), (u'fps',), (u'fragment',), (u'frame',), (u'frameborder',), (u'frames',), (u'fran',), (u'frat',), (u'freaking',), (u'freakonomics',), (u'free',), (u'freedom',), (u'freedoms',), (u'freely',), (u'freemanic',), (u'frequency',), (u'frequentists',), (u'frequently',), (u'fretting',), (u'fri',), (u'friday',), (u'friend',), (u'friends',), (u'frogger',), (u'from',), (u'front',), (u'frost',), (u'frowned',), (u'frustration',), (u'fu',), (u'fuck',), (u'fucking',), (u'fuel',), (u'full',), (u'fun',), (u'function',), (u'functional',), (u'funny',), (u'furious',), (u'further',), (u'furtive',), (u'future',), (u'g',), (u'ga',), (u'gable',), (u'gads',), (u'gained',), (u'gajshost',), (u'galego',), (u'galilean',), (u'gallery',), (u'gamblin',), (u'game',), (u'games',), (u'garfield',), (u'gargantuan',), (u'garlick',), (u'gary',), (u'gas',), (u'gather',), (u'gathered',), (u'gbp',), (u'geek',), (u'geeks',), (u'geekwagon',), (u'geico',), (u'gender',), (u'genders',), (u'general',), (u'generated',), (u'generation',), (u'generic',), (u'genetic',), (u'genius',), (u'geoguessr',), (u'geohashing',), (u'geoip',), (u'geologist',), (u'geology',), (u'george',), (u'gergely',), (u'german',), (u'get',), (u'getblock',), (u'getelementbyid',), (u'getelementsbytagname',), (u'gets',), (u'getstyle',), (u'gettime',), (u'getting',), (u'ghost',), (u'ghostbusters',), (u'giant',), (u'gift',), (u'gigaknight',), (u'gimmick',), (u'gingerbread',), (u'giraffes',), (u'girl',), (u'girlfriend',), (u'girls',), (u'git',), (u'give',), (u'given',), (u'glass',), (u'glen',), (u'glitches',), (u'gloom',), (u'glue',), (u'gnome',), (u'go',), (u'goal',), (u'goat',), (u'god',), (u'godel',), (u'goer',), (u'goes',), (u'going',), (u'goldbach',), (u'golden',), (u'golf',), (u'gone',), (u'good',), (u'goodbye',), (u'goodnight',), (u'google',), (u'googleanalyticsobject',), (u'googletag',), (u'googletagservices',), (u'googling',), (u'gopher',), (u'got',), (u'gotcha',), (u'goth',), (u'goto',), (u'governed',), (u'gps',), (u'gpt',), (u'grade',), (u'gradually',), (u'graduate',), (u'graduation',), (u'graffiti',), (u'grammar',), (u'grams',), (u'grandfather',), (u'grapefruit',), (u'graph',), (u'graphing',), (u'gravitational',), (u'gravity',), (u'great',), (u'green',), (u'grew',), (u'ground',), (u'groundhog',), (u'group',), (u'groups',), (u'growing',), (u'grownups',), (u'grumbles',), (u'gry',), (u'gt',), (u'guarantee',), (u'guaranteeing',), (u'guarded',), (u'guess',), (u'guest',), (u'guide',), (u'guitar',), (u'gun',), (u'guntron',), (u'gurewitch',), (u'guy',), (u'gyroscopes',), (u'h',), (u'habitable',), (u'hack',), (u'hackers',), (u'hacks',), (u'had',), (u'hadron',), (u'haiku',), (u'half',), (u'hall',), (u'hallucinations',), (u'halsey',), (u'halting',), (u'hamiltonian',), (u'hammer',), (u'hammill',), (u'hamster',), (u'hand',), (u'hang',), (u'happen',), (u'happened',), (u'happening',), (u'happy',), (u'harassment',), (u'harcourt',), (u'hard',), (u'hark',), (u'harrison',), (u'harry',), (u'has',), (u'hash',), (u'haskell',), (u'hasn',), (u'hastings',), (u'hat',), (u'hate',), (u'hats',), (u'have',), (u'haven',), (u'hawk',), (u'hawking',), (u'hdtv',), (u'he',), (u'head',), (u'headache',), (u'header',), (u'headlines',), (u'headshot',), (u'health',), (u'hear',), (u'heard',), (u'heart',), (u'heartbleed',), (u'heat',), (u'heatmap',), (u'heaven',), (u'heavier',), (u'height',), (u'heist',), (u'hell',), (u'helmet',), (u'help',), (u'helpfully',), (u'helping',), (u'her',), (u'here',), (u'hero',), (u'herpetology',), (u'herron',), (u'hey',), (u'hiccups',), (u'hidden',), (u'hide',), (u'hideblock',), (u'high',), (u'highest',), (u'highlighting',), (u'highlights',), (u'highway',), (u'hints',), (u'hipsters',), (u'his',), (u'history',), (u'hit',), (u'hitler',), (u'hmmmmmm',), (u'hobby',), (u'hofstadter',), (u'holes',), (u'holy',), (u'home',), (u'homeownership',), (u'honest',), (u'hong',), (u'honk',), (u'honor',), (u'hood',), (u'hooded',), (u'hoodie',), (u'hooper',), (u'hope',), (u'hopeful',), (u'hopefully',), (u'host',), (u'hotels',), (u'hotlinking',), (u'houghton',), (u'hour',), (u'hours',), (u'house',), (u'hover',), (u'how',), (u'however',), (u'hows',), (u'href',), (u'hrvatski',), (u'html',), (u'html5',), (u'http',), (u'https',), (u'hub',), (u'hubris',), (u'hug',), (u'huge',), (u'hulbert',), (u'human',), (u'humming',), (u'humor',), (u'hungry',), (u'hunter',), (u'hurricane',), (u'hurricanes',), (u'hybris',), (u'hypertext',), (u'hyphen',), (u'hypochondriac',), (u'hypothesis',), (u'hypothetical',), (u'hypotheticals',), (u'i',), (u'iambic',), (u'ian',), (u'ibm',), (u'ice',), (u'icons',), (u'id',), (u'idea',), (u'ideas',), (u'identity',), (u'idiocracy',), (u'idiot',), (u'ie',), (u'ie6',), (u'ie6submenus',), (u'ie7',), (u'ie8',), (u'if',), (u'iframe',), (u'ii',), (u'illegal',), (u'illness',), (u'illustrating',), (u'image',), (u'images',), (u'imagine',), (u'imagined',), (u'img',), (u'imgs',), (u'immensely',), (u'implement',), (u'implied',), (u'important',), (u'impostor',), (u'impressed',), (u'improve',), (u'improved',), (u'improvised',), (u'inc',), (u'incident',), (u'incision',), (u'include',), (u'includes',), (u'including',), (u'increase',), (u'increased',), (u'incredible',), (u'indecision',), (u'indicate',), (u'indication',), (u'indie',), (u'individuals',), (u'indonesia',), (u'induced',), (u'ineffective',), (u'inexplicable',), (u'infection',), (u'inferring',), (u'infinite',), (u'inflammatory',), (u'inflation',), (u'info',), (u'infographics',), (u'information',), (u'informs',), (u'infrastructures',), (u'ingredient',), (u'ingredients',), (u'inherently',), (u'initiative',), (u'inline',), (u'inlinemath',), (u'input',), (u'insertbefore',), (u'inserts',), (u'inside',), (u'insight',), (u'insightful',), (u'insomnia',), (u'inspection',), (u'inspired',), (u'instability',), (u'instagram',), (u'installed',), (u'installing',), (u'instant',), (u'instead',), (u'int',), (u'integration',), (u'intelligence',), (u'intend',), (u'intended',), (u'interblag',), (u'interdisciplinary',), (u'interested',), (u'interesting',), (u'interface',), (u'internal',), (u'international',), (u'internet',), (u'interpreted',), (u'interstellar',), (u'interview',), (u'interviewing',), (u'into',), (u'intrepid',), (u'intuitive',), (u'invent',), (u'investing',), (u'invisible',), (u'involve',), (u'ipad',), (u'iphone',), (u'ipod',), (u'ir',), (u'irc',), (u'ironically',), (u'irons',), (u'irony',), (u'isee',), (u'island',), (u'isn',), (u'iso',), (u'issue',), (u'issues',), (u'italiano',), (u'itchy',), (u'items',), (u'its',), (u'ivatan',), (u'j',), (u'jacket',), (u'jacks',), (u'jacques',), (u'jalad',), (u'james',), (u'january',), (u'javascript',), (u'javascripts',), (u'jaws',), (u'jax',), (u'jealousy',), (u'jeans',), (u'jeeves',), (u'jeff',), (u'jeffrey',), (u'jeph',), (u'jeremy',), (u'jeroen',), (u'jersey',), (u'jesus',), (u'jet',), (u'job',), (u'joel',), (u'joey',), (u'jog',), (u'jogging',), (u'join',), (u'joke',), (u'jokes',), (u'jones',), (u'jonesid',), (u'jordan',), (u'joshing',), (u'journal',), (u'journey',), (u'jpg',), (u'jquery',), (u'js',), (u'json',), (u'jssdk',), (u'judgmental',), (u'juggling',), (u'juicer',), (u'julia',), (u'july',), (u'jump',), (u'jumptorandom',), (u'jun',), (u'june',), (u'jupiter',), (u'just',), (u'justin',), (u'k',), (u'karnaugh',), (u'katamari',), (u'kate',), (u'kayak',), (u'keep',), (u'keeping',), (u'keith',), (u'ken',), (u'kepler',), (u'kept',), (u'kerning',), (u'key',), (u'keyboard',), (u'keyboards',), (u'keycode',), (u'keyed',), (u'keynote',), (u'keyup',), (u'kickstarter',), (u'kid',), (u'kids',), (u'kill',), (u'killed',), (u'kilobyte',), (u'kilometers',), (u'kind',), (u'kinder',), (u'kindle',), (u'kinds',), (u'kite',), (u'kitty',), (u'klout',), (u'knights',), (u'know',), (u'knowledge',), (u'known',), (u'knuth',), (u'kola',), (u'kolmogorov',), (u'konamiarray',), (u'konamicomic',), (u'konamiseq',), (u'kong',), (u'kurt',), (u'l',), (u'la',), (u'label',), (u'labyrinth',), (u'labyrinths',), (u'ladies',), (u'lady',), (u'lakes',), (u'lamp',), (u'lampreys',), (u'land',), (u'landing',), (u'landscape',), (u'lanes',), (u'lang',), (u'langley',), (u'language',), (u'languages',), (u'laptop',), (u'large',), (u'larger',), (u'largest',), (u'laser',), (u'last',), (u'late',), (u'later',), (u'latest',), (u'latitude',), (u'launch',), (u'launched',), (u'laundry',), (u'laura',), (u'laurie',), (u'lava',), (u'law',), (u'lawyer',), (u'layers',), (u'layout',), (u'lazy',), (u'ld50',), (u'le',), (u'league',), (u'learn',), (u'learned',), (u'learning',), (u'lease',), (u'least',), (u'leave',), (u'leaving',), (u'ledasha',), (u'left',), (u'legal',), (u'legally',), (u'legend',), (u'lego',), (u'leibniz',), (u'length',), (u'leopard',), (u'les',), (u'lesson',), (u'let',), (u'letter',), (u'letters',), (u'letting',), (u'level',), (u'levels',), (u'lewis',), (u'liberal',), (u'librarians',), (u'library',), (u'license',), (u'license_uri',), (u'licensed',), (u'licenses',), (u'licensing',), (u'licensor',), (u'lietuvi',), (u'life',), (u'light',), (u'lights',), (u'like',), (u'liked',), (u'likely',), (u'limerick',), (u'limit',), (u'limitation',), (u'limitations',), (u'limited',), (u'lincoln',), (u'line',), (u'liners',), (u'lines',), (u'linguists',), (u'link',), (u'linked',), (u'linking',), (u'links',), (u'linux',), (u'lisp',), (u'list',), (u'listed',), (u'listen',), (u'listening',), (u'listing',), (u'literally',), (u'literature',), (u'lithium',), (u'little',), (u'live',), (u'livejournal',), (u'lives',), (u'living',), (u'lizard',), (u'll',), (u'load',), (u'loader',), (u'local',), (u'localvores',), (u'location',), (u'locke',), (u'log',), (u'logged',), (u'logic',), (u'logically',), (u'logo',), (u'lojban',), (u'long',), (u'longer',), (u'look',), (u'looking',), (u'looks',), (u'lookup',), (u'loop',), (u'lord',), (u'lorenz',), (u'los',), (u'lose',), (u'lost',), (u'lot',), (u'loud',), (u'love',), (u'loves',), (u'lovin',), (u'low',), (u'lower',), (u'lowercase',), (u'lt',), (u'ltr',), (u'luck',), (u'luke',), (u'lurk',), (u'lyles',), (u'm',), (u'mac',), (u'macgyver',), (u'machine',), (u'machines',), (u'made',), (u'madness',), (u'magazine',), (u'magi',), (u'magic',), (u'magnimus',), (u'magyar',), (u'mail',), (u'main',), (u'maintenance',), (u'major',), (u'majors',), (u'make',), (u'makes',), (u'making',), (u'malamanteau',), (u'malaria',), (u'mammals',), (u'man',), (u'management',), (u'manner',), (u'mans',), (u'manual',), (u'manuals',), (u'manuscript',), (u'manusha',), (u'many',), (u'map',), (u'maps',), (u'marathon',), (u'march',), (u'margin',), (u'marie',), (u'mario',), (u'mark',), (u'marked',), (u'marketing',), (u'marking',), (u'markup',), (u'marrry',), (u'marry',), (u'mars',), (u'marshmallow',), (u'marthas',), (u'masculator',), (u'masks',), (u'mass',), (u'massachusetts',), (u'massive',), (u'match',), (u'material',), (u'math',), (u'mathematics',), (u'mathjax',), (u'matrix',), (u'matter',), (u'matters',), (u'mattress',), (u'may',), (u'maybe',), (u'me',), (u'mean',), (u'meaningful',), (u'means',), (u'meantime',), (u'measure',), (u'measures',), (u'meat',), (u'mechanics',), (u'media',), (u'mediation',), (u'mediterranean',), (u'medium',), (u'meerkat',), (u'meet',), (u'megatokyo',), (u'melayu',), (u'memes',), (u'memorabilia',), (u'menace',), (u'mentioned',), (u'mentos',), (u'menu',), (u'merchandizing',), (u'mercy',), (u'merely',), (u'merlin',), (u'mess',), (u'message',), (u'meta',), (u'metabolism',), (u'metadata',), (u'metallurgy',), (u'metamaterials',), (u'meteor',), (u'meteors',), (u'meter',), (u'metric',), (u'mic',), (u'mice',), (u'michael',), (u'microsd',), (u'microsoft',), (u'middle',), (u'mifflin',), (u'miggs',), (u'might',), (u'miles',), (u'milestones',), (u'milk',), (u'million',), (u'millionaire',), (u'mime',), (u'mimic',), (u'mind',), (u'mindlessly',), (u'mindvirus',), (u'mine',), (u'minifigs',), (u'mining',), (u'minus',), (u'minute',), (u'minutes',), (u'mirror',), (u'mirrors',), (u'misconceptions',), (u'mispronouncing',), (u'miss',), (u'missed',), (u'missing',), (u'mission',), (u'mistake',), (u'mistranslations',), (u'misusing',), (u'mitt',), (u'mittens',), (u'mnemonics',), (u'mobile',), (u'mobius',), (u'mod',), (u'model',), (u'modern',), (u'modifications',), (u'modified',), (u'mole',), (u'mom',), (u'momentum',), (u'mon',), (u'monday',), (u'monetary',), (u'money',), (u'monkey',), (u'monologue',), (u'monster',), (u'montage',), (u'months',), (u'monty',), (u'moon',), (u'moons',), (u'moral',), (u'morbid',), (u'more',), (u'moria',), (u'morning',), (u'morse',), (u'morte',), (u'most',), (u'mostly',), (u'mother',), (u'motion',), (u'mountain',), (u'mourning',), (u'mouse',), (u'mouseover',), (u'mousepad',), (u'moved',), (u'movie',), (u'movies',), (u'moving',), (u'mozallowfullscreen',), (u'mozilla',), (u'mr',), (u'mrs',), (u'mtv',), (u'mu',), (u'much',), (u'mug',), (u'mullarkey',), (u'munroe',), (u'murray',), (u'music',), (u'mussolini',), (u'must',), (u'mutant',), (u'mutual',), (u'my',), (u'myshopify',), (u'myspace',), (u'mystery',), (u'myth',), (u'n',), (u'na',), (u'nachos',), (u'nail',), (u'name',), (u'named',), (u'names',), (u'naming',), (u'nanobots',), (u'narrative',), (u'nasa',), (u'nash',), (u'natalie',), (u'national',), (u'natural',), (u'naturally',), (u'nautical',), (u'nav',), (u'navigation',), (u'nbsp',), (u'nc',), (u'nearby',), (u'neat',), (u'nebula',), (u'necessary',), (u'necklace',), (u'nederlands',), (u'need',), (u'needed',), (u'needing',), (u'neighborhood',), (u'nerd',), (u'nerds',), (u'nerve',), (u'net',), (u'network',), (u'networking',), (u'neutrality',), (u'neutrinos',), (u'nevaeh',), (u'never',), (u'new',), (u'newest',), (u'newport',), (u'news',), (u'newsletters',), (u'newspaper',), (u'newton',), (u'next',), (u'nextsibling',), (u'ni',), (u'nice',), (u'nicholas',), (u'nicknames',), (u'night',), (u'nightmare',), (u'nightmares',), (u'nighttime',), (u'nihilism',), (u'nils',), (u'nine',), (u'ninja',), (u'nintendo',), (u'no',), (u'noble',), (u'nobody',), (u'noconflict',), (u'node',), (u'nolan',), (u'nomenclature',), (u'noncommercial',), (u'noncommercially',), (u'none',), (u'nor',), (u'normal',), (u'norsk',), (u'north',), (u'nostalgia',), (u'not',), (u'note',), (u'notebooks',), (u'nothing',), (u'notice',), (u'noticeable',), (u'noticed',), (u'notices',), (u'notification',), (u'novels',), (u'november',), (u'now',), (u'nowhere',), (u'np',), (u'nro',), (u'ns',), (u'nsfw',), (u'nude',), (u'null',), (u'num',), (u'number',), (u'numbers',), (u'numerical',), (u'nunez',), (u'nye',), (u'o',), (u'o5cug',), (u'object',), (u'objects',), (u'oblique',), (u'obscure',), (u'obsessively',), (u'obtain',), (u'obvious',), (u'occasional',), (u'occasionally',), (u'occulting',), (u'ocean',), (u'oceans',), (u'october',), (u'octopus',), (u'odd',), (u'off',), (u'offer',), (u'office',), (u'official',), (u'offset',), (u'often',), (u'oglaf',), (u'oh',), (u'ohm',), (u'ok',), (u'okay',), (u'okcupid',), (u'old',), (u'older',), (u'olivia',), (u'on',), (u'oncartshippingratesupdate',), (u'once',), (u'onclick',), (u'one',), (u'ones',), (u'onkeyup',), (u'online',), (u'onload',), (u'only',), (u'oort',), (u'open',), (u'opened',), (u'operation',), (u'operational',), (u'opinion',), (u'opinions',), (u'optimizing',), (u'option',), (u'options',), (u'or',), (u'orbit',), (u'orbital',), (u'orbitals',), (u'orbiter',), (u'orchid',), (u'order',), (u'orders',), (u'oregon',), (u'org',), (u'organic',), (u'organization',), (u'original',), (u'orion',), (u'orphanage',), (u'orphaned',), (u'other',), (u'others',), (u'otherwise',), (u'our',), (u'out',), (u'outbreak',), (u'output',), (u'outreach',), (u'outright',), (u'outside',), (u'outstanding',), (u'over',), (u'overall',), (u'overcompensating',), (u'overfocus',), (u'overqualified',), (u'override',), (u'oversight',), (u'overstimulated',), (u'own',), (u'owned',), (u'ownership',), (u'p',), (u'pace',), (u'pacific',), (u'pack',), (u'package',), (u'packages',), (u'padding',), (u'page',), (u'pages',), (u'pagetracker',), (u'pageview',), (u'pain',), (u'pair',), (u'pale',), (u'paleontology',), (u'pals',), (u'pancakes',), (u'pandora',), (u'panel',), (u'panels',), (u'paper',), (u'papers',), (u'papyrus',), (u'paracusia',), (u'paradise',), (u'paragraph',), (u'parallel',), (u'paranoia',), (u'parental',), (u'parenting',), (u'parentnode',), (u'parents',), (u'parking',), (u'parody',), (u'part',), (u'particularly',), (u'parties',), (u'parts',), (u'party',), (u'pass',), (u'passed',), (u'password',), (u'past',), (u'pastime',), (u'path',), (u'paths',), (u'patient',), (u'paypal',), (u'pbs',), (u'pc',), (u'pdf',), (u'peak',), (u'pedantic',), (u'peers',), (u'peeve',), (u'penguin',), (u'penis',), (u'penises',), (u'penny',), (u'pentameter',), (u'people',), (u'pep',), (u'pequin',), (u'per',), (u'percentage',), (u'perception',), (u'perfect',), (u'perfectly',), (u'performance',), (u'perhaps',), (u'period',), (u'perl',), (u'permalink',), (u'permanence',), (u'permanent',), (u'permelia',), (u'permission',), (u'permissions',), (u'permits',), (u'permitted',), (u'perry',), (u'personal',), (u'perspective',), (u'pet',), (u'petals',), (u'peter',), (u'petit',), (u'pgp',), (u'phantom',), (u'phelps',), (u'phenomena',), (u'phil',), (u'philosophy',), (u'phobia',), (u'phone',), (u'phones',), (u'phonetic',), (u'photo',), (u'photographer',), (u'photos',), (u'photoshops',), (u'phrase',), (u'phrases',), (u'physicists',), (u'physics',), (u'pi',), (u'piano',), (u'pick',), (u'pickup',), (u'pictures',), (u'pillar',), (u'pillow',), (u'pilots',), (u'pin',), (u'pinterest',), (u'pirate',), (u'pit',), (u'pix',), (u'pixel',), (u'place',), (u'places',), (u'plait',), (u'plan',), (u'plane',), (u'planet',), (u'planned',), (u'planning',), (u'plans',), (u'plastic',), (u'plate',), (u'platform',), (u'plausible',), (u'player',), (u'playing',), (u'please',), (u'pleiades',), (u'plexus',), (u'plusone',), (u'plz',), (u'pm',), (u'pneumail',), (u'png',), (u'po',), (u'pod',), (u'poetry',), (u'point',), (u'pointer',), (u'pointers',), (u'points',), (u'poisson',), (u'pokemon',), (u'polar',), (u'police',), (u'policy',), (u'politicians',), (u'poll',), (u'polo',), (u'polonkai',), (u'polski',), (u'pong',), (u'pools',), (u'poor',), (u'pop',), (u'popular',), (u'popularity',), (u'population',), (u'pore',), (u'pored',), (u'porn',), (u'portfolio',), (u'portugu',), (u'pose',), (u'position',), (u'positions',), (u'positive',), (u'possible',), (u'possibly',), (u'post',), (u'posted',), (u'poster',), (u'posting',), (u'posts',), (u'potential',), (u'potentially',), (u'pounds',), (u'powered',), (u'powerful',), (u'powers',), (u'practically',), (u'prairie',), (u'prank',), (u'pranks',), (u'pre',), (u'precaution',), (u'precedent',), (u'prefer',), (u'preferred',), (u'premiere',), (u'preorder',), (u'preordered',), (u'present',), (u'presentations',), (u'preserves',), (u'president',), (u'press',), (u'pressures',), (u'pretty',), (u'prev',), (u'previous',), (u'price',), (u'primarily',), (u'primary',), (u'principle',), (u'print',), (u'printed',), (u'printer',), (u'printers',), (u'prints',), (u'prior',), (u'priorities',), (u'privacy',), (u'probabilities',), (u'probability',), (u'probably',), (u'probe',), (u'problem',), (u'problems',), (u'processescapes',), (u'produce',), (u'produces',), (u'product',), (u'products',), (u'profile',), (u'profit',), (u'progeny',), (u'program',), (u'programmers',), (u'progress',), (u'progressed',), (u'progressing',), (u'prohibits',), (u'project',), (u'projection',), (u'projections',), (u'projects',), (u'projectwonderful',), (u'projectwonderful_adbox_id',), (u'projectwonderful_adbox_type',), (u'projectwonderful_background_color',), (u'projectwonderful_foreground_color',), (u'prometheus',), (u'pronounced',), (u'pronunciation',), (u'proof',), (u'properly',), (u'properties',), (u'protection',), (u'protester',), (u'protocol',), (u'proudly',), (u'provide',), (u'provides',), (u'providing',), (u'provoke',), (u'proxies',), (u'proximity',), (u'prudence',), (u'psychic',), (u'psychoanalyst',), (u'pubads',), (u'public',), (u'publication',), (u'publications',), (u'publicity',), (u'published',), (u'publisher',), (u'publishers',), (u'puerto',), (u'pumpkin',), (u'pun',), (u'punch',), (u'punishment',), (u'puppy',), (u'purchase',), (u'purity',), (u'purl',), (u'purposes',), (u'pursue',), (u'pursuit',), (u'push',), (u'pushing',), (u'put',), (u'puzzle',), (u'pw_d',), (u'pw_load',), (u'pwa',), (u'pwned',), (u'py',), (u'pyro',), (u'python',), (u'q',), (u'qr',), (u'quantities',), (u'quantity',), (u'quantum',), (u'queries',), (u'question',), (u'questionable',), (u'questions',), (u'quicksort',), (u'quirky',), (u'quite',), (u'quiz',), (u'quotation',), (u'qwertial',), (u'r',), (u'r2',), (u'race',), (u'rachel',), (u'radar',), (u'radio',), (u'raft',), (u'rage',), (u'rail',), (u'rainbow',), (u'raised',), (u'rally',), (u'ran',), (u'randall',), (u'random',), (u'raptor',), (u'raptors',), (u'rate',), (u'rates',), (u'ratification',), (u'rating',), (u'ratings',), (u'ratio',), (u'raven',), (u'raw',), (u'ray',), (u'rba',), (u'rdf',), (u'rdfa',), (u're',), (u'reach',), (u'reached',), (u'react',), (u'reactions',), (u'read',), (u'readable',), (u'reader',), (u'readers',), (u'reading',), (u'real',), (u'realistic',), (u'reality',), (u'really',), (u'reason',), (u'reasonable',), (u'reassuring',), (u'recaptcha',), (u'recaptcha_table',), (u'recaptchaoptions',), (u'received',), (u'recent',), (u'recentcomments',), (u'recipes',), (u'recommend',), (u'reconstruct',), (u'reconstructing',), (u'record',), (u'recycling',), (u'red',), (u'reddit',), (u'reddit_url',), (u'redistribute',), (u'redwall',), (u'refbody',), (u'reference',), (u'references',), (u'referrer',), (u'refine',), (u'refnum',), (u'refridgeron',), (u'refrigerator',), (u'regarding',), (u'regex',), (u'register',), (u'regrets',), (u'regular',), (u'rejection',), (u'rel',), (u'related',), (u'relationship',), (u'relativity',), (u'release',), (u'released',), (u'relicense',), (u'religion',), (u'religions',), (u'reload',), (u'remain',), (u'rembrandt',), (u'remember',), (u'remembered',), (u'reminder',), (u'remix',), (u'renamed',), (u'renaming',), (u'rendering',), (u'reno',), (u'replaced',), (u'replies',), (u'reply',), (u'report',), (u'reports',), (u'reprint',), (u'reprinting',), (u'reproduction',), (u'request',), (u'require',), (u'required',), (u'requires',), (u'rescuing',), (u'research',), (u'researcher',), (u'reserve',), (u'reserved',), (u'reset',), (u'resolution',), (u'resonance',), (u'resource',), (u'respirometry',), (u'respond',), (u'responsible',), (u'rest',), (u'restraining',), (u'restrict',), (u'restrictions',), (u'results',), (u'resurrection',), (u'retain',), (u'retired',), (u'retiring',), (u'retro',), (u'return',), (u'returning',), (u'reuse',), (u'reveal',), (u'revenge',), (u'reverse',), (u'review',), (u'reviews',), (u'revised',), (u'revisions',), (u'revisited',), (u'revival',), (u'revoke',), (u'revolution',), (u'revolutionary',), (u'rewiring',), (u'rex',), (u'rhino',), (u'rhymes',), (u'rich',), (u'rico',), (u'ride',), (u'riding',), (u'riemann',), (u'right',), (u'rights',), (u'rightsholder',), (u'rigor',), (u'ring',), (u'ringtone',), (u'risk',), (u'rita',), (u'river',), (u'rk',), (u'rks5yjdxhpe',), (u'road',), (u'robert',), (u'robin',), (u'robot',), (u'robots',), (u'rock',), (u'rockethub',), (u'rocks',), (u'rodeo',), (u'rogers',), (u'role',), (u'roleplaying',), (u'roll',), (u'romance',), (u'romantic',), (u'romanticized',), (u'romney',), (u'room',), (u'rose',), (u'rotating',), (u'rotation',), (u'rotb',), (u'routine',), (u'rowland',), (u'roxanne',), (u'rps',), (u'rss',), (u'rtfm',), (u'rubber',), (u'rubisco',), (u'rudder',), (u'rudy',), (u'rule',), (u'rules',), (u'run',), (u'runner',), (u'russian',), (u'rust',), (u'ryan',), (u's',), (u'sad',), (u'sadly',), (u'sagan',), (u'said',), (u'sail',), (u'salesman',), (u'samantha',), (u'same',), (u'sample',), (u'sampling',), (u'sand',), (u'sandwich',), (u'sanitizer',), (u'sarah',), (u'sarcasm',), (u'satans',), (u'satisfied',), (u'saturday',), (u'savannah',), (u'savings',), (u'saw',), (u'says',), (u'scale',), (u'scanning',), (u'scantron',), (u'scary',), (u'scenario',), (u'scene',), (u'scenes',), (u'schedule',), (u'scheduling',), (u'schlorbians',), (u'schmeutrality',), (u'school',), (u'schrodinger',), (u'sci',), (u'science',), (u'scientific',), (u'scientists',), (u'scope',), (u'scorpy',), (u'scouts',), (u'scrabble',), (u'scraper',), (u'screen',), (u'screensaver',), (u'screenshot',), (u'scribblenauts',), (u'script',), (u'scroll',), (u'scrolling',), (u'sdcc',), (u'sea',), (u'search',), (u'searches',), (u'seashell',), (u'seat',), (u'seating',), (u'second',), (u'secondary',), (u'seconds',), (u'secret',), (u'secretary',), (u'secrets',), (u'section',), (u'secure',), (u'security',), (u'see',), (u'seeing',), (u'seem',), (u'seemed',), (u'seems',), (u'seen',), (u'seismic',), (u'seismograph',), (u'select',), (u'selection',), (u'self',), (u'sell',), (u'selling',), (u'semicontrolled',), (u'send',), (u'sending',), (u'sense',), (u'sensei',), (u'sent',), (u'sentence',), (u'september',), (u'sequence',), (u'serenity',), (u'series',), (u'serious',), (u'seriously',), (u'serve',), (u'served',), (u'server',), (u'service',), (u'services',), (u'set',), (u'setcookie',), (u'setonloadcallback',), (u'sets',), (u'settime',), (u'settled',), (u'seventies',), (u'sex',), (u'sgt',), (u'shabby',), (u'shades',), (u'shadowfacts',), (u'shake',), (u'shall',), (u'shapes',), (u'share',), (u'sharing',), (u'shark',), (u'sharks',), (u'she',), (u'shear',), (u'sheep',), (u'sheeple',), (u'sheet',), (u'sheets',), (u'shells',), (u'ship',), (u'shipping',), (u'shirt',), (u'shirts',), (u'shit',), (u'shitashi',), (u'shlork',), (u'shoes',), (u'shoot',), (u'shop',), (u'shopify',), (u'shopify_stats',), (u'shopper',), (u'shopping',), (u'short',), (u'shortly',), (u'shot',), (u'shotgun',), (u'should',), (u'shouldn',), (u'showblock',), (u'showdown',), (u'showed',), (u'showers',), (u'showing',), (u'shows',), (u'shrink',), (u'shut',), (u'shy',), (u'sick',), (u'sickness',), (u'side',), (u'sidebar',), (u'sidebars',), (u'sided',), (u'sidewalks',), (u'sideways',), (u'sierpinski',), (u'sifted',), (u'sigh',), (u'sigil',), (u'signals',), (u'signed',), (u'significant',), (u'signs',), (u'silence',), (u'silent',), (u'simple',), (u'simplicity',), (u'simply',), (u'simultaneous',), (u'since',), (u'single',), (u'sir',), (u'sister',), (u'site',), (u'sites',), (u'sits',), (u'sitting',), (u'six',), (u'size',), (u'skateboard',), (u'skateboarding',), (u'skateboards',), (u'skeleton',), (u'sketch',), (u'sketchbook',), (u'sketches',), (u'sketchiness',), (u'sketching',), (u'skifree',), (u'skins',), (u'skip',), (u'skub',), (u'sky',), (u'skynet',), (u'slang',), (u'slayer',), (u'sledding',), (u'sleep',), (u'sleeping',), (u'sleet',), (u'slenska',), (u'slide',), (u'slides',), (u'slideshow',), (u'slight',), (u'slim',), (u'sling',), (u'slippery',), (u'slope',), (u'sloppier',), (u'slot',), (u'slow',), (u'small',), (u'smaller',), (u'smarter',), (u'smartwatches',), (u'smbc',), (u'smbctbar',), (u'snacktime',), (u'snail',), (u'snails',), (u'snakes',), (u'snapple',), (u'snare',), (u'sniping',), (u'snopes',), (u'snow',), (u'snowflakes',), (u'so',), (u'social',), (u'societies',), (u'softer',), (u'software',), (u'solar',), (u'sold',), (u'solve',), (u'solved',), (u'some',), (u'someday',), (u'somehow',), (u'someone',), (u'something',), (u'sometimes',), (u'songs',), (u'soon',), (u'sopa',), (u'sophia',), (u'sorry',), (u'sort',), (u'sorting',), (u'sorts',), (u'sound',), (u'sounded',), (u'sounds',), (u'source',), (u'sources',), (u'southern',), (u'space',), (u'spacecraft',), (u'spaceship',), (u'spam',), (u'span',), (u'spanish',), (u'spare',), (u'speak',), (u'special',), (u'specific',), (u'specifically',), (u'specs',), (u'spectrum',), (u'speculate',), (u'speculation',), (u'speech',), (u'speed',), (u'spend',), (u'spent',), (u'sphere',), (u'spiders',), (u'spin',), (u'spinal',), (u'spinto',), (u'spirit',), (u'spoil',), (u'spoiler',), (u'spoons',), (u'spore',), (u'sports',), (u'spot',), (u'src',), (u'ssl',), (u'st',), (u'stable',), (u'stacey',), (u'stand',), (u'standard',), (u'standards',), (u'standing',), (u'stanley',), (u'staple',), (u'star',), (u'starfield',), (u'starlight',), (u'starling',), (u'starlings',), (u'stars',), (u'start',), (u'started',), (u'starting',), (u'startled',), (u'startling',), (u'starwatching',), (u'statements',), (u'states',), (u'static',), (u'statistical',), (u'statistics',), (u'stats',), (u'stay',), (u'steal',), (u'steered',), (u'stephen',), (u'stereotypes',), (u'steroids',), (u'sticker',), (u'stickers',), (u'sticks',), (u'stiff',), (u'stiles',), (u'still',), (u'stillimage',), (u'stingray',), (u'stlight',), (u'stones',), (u'stop',), (u'stopped',), (u'stoppropagation',), (u'store',), (u'stores',), (u'stories',), (u'story',), (u'stove',), (u'straight',), (u'straightedge',), (u'strange',), (u'strangest',), (u'stratigraphic',), (u'straws',), (u'street',), (u'strength',), (u'strict',), (u'strike',), (u'string',), (u'strings',), (u'strip',), (u'strips',), (u'strong',), (u'stronger',), (u'strunk',), (u'stuck',), (u'stud',), (u'students',), (u'studied',), (u'studies',), (u'study',), (u'stuff',), (u'stumble',), (u'stumbleupon',), (u'stupendous',), (u'sturnus',), (u'style',), (u'styles',), (u'stylesheet',), (u'su',), (u'sub',), (u'subculture',), (u'subject',), (u'subjectivity',), (u'subliminal',), (u'submit',), (u'submitted',), (u'subs',), (u'subsequently',), (u'substantially',), (u'substitute',), (u'substitutions',), (u'subways',), (u'success',), (u'such',), (u'suck',), (u'suckville',), (u'sudo',), (u'suggestion',), (u'suggestions',), (u'suggests',), (u'suicide',), (u'summarizes',), (u'summary',), (u'sun',), (u'sunrise',), (u'suomeksi',), (u'super',), (u'superhero',), (u'superlative',), (u'supplied',), (u'support',), (u'supported',), (u'supposed',), (u'sure',), (u'surface',), (u'surgeon',), (u'surgery',), (u'surprisingly',), (u'survivors',), (u'suspicion',), (u'suspicious',), (u'sustainable',), (u'suv',), (u'svens',), (u'svenska',), (u'sweet',), (u'sweeto',), (u'swiftkey',), (u'swimsuit',), (u'swine',), (u'swing',), (u'swingset',), (u'switch',), (u'switchto5x',), (u'syllable',), (u'sympathy',), (u'syntax',), (u'sysadmin',), (u'system',), (u'systems',), (u't',), (u'tab',), (u'tabindex',), (u'table',), (u'tables',), (u'tabletop',), (u'tac',), (u'tag',), (u'tags',), (u'take',), (u'takes',), (u'taking',), (u'tale',), (u'tales',), (u'talk',), (u'talked',), (u'talkers',), (u'talking',), (u'tall',), (u'tank',), (u'taotmwnp',), (u'tap',), (u'tape',), (u'tapping',), (u'tar',), (u'tartarus',), (u'taste',), (u'tattoo',), (u'tau',), (u'taught',), (u'tcmp',), (u'td',), (u'teach',), (u'teaching',), (u'team',), (u'teams',), (u'tech',), (u'techno',), (u'technological',), (u'technology',), (u'ted',), (u'teeth',), (u'tehcrowley',), (u'teleportation',), (u'telescope',), (u'tell',), (u'telling',), (u'temper',), (u'temperature',), (u'templatebegineditable',), (u'templateendeditable',), (u'temporal',), (u'ten',), (u'tensile',), (u'term',), (u'terminology',), (u'terms',), (u'terrible',), (u'terribly',), (u'terrifyingly',), (u'terry',), (u'tesla',), (u'test',), (u'testing',), (u'tests',), (u'tex',), (u'tex2jax',), (u'text',), (u'tfd',), (u'than',), (u'thank',), (u'thanks',), (u'that',), (u'theater',), (u'theft',), (u'their',), (u'them',), (u'theme',), (u'theme_store_id',), (u'themes',), (u'themselves',), (u'then',), (u'theories',), (u'theory',), (u'there',), (u'these',), (u'they',), (u'thighs',), (u'thing',), (u'things',), (u'think',), (u'thinking',), (u'third',), (u'thirsty',), (u'thirty',), (u'this',), (u'those',), (u'though',), (u'thought',), (u'thoughts',), (u'thousand',), (u'thread',), (u'threat',), (u'three',), (u'threesome',), (u'throbblefoot',), (u'through',), (u'thumb',), (u'thursday',), (u'thursdays',), (u'thwack',), (u'tic',), (u'ticket',), (u'tickets',), (u'tie',), (u'tiles',), (u'time',), (u'timeless',), (u'timeline',), (u'timers',), (u'times',), (u'timing',), (u'tiny',), (u'tire',), (u'title',), (u'titles',), (u'tmi',), (u'toad',), (u'today',), (u'todays',), (u'toe',), (u'together',), (u'toggle',), (u'toggleblock',), (u'togmtstring',), (u'told',), (u'tomorrow',), (u'ton',), (u'tones',), (u'tony',), (u'too',), (u'took',), (u'tool',), (u'tools',), (u'tooltips',), (u'toot',), (u'top',), (u'topatoco',), (u'tornado',), (u'tornadoguard',), (u'torsos',), (u'tossed',), (u'total',), (u'totally',), (u'touch',), (u'touched',), (u'tr',), (u'tracking',), (u'trade',), (u'tradition',), (u'traffic',), (u'train',), (u'trained',), (u'transcripts',), (u'transfer',), (u'transform',), (u'transformers',), (u'transitional',), (u'translate',), (u'translated',), (u'translating',), (u'translation',), (u'translations',), (u'transmission',), (u'trapped',), (u'travel',), (u'traveling',), (u'travelling',), (u'tray',), (u'treasured',), (u'treaty',), (u'trebuchet',), (u'tree',), (u'trees',), (u'trek',), (u'trends',), (u'tricky',), (u'tried',), (u'tries',), (u'trimester',), (u'tripped',), (u'trochee',), (u'troll',), (u'trolling',), (u'trouble',), (u'troupes',), (u'truancy',), (u'truckin',), (u'true',), (u'try',), (u'tub',), (u'tuesdays',), (u'tumblr',), (u'tunnel',), (u'turbine',), (u'turing',), (u'turn',), (u'turtle',), (u'turtles',), (u'tv',), (u'tweak',), (u'tween',), (u'tweet',), (u'tweets',), (u'twentyeleven',), (u'twitter',), (u'two',), (u'txt',), (u'type',), (u'typeof',), (u'types',), (u'typewriter',), (u'typical',), (u'u',), (u'u003c',), (u'u003cscript',), (u'u003e',), (u'ua',), (u'uk',), (u'ul',), (u'ultimate',), (u'umbrella',), (u'umwelt',), (u'uncategorized',), (u'uncitral',), (u'uncle',), (u'uncomfortable',), (u'unconscious',), (u'undefined',), (u'under',), (u'undergo',), (u'understand',), (u'understands',), (u'understocked',), (u'undocumented',), (u'undoing',), (u'unescape',), (u'unexpectedly',), (u'unfolded',), (u'unfortunately',), (u'ungol',), (u'unicorns',), (u'uniform',), (u'union',), (u'unique',), (u'united',), (u'universal',), (u'universe',), (u'university',), (u'unknown',), (u'unless',), (u'unlikely',), (u'unofficial',), (u'unpickable',), (u'unquestioned',), (u'unquote',), (u'unsatisfied',), (u'unscientific',), (u'unsuitable',), (u'until',), (u'unusual',), (u'up',), (u'upcoming',), (u'update',), (u'updated',), (u'updates',), (u'upon',), (u'ur',), (u'urban',), (u'urgent',), (u'url',), (u'urls',), (u'urn',), (u'us',), (u'usa',), (u'usaf',), (u'use',), (u'used',), (u'useless',), (u'user',), (u'users',), (u'usessl',), (u'using',), (u'uwe',), (u'v',), (u'vagrant',), (u'valentine',), (u'valign',), (u'value',), (u'vandalism',), (u'var',), (u'variety',), (u'various',), (u'vcard',), (u've',), (u'velociraptor',), (u'velociraptors',), (u'velocities',), (u'velocity',), (u'venn',), (u'venting',), (u'version',), (u'versions',), (u'vertical',), (u'very',), (u'via',), (u'victorian',), (u'victory',), (u'video',), (u'videos',), (u'view',), (u'viewer',), (u'viewers',), (u'vimeo',), (u'vines',), (u'virginia',), (u'virtually',), (u'virus',), (u'vision',), (u'visited',), (u'visiting',), (u'visual',), (u'vocabulary',), (u'voice',), (u'volcano',), (u'volume',), (u'vortex',), (u'vote',), (u'voting',), (u'vowels',), (u'vows',), (u'voyager',), (u'voyeurism',), (u'voynich',), (u'vs',), (u'vulgaris',), (u'vulture',), (u'w',), (u'w3',), (u'w3c',), (u'wait',), (u'wake',), (u'walked',), (u'walking',), (u'walkthrough',), (u'walls',), (u'walmart',), (u'wandered',), (u'wandering',), (u'want',), (u'wanted',), (u'wants',), (u'war',), (u'warning',), (u'warranties',), (u'wars',), (u'was',), (u'wasn',), (u'wasteland',), (u'watch',), (u'watched',), (u'watching',), (u'wattenberg',), (u'waves',), (u'way',), (u'ways',), (u'wayward',), (u'we',), (u'weak',), (u'wearing',), (u'weather',), (u'web',), (u'webcomic',), (u'webkitallowfullscreen',), (u'website',), (u'wed',), (u'wednesday',), (u'weeaboo',), (u'week',), (u'weekend',), (u'weekly',), (u'weeks',), (u'weigh',), (u'weighs',), (u'weiner',), (u'weinersmith',), (u'weinerworks',), (u'weirdest',), (u'welcome',), (u'well',), (u'wells',), (u'went',), (u'were',), (u'west',), (u'western',), (u'westley',), (u'what',), (u'whatever',), (u'when',), (u'whens',), (u'where',), (u'whereas',), (u'whether',), (u'which',), (u'while',), (u'whilst',), (u'white',), (u'whites',), (u'who',), (u'whoa',), (u'whole',), (u'why',), (u'wide',), (u'widget',), (u'widgets',), (u'width',), (u'wife',), (u'wikifriends',), (u'wikileaks',), (u'wikipedia',), (u'wikipedian',), (u'wildfires',), (u'will',), (u'win',), (u'wind',), (u'windiest',), (u'winding',), (u'window',), (u'windows',), (u'wingo',), (u'wings',), (u'winter',), (u'wipo',), (u'wisdom',), (u'wise',), (u'wish',), (u'wishes',), (u'wishing',), (u'witchcraft',), (u'with',), (u'within',), (u'without',), (u'witty',), (u'wizard',), (u'wjs',), (u'woke',), (u'wolfram',), (u'women',), (u'wonder',), (u'wonderful',), (u'wondering',), (u'wood',), (u'woodpecker',), (u'woolves',), (u'word',), (u'wordpress',), (u'words',), (u'work',), (u'workaround',), (u'worked',), (u'workflow',), (u'working',), (u'works',), (u'world',), (u'worlds',), (u'worms',), (u'worry',), (u'worse',), (u'worst',), (u'worth',), (u'would',), (u'wouldn',), (u'wp',), (u'wrapper',), (u'wright',), (u'write',), (u'writers',), (u'writing',), (u'wrong',), (u'wrote',), (u'www',), (u'x',), (u'x11',), (u'xfbml',), (u'xhtml',), (u'xhtml1',), (u'xhtml11',), (u'xkcd',), (u'xmlns',), (u'y',), (u'yahoo',), (u'yanked',), (u'yarteries',), (u'ye',), (u'year',), (u'years',), (u'yes',), (u'yesterday',), (u'yet',), (u'yogurt',), (u'you',), (u'your',), (u'yours',), (u'yourself',), (u'youtube',), (u'z',), (u'zach',), (u'zachweiner',), (u'zarflax',), (u'zealous',), (u'zeppelin',), (u'zero',), (u'zeta',), (u'zhu',), (u'zone',), (u'zudjtuwe28q',), (u'zuthulus',)]\n",
        "\n",
        "\n",
        "\n"
       ]
      }
     ],
     "prompt_number": 9
    },
    {
     "cell_type": "code",
     "collapsed": false,
     "input": [
      "from sqlite3 import dbapi2 as sqlite\n",
      "con=sqlite.connect('searchindex.db')\n",
      "cur = con.execute(\"select * from linkwords \" )\n",
      "res=cur.fetchone()\n",
      "print res"
     ],
     "language": "python",
     "metadata": {},
     "outputs": [
      {
       "output_type": "stream",
       "stream": "stdout",
       "text": [
        "None\n"
       ]
      }
     ],
     "prompt_number": 34
    },
    {
     "cell_type": "code",
     "collapsed": false,
     "input": [
      "import searchengine as se\n",
      "\n",
      "e = se.searcher('searchindex.db')\n",
      "e.getmatchrows('humor adults')"
     ],
     "language": "python",
     "metadata": {},
     "outputs": [
      {
       "metadata": {},
       "output_type": "pyout",
       "prompt_number": 1,
       "text": [
        "([(1, 215, 221),\n",
        "  (4, 217, 223),\n",
        "  (6, 256, 262),\n",
        "  (16, 337, 343),\n",
        "  (20, 215, 221),\n",
        "  (22, 2807, 2813)],\n",
        " [137, 138])"
       ]
      }
     ],
     "prompt_number": 1
    },
    {
     "cell_type": "code",
     "collapsed": false,
     "input": [
      "import searchengine as se\n",
      "\n",
      "e = se.searcher('searchindex.db')\n",
      "e.query('also')"
     ],
     "language": "python",
     "metadata": {},
     "outputs": [
      {
       "output_type": "stream",
       "stream": "stdout",
       "text": [
        "0.760000\thttp://blog.xkcd.com/2014/03/12/what-if-i-wrote-a-book/\n",
        "0.701613\thttp://blag.xkcd.com\n",
        "0.652377\thttp://xkcd.com/about\n",
        "0.550337\thttp://creativecommons.org/licenses/by-nc/2.5/\n",
        "0.513969\thttp://xkcd.com/license.html\n",
        "0.457778\thttp://www.buttercupfestival.com/\n",
        "0.303413\thttp://what-if.xkcd.com\n"
       ]
      }
     ],
     "prompt_number": 1
    },
    {
     "cell_type": "code",
     "collapsed": false,
     "input": [
      "from bs4 import BeautifulSoup\n",
      "import urllib2"
     ],
     "language": "python",
     "metadata": {},
     "outputs": [],
     "prompt_number": 5
    },
    {
     "cell_type": "code",
     "collapsed": false,
     "input": [
      "c=urllib2.urlopen('http://es.xkcd.com/')\n",
      "soup=BeautifulSoup(c.read())\n",
      "links=soup('a')\n",
      "print links[0]\n",
      "cr = se.crawler('searchindex.db')\n",
      "\n"
     ],
     "language": "python",
     "metadata": {},
     "outputs": [
      {
       "output_type": "stream",
       "stream": "stdout",
       "text": [
        "<a href=\"http://www.xkcd.com/\">xkcd</a>\n",
        "xkcd\n"
       ]
      }
     ],
     "prompt_number": 9
    },
    {
     "cell_type": "code",
     "collapsed": false,
     "input": [
      "from urlparse import urljoin\n",
      "import re\n",
      "\n",
      "page = 'http://es.xkcd.com/' \n",
      "\n",
      "textosLinks= []\n",
      "for link in links:\n",
      "    if ('href' in dict(link.attrs)):\n",
      "        url=urljoin(page,link['href'])\n",
      "        if url.find(\"'\") != -1:\n",
      "            continue\n",
      "        url=url.split('#')[0] #remove location portion\n",
      "        linkText=cr.gettextonly(link)\n",
      "        print linkText\n",
      "        textosLinks.append(linkText)\n",
      "        \n",
      "print textosLinks\n",
      "for texto in textosLinks:\n",
      "    if re.match('^[a-zA-Z0-9_]+$',texto): \n",
      "        print texto"
     ],
     "language": "python",
     "metadata": {},
     "outputs": [
      {
       "output_type": "stream",
       "stream": "stdout",
       "text": [
        "xkcd\n",
        "Randall Munroe\n",
        "yo\n",
        "\n",
        "xkcd en espa\u00f1ol\n",
        "\n",
        "\n",
        "\n",
        "\n",
        "\n",
        "\n",
        "|<\n",
        "<\u00a0Anterior\n",
        "Archivo\n",
        "Siguiente\u00a0>\n",
        ">|\n",
        "\n",
        "\n",
        "\n",
        "\n",
        "\n",
        "\n",
        "\n",
        "\n",
        "\n",
        "\n",
        "\n",
        "Creative Commons Attribution-NonCommercial 2.5\n",
        "Gabriel Rodr\u00edguez Alberich\n",
        "[u'xkcd', u'Randall Munroe', u'yo', u'\\nxkcd en espa\\xf1ol\\n\\n', u'\\n\\n\\n', u'|<', u'<\\xa0Anterior', u'Archivo', u'Siguiente\\xa0>', u'>|', u'\\n\\n\\n', u'\\n\\n\\n', u'\\n\\n', u'Creative Commons Attribution-NonCommercial 2.5', u'Gabriel Rodr\\xedguez Alberich']\n",
        "xkcd\n",
        "yo\n",
        "Archivo\n"
       ]
      }
     ],
     "prompt_number": 25
    },
    {
     "cell_type": "code",
     "collapsed": false,
     "input": [
      "import searchengine as se\n",
      "cr = se.crawler('searchindex.db')\n",
      "cr.calculatepagerank()"
     ],
     "language": "python",
     "metadata": {},
     "outputs": [
      {
       "output_type": "stream",
       "stream": "stdout",
       "text": [
        "Iteration 0\n",
        "Iteration 1"
       ]
      },
      {
       "output_type": "stream",
       "stream": "stdout",
       "text": [
        "\n",
        "Iteration 2"
       ]
      },
      {
       "output_type": "stream",
       "stream": "stdout",
       "text": [
        "\n",
        "Iteration 3"
       ]
      },
      {
       "output_type": "stream",
       "stream": "stdout",
       "text": [
        "\n",
        "Iteration 4"
       ]
      },
      {
       "output_type": "stream",
       "stream": "stdout",
       "text": [
        "\n",
        "Iteration 5"
       ]
      },
      {
       "output_type": "stream",
       "stream": "stdout",
       "text": [
        "\n",
        "Iteration 6"
       ]
      },
      {
       "output_type": "stream",
       "stream": "stdout",
       "text": [
        "\n",
        "Iteration 7"
       ]
      },
      {
       "output_type": "stream",
       "stream": "stdout",
       "text": [
        "\n",
        "Iteration 8"
       ]
      },
      {
       "output_type": "stream",
       "stream": "stdout",
       "text": [
        "\n",
        "Iteration 9"
       ]
      },
      {
       "output_type": "stream",
       "stream": "stdout",
       "text": [
        "\n",
        "Iteration 10"
       ]
      },
      {
       "output_type": "stream",
       "stream": "stdout",
       "text": [
        "\n",
        "Iteration 11"
       ]
      },
      {
       "output_type": "stream",
       "stream": "stdout",
       "text": [
        "\n",
        "Iteration 12"
       ]
      },
      {
       "output_type": "stream",
       "stream": "stdout",
       "text": [
        "\n",
        "Iteration 13"
       ]
      },
      {
       "output_type": "stream",
       "stream": "stdout",
       "text": [
        "\n",
        "Iteration 14"
       ]
      },
      {
       "output_type": "stream",
       "stream": "stdout",
       "text": [
        "\n",
        "Iteration 15"
       ]
      },
      {
       "output_type": "stream",
       "stream": "stdout",
       "text": [
        "\n",
        "Iteration 16"
       ]
      },
      {
       "output_type": "stream",
       "stream": "stdout",
       "text": [
        "\n",
        "Iteration 17"
       ]
      },
      {
       "output_type": "stream",
       "stream": "stdout",
       "text": [
        "\n",
        "Iteration 18"
       ]
      },
      {
       "output_type": "stream",
       "stream": "stdout",
       "text": [
        "\n",
        "Iteration 19"
       ]
      },
      {
       "output_type": "stream",
       "stream": "stdout",
       "text": [
        "\n"
       ]
      }
     ],
     "prompt_number": 4
    },
    {
     "cell_type": "code",
     "collapsed": false,
     "input": [
      "cur = cr.con.execute('select * from pagerank order by score desc')\n",
      "for i in range(20): print cur.next()"
     ],
     "language": "python",
     "metadata": {},
     "outputs": [
      {
       "output_type": "stream",
       "stream": "stdout",
       "text": [
        "(50, 0.303536)\n",
        "(24, 0.230303)\n",
        "(623, 0.199672)\n",
        "(8, 0.189579)\n",
        "(7, 0.1827)\n",
        "(5, 0.181498)\n",
        "(18, 0.181461)\n",
        "(19, 0.181461)\n",
        "(3, 0.180631)\n",
        "(4, 0.180631)\n",
        "(15, 0.180631)\n",
        "(16, 0.180631)\n",
        "(17, 0.180631)\n",
        "(20, 0.180631)\n",
        "(21, 0.180631)\n",
        "(22, 0.180631)\n",
        "(23, 0.180631)\n",
        "(713, 0.175589)\n",
        "(714, 0.175589)\n",
        "(715, 0.175589)\n"
       ]
      }
     ],
     "prompt_number": 5
    },
    {
     "cell_type": "code",
     "collapsed": false,
     "input": [
      "import searchengine as se\n",
      "\n",
      "e = se.searcher('searchindex.db')\n",
      "e.query('humor')"
     ],
     "language": "python",
     "metadata": {},
     "outputs": [
      {
       "output_type": "stream",
       "stream": "stdout",
       "text": [
        "0.979781\thttp://xkcd.com/rss.xml\n",
        "0.812500\thttp://xkcd.com/\n",
        "0.789082\thttp://c.xkcd.com/random/comic/\n",
        "0.783397\thttp://xkcd.com/about\n",
        "0.780416\thttp://xkcd.com/archive\n",
        "0.775034\thttp://xkcd.com/1/\n",
        "0.752634\thttp://xkcd.com/1377/\n",
        "0.747760\thttp://xkcd.com/1376/\n",
        "0.735515\thttp://xkcd.com/1375/\n"
       ]
      }
     ],
     "prompt_number": 6
    },
    {
     "cell_type": "code",
     "collapsed": false,
     "input": [
      "import searchengine as se\n",
      "crawler=se.crawler('searchindex.db')\n",
      "\n",
      "wl = [row for row in crawler.con.execute('select * from wordlist')]\n",
      "print ''\n",
      "print wl.index((u'project',))\n",
      "print wl.index((u'data',))\n",
      "print wl.index((u'example',))\n",
      "print ''\n",
      "\n",
      "ul =[row for row in crawler.con.execute('select * from urllist')]\n",
      "print ul[0:3]\n",
      "\n",
      "uarxiv, usmart, ublog = 1 , 2, 3\n",
      "wproject, wdata, wexample = 2969, 1132, 1447"
     ],
     "language": "python",
     "metadata": {},
     "outputs": [
      {
       "output_type": "stream",
       "stream": "stdout",
       "text": [
        "\n",
        "2969\n",
        "1132\n",
        "1447\n",
        "\n",
        "[(u'http://arxiv.org/abs/0802.1667',), (u'http://asmarterplanet.com/',), (u'http://blag.xkcd.com',)]\n"
       ]
      }
     ],
     "prompt_number": 1
    },
    {
     "cell_type": "code",
     "collapsed": false,
     "input": [
      "import nn"
     ],
     "language": "python",
     "metadata": {},
     "outputs": [],
     "prompt_number": 2
    },
    {
     "cell_type": "code",
     "collapsed": false,
     "input": [
      "mynet = nn.searchnet('nn.db')"
     ],
     "language": "python",
     "metadata": {},
     "outputs": [],
     "prompt_number": 4
    },
    {
     "cell_type": "code",
     "collapsed": false,
     "input": [
      "mynet.maketables()"
     ],
     "language": "python",
     "metadata": {},
     "outputs": [],
     "prompt_number": 3
    },
    {
     "cell_type": "code",
     "collapsed": false,
     "input": [
      "mynet.generatehiddennode([wproject,wdata],[uarxiv, usmart,ublog])"
     ],
     "language": "python",
     "metadata": {},
     "outputs": [],
     "prompt_number": 7
    },
    {
     "cell_type": "code",
     "collapsed": false,
     "input": [
      "for c in mynet.con.execute('select * from wordhidden'): print c"
     ],
     "language": "python",
     "metadata": {},
     "outputs": [
      {
       "output_type": "stream",
       "stream": "stdout",
       "text": [
        "(2969, 1, 0.5)\n",
        "(1132, 1, 0.5)\n"
       ]
      }
     ],
     "prompt_number": 8
    },
    {
     "cell_type": "code",
     "collapsed": false,
     "input": [
      "for c in mynet.con.execute('select * from hiddenurl'): print c"
     ],
     "language": "python",
     "metadata": {},
     "outputs": [
      {
       "output_type": "stream",
       "stream": "stdout",
       "text": [
        "(1, 1, 0.1)\n",
        "(1, 2, 0.1)\n",
        "(1, 3, 0.1)\n"
       ]
      }
     ],
     "prompt_number": 9
    },
    {
     "cell_type": "code",
     "collapsed": false,
     "input": [
      "mynet.getresult([wproject,wdata],[uarxiv, usmart,ublog])"
     ],
     "language": "python",
     "metadata": {},
     "outputs": [
      {
       "metadata": {},
       "output_type": "pyout",
       "prompt_number": 5,
       "text": [
        "[0.07601250837541615, 0.07601250837541615, 0.07601250837541615]"
       ]
      }
     ],
     "prompt_number": 5
    },
    {
     "cell_type": "code",
     "collapsed": false,
     "input": [
      "mynet.trainquery([wproject,wdata],[uarxiv, usmart,ublog],ublog)"
     ],
     "language": "python",
     "metadata": {},
     "outputs": [],
     "prompt_number": 6
    },
    {
     "cell_type": "code",
     "collapsed": false,
     "input": [
      "mynet.getresult([wproject,wdata],[uarxiv, usmart,ublog])"
     ],
     "language": "python",
     "metadata": {},
     "outputs": [
      {
       "metadata": {},
       "output_type": "pyout",
       "prompt_number": 7,
       "text": [
        "[0.055127057492088, 0.055127057492088, 0.3350632467125332]"
       ]
      }
     ],
     "prompt_number": 7
    },
    {
     "cell_type": "code",
     "collapsed": false,
     "input": [
      "for i in range(30):\n",
      "    mynet.trainquery([wproject,wdata],[uarxiv, usmart,ublog],ublog)\n",
      "    mynet.trainquery([wexample,wdata],[uarxiv, usmart,ublog],usmart)\n",
      "    mynet.trainquery([wproject],[uarxiv, usmart,ublog],uarxiv)"
     ],
     "language": "python",
     "metadata": {},
     "outputs": [],
     "prompt_number": 9
    },
    {
     "cell_type": "code",
     "collapsed": false,
     "input": [
      "mynet.getresult([wproject,wdata],[uarxiv, usmart,ublog])"
     ],
     "language": "python",
     "metadata": {},
     "outputs": [
      {
       "metadata": {},
       "output_type": "pyout",
       "prompt_number": 10,
       "text": [
        "[0.012084979924815572, 0.010855480106425808, 0.8705623942300412]"
       ]
      }
     ],
     "prompt_number": 10
    },
    {
     "cell_type": "code",
     "collapsed": false,
     "input": [
      "mynet.getresult([wexample,wdata],[uarxiv, usmart,ublog])"
     ],
     "language": "python",
     "metadata": {},
     "outputs": [
      {
       "metadata": {},
       "output_type": "pyout",
       "prompt_number": 11,
       "text": [
        "[0.003354660406591399, 0.8852859851373398, -0.020212960144585894]"
       ]
      }
     ],
     "prompt_number": 11
    },
    {
     "cell_type": "code",
     "collapsed": false,
     "input": [
      "mynet.getresult([wdata],[uarxiv, usmart,ublog])"
     ],
     "language": "python",
     "metadata": {},
     "outputs": [
      {
       "metadata": {},
       "output_type": "pyout",
       "prompt_number": 12,
       "text": [
        "[-0.859269156107212, 0.005900400330499424, 0.8749506589416379]"
       ]
      }
     ],
     "prompt_number": 12
    },
    {
     "cell_type": "code",
     "collapsed": false,
     "input": [],
     "language": "python",
     "metadata": {},
     "outputs": []
    }
   ],
   "metadata": {}
  }
 ]
}