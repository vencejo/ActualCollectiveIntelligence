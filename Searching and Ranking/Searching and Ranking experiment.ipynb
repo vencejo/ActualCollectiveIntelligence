{
 "metadata": {
  "name": "",
  "signature": "sha256:75fc7172df44a7a2468d83fd6732de0ae3526929b4630362a074bc3777edd949"
 },
 "nbformat": 3,
 "nbformat_minor": 0,
 "worksheets": [
  {
   "cells": [
    {
     "cell_type": "code",
     "collapsed": false,
     "input": [
      "import urllib2"
     ],
     "language": "python",
     "metadata": {},
     "outputs": [],
     "prompt_number": 1
    },
    {
     "cell_type": "code",
     "collapsed": false,
     "input": [
      "c=urllib2.urlopen('http://twitter.com')\n",
      "cont=c.read()\n",
      "print cont[0:50]"
     ],
     "language": "python",
     "metadata": {},
     "outputs": [
      {
       "output_type": "stream",
       "stream": "stdout",
       "text": [
        "<!DOCTYPE html>\n",
        "<!--[if IE 8]><html class=\"lt-ie10\n"
       ]
      }
     ],
     "prompt_number": 2
    },
    {
     "cell_type": "code",
     "collapsed": false,
     "input": [
      "import searchengine as se"
     ],
     "language": "python",
     "metadata": {},
     "outputs": [],
     "prompt_number": 2
    },
    {
     "cell_type": "code",
     "collapsed": false,
     "input": [
      "pagelist=['http://xkcd.com/1376/']\n",
      "crawler=se.crawler('')\n",
      "crawler.crawl(pagelist)"
     ],
     "language": "python",
     "metadata": {},
     "outputs": [
      {
       "output_type": "stream",
       "stream": "stdout",
       "text": [
        "Indexing http://xkcd.com/1376/\n",
        "Indexing http://www.asofterworld.com"
       ]
      },
      {
       "output_type": "stream",
       "stream": "stdout",
       "text": [
        "\n",
        "Indexing http://www.buttercupfestival.com/"
       ]
      },
      {
       "output_type": "stream",
       "stream": "stdout",
       "text": [
        "\n",
        "Indexing http://xkcd.com/1375/"
       ]
      },
      {
       "output_type": "stream",
       "stream": "stdout",
       "text": [
        "\n",
        "Indexing http://www.qwantz.com"
       ]
      },
      {
       "output_type": "stream",
       "stream": "stdout",
       "text": [
        "\n",
        "Indexing http://xkcd.com/1/"
       ]
      },
      {
       "output_type": "stream",
       "stream": "stdout",
       "text": [
        "\n",
        "Could not open http://questionablecontent.net/"
       ]
      },
      {
       "output_type": "stream",
       "stream": "stdout",
       "text": [
        "\n",
        "Indexing http://xkcd.com/1376/"
       ]
      },
      {
       "output_type": "stream",
       "stream": "stdout",
       "text": [
        "\n",
        "Indexing http://threewordphrase.com/"
       ]
      },
      {
       "output_type": "stream",
       "stream": "stdout",
       "text": [
        "\n",
        "Indexing http://xkcd.com/rss.xml"
       ]
      },
      {
       "output_type": "stream",
       "stream": "stdout",
       "text": [
        "\n",
        "Indexing http://buttersafe.com/"
       ]
      },
      {
       "output_type": "stream",
       "stream": "stdout",
       "text": [
        "\n",
        "Indexing http://pbfcomics.com/"
       ]
      },
      {
       "output_type": "stream",
       "stream": "stdout",
       "text": [
        "\n",
        "Indexing http://blog.xkcd.com/2014/03/12/what-if-i-wrote-a-book/"
       ]
      },
      {
       "output_type": "stream",
       "stream": "stdout",
       "text": [
        "\n",
        "Indexing http://www.smbc-comics.com/"
       ]
      },
      {
       "output_type": "stream",
       "stream": "stdout",
       "text": [
        "\n",
        "Indexing http://blag.xkcd.com"
       ]
      },
      {
       "output_type": "stream",
       "stream": "stdout",
       "text": [
        "\n",
        "Indexing http://xkcd.com/license.html"
       ]
      },
      {
       "output_type": "stream",
       "stream": "stdout",
       "text": [
        "\n",
        "Indexing http://store.xkcd.com/"
       ]
      }
     ]
    },
    {
     "cell_type": "code",
     "collapsed": false,
     "input": [
      "from sqlite3 import dbapi2 as sqlite"
     ],
     "language": "python",
     "metadata": {},
     "outputs": [],
     "prompt_number": 3
    },
    {
     "cell_type": "code",
     "collapsed": false,
     "input": [
      "import searchengine as se"
     ],
     "language": "python",
     "metadata": {},
     "outputs": [],
     "prompt_number": 7
    },
    {
     "cell_type": "code",
     "collapsed": false,
     "input": [
      "crawler=se.crawler('searchindex.db')"
     ],
     "language": "python",
     "metadata": {},
     "outputs": [],
     "prompt_number": 8
    },
    {
     "cell_type": "code",
     "collapsed": false,
     "input": [
      "crawler.createindextables()"
     ],
     "language": "python",
     "metadata": {},
     "outputs": [],
     "prompt_number": 9
    },
    {
     "cell_type": "code",
     "collapsed": false,
     "input": [
      "import searchengine as se\n",
      "crawler=se.crawler('searchindex.db')\n",
      "#crawler.createindextables()\n",
      "pagelist=['http://xkcd.com/1376/']\n",
      "crawler.crawl(pagelist)"
     ],
     "language": "python",
     "metadata": {},
     "outputs": [
      {
       "output_type": "stream",
       "stream": "stdout",
       "text": [
        "Could not open http://questionablecontent.net/\n",
        "Could not open http://oglaf.com/"
       ]
      },
      {
       "output_type": "stream",
       "stream": "stdout",
       "text": [
        "\n"
       ]
      }
     ],
     "prompt_number": 4
    },
    {
     "cell_type": "code",
     "collapsed": true,
     "input": [
      "import searchengine as se\n",
      "crawler=se.crawler('searchindex.db')\n",
      "print [row for row in crawler.con.execute('select * from urllist')]\n",
      "print ''\n",
      "#print [row for row in crawler.con.execute('select * from wordlocation')]\n",
      "print ''\n",
      "#print [row for row in crawler.con.execute('select * from wordlist')]\n",
      "print ''\n",
      "print len([row for row in crawler.con.execute('select * from wordlist')])\n",
      "print ''\n",
      "print [row for row in crawler.con.execute('select * from linkwords')]\n",
      "print ''\n",
      "print [row for row in crawler.con.execute('select * from link')]"
     ],
     "language": "python",
     "metadata": {},
     "outputs": [
      {
       "output_type": "stream",
       "stream": "stdout",
       "text": [
        "[(u'http://xkcd.com/1376/',), (u'http://www.asofterworld.com',), (u'http://www.buttercupfestival.com/',), (u'http://xkcd.com/1375/',), (u'http://www.qwantz.com',), (u'http://xkcd.com/1/',), (u'http://threewordphrase.com/',), (u'http://xkcd.com/rss.xml',), (u'http://buttersafe.com/',), (u'http://pbfcomics.com/',), (u'http://blog.xkcd.com/2014/03/12/what-if-i-wrote-a-book/',), (u'http://www.smbc-comics.com/',), (u'http://blag.xkcd.com',), (u'http://xkcd.com/license.html',), (u'http://store.xkcd.com/',), (u'http://c.xkcd.com/random/comic/',), (u'http://xkcd.com/atom.xml',), (u'http://xkcd.com/about',), (u'http://what-if.xkcd.com',), (u'http://xkcd.com/',), (u'http://creativecommons.org/licenses/by-nc/2.5/',), (u'http://xkcd.com/archive',)]\n",
        "\n",
        "\n",
        "\n",
        "4258"
       ]
      },
      {
       "output_type": "stream",
       "stream": "stdout",
       "text": [
        "\n",
        "\n",
        "[]\n",
        "\n",
        "[]\n"
       ]
      }
     ],
     "prompt_number": 2
    },
    {
     "cell_type": "code",
     "collapsed": false,
     "input": [
      "import searchengine as se\n",
      "\n",
      "e = se.searcher('searchindex.db')\n",
      "e.getmatchrows('humor adults')"
     ],
     "language": "python",
     "metadata": {},
     "outputs": [
      {
       "metadata": {},
       "output_type": "pyout",
       "prompt_number": 1,
       "text": [
        "([(1, 215, 221),\n",
        "  (4, 217, 223),\n",
        "  (6, 256, 262),\n",
        "  (16, 337, 343),\n",
        "  (20, 215, 221),\n",
        "  (22, 2807, 2813)],\n",
        " [137, 138])"
       ]
      }
     ],
     "prompt_number": 1
    },
    {
     "cell_type": "code",
     "collapsed": false,
     "input": [
      "import searchengine as se\n",
      "\n",
      "e = se.searcher('searchindex.db')\n",
      "e.query('also')"
     ],
     "language": "python",
     "metadata": {},
     "outputs": [
      {
       "output_type": "stream",
       "stream": "stdout",
       "text": [
        "0.760000\thttp://blog.xkcd.com/2014/03/12/what-if-i-wrote-a-book/\n",
        "0.701613\thttp://blag.xkcd.com\n",
        "0.652377\thttp://xkcd.com/about\n",
        "0.550337\thttp://creativecommons.org/licenses/by-nc/2.5/\n",
        "0.513969\thttp://xkcd.com/license.html\n",
        "0.457778\thttp://www.buttercupfestival.com/\n",
        "0.303413\thttp://what-if.xkcd.com\n"
       ]
      }
     ],
     "prompt_number": 1
    },
    {
     "cell_type": "code",
     "collapsed": false,
     "input": [
      "\n"
     ],
     "language": "python",
     "metadata": {},
     "outputs": []
    }
   ],
   "metadata": {}
  }
 ]
}