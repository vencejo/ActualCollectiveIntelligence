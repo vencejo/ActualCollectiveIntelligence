{
 "metadata": {
  "name": "",
  "signature": "sha256:c7b0c0e97b960f520540a9a87598d9e487b19d7fbaf9e8d326734ebb4f0d60d1"
 },
 "nbformat": 3,
 "nbformat_minor": 0,
 "worksheets": [
  {
   "cells": [
    {
     "cell_type": "code",
     "collapsed": false,
     "input": [
      "import urllib2"
     ],
     "language": "python",
     "metadata": {},
     "outputs": [],
     "prompt_number": 1
    },
    {
     "cell_type": "code",
     "collapsed": false,
     "input": [
      "c=urllib2.urlopen('http://twitter.com')\n",
      "cont=c.read()\n",
      "print cont[0:50]"
     ],
     "language": "python",
     "metadata": {},
     "outputs": [
      {
       "output_type": "stream",
       "stream": "stdout",
       "text": [
        "<!DOCTYPE html>\n",
        "<!--[if IE 8]><html class=\"lt-ie10\n"
       ]
      }
     ],
     "prompt_number": 2
    },
    {
     "cell_type": "code",
     "collapsed": false,
     "input": [
      "import searchengine as se"
     ],
     "language": "python",
     "metadata": {},
     "outputs": [],
     "prompt_number": 2
    },
    {
     "cell_type": "code",
     "collapsed": false,
     "input": [
      "pagelist=['http://xkcd.com/1376/']\n",
      "crawler=se.crawler('')\n",
      "crawler.crawl(pagelist)"
     ],
     "language": "python",
     "metadata": {},
     "outputs": [
      {
       "output_type": "stream",
       "stream": "stdout",
       "text": [
        "Indexing http://xkcd.com/1376/\n",
        "Indexing http://www.asofterworld.com"
       ]
      },
      {
       "output_type": "stream",
       "stream": "stdout",
       "text": [
        "\n",
        "Indexing http://www.buttercupfestival.com/"
       ]
      },
      {
       "output_type": "stream",
       "stream": "stdout",
       "text": [
        "\n",
        "Indexing http://xkcd.com/1375/"
       ]
      },
      {
       "output_type": "stream",
       "stream": "stdout",
       "text": [
        "\n",
        "Indexing http://www.qwantz.com"
       ]
      },
      {
       "output_type": "stream",
       "stream": "stdout",
       "text": [
        "\n",
        "Indexing http://xkcd.com/1/"
       ]
      },
      {
       "output_type": "stream",
       "stream": "stdout",
       "text": [
        "\n",
        "Could not open http://questionablecontent.net/"
       ]
      },
      {
       "output_type": "stream",
       "stream": "stdout",
       "text": [
        "\n",
        "Indexing http://xkcd.com/1376/"
       ]
      },
      {
       "output_type": "stream",
       "stream": "stdout",
       "text": [
        "\n",
        "Indexing http://threewordphrase.com/"
       ]
      },
      {
       "output_type": "stream",
       "stream": "stdout",
       "text": [
        "\n",
        "Indexing http://xkcd.com/rss.xml"
       ]
      },
      {
       "output_type": "stream",
       "stream": "stdout",
       "text": [
        "\n",
        "Indexing http://buttersafe.com/"
       ]
      },
      {
       "output_type": "stream",
       "stream": "stdout",
       "text": [
        "\n",
        "Indexing http://pbfcomics.com/"
       ]
      },
      {
       "output_type": "stream",
       "stream": "stdout",
       "text": [
        "\n",
        "Indexing http://blog.xkcd.com/2014/03/12/what-if-i-wrote-a-book/"
       ]
      },
      {
       "output_type": "stream",
       "stream": "stdout",
       "text": [
        "\n",
        "Indexing http://www.smbc-comics.com/"
       ]
      },
      {
       "output_type": "stream",
       "stream": "stdout",
       "text": [
        "\n",
        "Indexing http://blag.xkcd.com"
       ]
      },
      {
       "output_type": "stream",
       "stream": "stdout",
       "text": [
        "\n",
        "Indexing http://xkcd.com/license.html"
       ]
      },
      {
       "output_type": "stream",
       "stream": "stdout",
       "text": [
        "\n",
        "Indexing http://store.xkcd.com/"
       ]
      }
     ]
    },
    {
     "cell_type": "code",
     "collapsed": false,
     "input": [
      "from sqlite3 import dbapi2 as sqlite"
     ],
     "language": "python",
     "metadata": {},
     "outputs": [],
     "prompt_number": 3
    },
    {
     "cell_type": "code",
     "collapsed": false,
     "input": [
      "import searchengine as se"
     ],
     "language": "python",
     "metadata": {},
     "outputs": [],
     "prompt_number": 7
    },
    {
     "cell_type": "code",
     "collapsed": false,
     "input": [
      "crawler=se.crawler('searchindex.db')"
     ],
     "language": "python",
     "metadata": {},
     "outputs": [],
     "prompt_number": 8
    },
    {
     "cell_type": "code",
     "collapsed": false,
     "input": [
      "crawler.createindextables()"
     ],
     "language": "python",
     "metadata": {},
     "outputs": [],
     "prompt_number": 9
    },
    {
     "cell_type": "code",
     "collapsed": true,
     "input": [
      "import searchengine as se\n",
      "crawler=se.crawler('searchindex.db')\n",
      "crawler.createindextables()\n",
      "pagelist=['http://xkcd.com/1376/']\n",
      "crawler.crawl(pagelist)"
     ],
     "language": "python",
     "metadata": {},
     "outputs": [
      {
       "output_type": "stream",
       "stream": "stdout",
       "text": [
        "Indexing http://xkcd.com/1376/\n",
        "**** Archive\n",
        "1\n",
        "185\n",
        "**** What If?\n",
        "2\n",
        "186\n",
        "**** Blag\n",
        "3\n",
        "187\n",
        "**** Store\n",
        "4\n",
        "188\n",
        "**** About\n",
        "5\n",
        "189\n",
        "**** \n",
        "\n",
        "6\n",
        "190\n",
        "**** \n",
        "\n",
        "7\n",
        "190\n",
        "**** |<\n",
        "8\n",
        "191"
       ]
      },
      {
       "output_type": "stream",
       "stream": "stdout",
       "text": [
        "\n",
        "**** < Prev\n",
        "9\n",
        "192\n",
        "**** Random\n",
        "10\n",
        "193\n",
        "**** Next >\n",
        "11\n",
        "194\n",
        "**** >|\n",
        "12\n",
        "195\n",
        "**** |<\n",
        "13\n",
        "191\n",
        "**** < Prev\n",
        "14\n",
        "192\n",
        "**** Random\n",
        "15\n",
        "193\n",
        "**** Next >\n",
        "16\n",
        "194\n",
        "**** >|\n",
        "17\n",
        "195\n",
        "**** RSS Feed\n",
        "18\n",
        "196\n",
        "**** Atom Feed\n",
        "19\n",
        "197\n",
        "**** Three Word Phrase\n",
        "20\n",
        "198\n",
        "**** Oglaf\n",
        "21\n",
        "199\n",
        "**** SMBC\n",
        "22\n",
        "200\n",
        "**** Dinosaur Comics\n",
        "23\n",
        "201\n",
        "**** A Softer World\n",
        "24\n",
        "202\n",
        "**** Buttersafe\n",
        "25\n",
        "203\n",
        "**** Perry Bible Fellowship\n",
        "26\n",
        "204\n",
        "**** Questionable Content\n",
        "27\n",
        "205\n",
        "**** Buttercup Festival\n",
        "28\n",
        "206\n",
        "**** Creative Commons Attribution-NonCommercial 2.5 License\n",
        "29\n",
        "207\n",
        "**** More details\n",
        "30\n",
        "208\n",
        "Indexing http://www.asofterworld.com"
       ]
      },
      {
       "output_type": "stream",
       "stream": "stdout",
       "text": [
        "\n",
        "Indexing http://blog.xkcd.com/2014/03/12/what-if-i-wrote-a-book/"
       ]
      },
      {
       "output_type": "stream",
       "stream": "stdout",
       "text": [
        "\n",
        "**** xkcd"
       ]
      },
      {
       "output_type": "stream",
       "stream": "stdout",
       "text": [
        "\n",
        "31\n",
        "14\n",
        "**** Skip to primary content\n",
        "32\n",
        "641\n",
        "**** Skip to secondary content\n",
        "33\n",
        "642\n",
        "**** Home\n",
        "34\n",
        "643\n",
        "**** \u2190\n",
        "Previous\n",
        "\n",
        "35\n",
        "644\n",
        "**** Next\n",
        "\u2192\n",
        "\n",
        "36\n",
        "645\n",
        "**** March 12, 2014\n",
        "37\n",
        "646\n",
        "**** admin\n",
        "38\n",
        "272\n",
        "**** What If\n",
        "39\n",
        "647\n",
        "**** Barnes & Noble\n",
        "40\n",
        "648\n",
        "**** Amazon\n",
        "41\n",
        "649\n",
        "**** Indie Bound\n",
        "42\n",
        "650\n",
        "**** UK and Commonwealth edition\n",
        "43\n",
        "651\n",
        "**** German edition\n",
        "44\n",
        "652\n",
        "**** Uncategorized\n",
        "45\n",
        "653\n",
        "**** admin\n",
        "46\n",
        "272\n",
        "**** permalink\n",
        "47\n",
        "362\n",
        "**** \u2190 Older Comments\n",
        "48\n",
        "654\n",
        "**** May 30, 2014 at 8:15 am\n",
        "49\n",
        "655\n",
        "**** May 30, 2014 at 3:46 pm\n",
        "50\n",
        "656\n",
        "**** \u062f\u0627\u0646\u0644\u0648\u062f \u0641\u06cc\u0644\u0645 \u062c\u062f\u06cc\u062f \u0628\u0627 \u0644\u06cc\u0646\u06a9 \u0645\u0633\u062a\u0642\u06cc\u0645\n",
        "51\n",
        "657\n",
        "**** May 31, 2014 at 5:46 am\n",
        "52\n",
        "658\n",
        "**** http://download-videos.ir\n",
        "53\n",
        "659\n",
        "**** Gergely Polonkai\n",
        "54\n",
        "660\n",
        "**** May 31, 2014 at 9:44 am\n",
        "55\n",
        "661\n",
        "**** \u067e\u0627\u0631\u062a\u06cc\u0634\u0646 \u0627\u062f\u0627\u0631\u06cc\n",
        "56\n",
        "662\n",
        "**** June 1, 2014 at 6:48 am\n",
        "57\n",
        "663\n",
        "**** June 2, 2014 at 2:41 am\n",
        "58\n",
        "664\n",
        "**** June 2, 2014 at 4:08 am\n",
        "59\n",
        "665\n",
        "**** Uwe\n",
        "60\n",
        "666\n",
        "**** June 2, 2014 at 7:23 am\n",
        "61\n",
        "667\n",
        "**** June 2, 2014 at 2:17 pm\n",
        "62\n",
        "668\n",
        "**** June 2, 2014 at 11:07 pm\n",
        "63\n",
        "669\n",
        "**** June 3, 2014 at 4:44 am\n",
        "64\n",
        "670\n",
        "**** michael garlick\n",
        "65\n",
        "671\n",
        "**** June 3, 2014 at 7:32 am\n",
        "66\n",
        "672\n",
        "**** June 3, 2014 at 2:32 pm"
       ]
      },
      {
       "output_type": "stream",
       "stream": "stdout",
       "text": [
        "\n",
        "67\n",
        "673\n",
        "**** Lady Nor\u00e9mon\n",
        "68\n",
        "674\n",
        "**** June 4, 2014 at 4:30 am\n",
        "69\n",
        "675\n",
        "**** June 4, 2014 at 7:45 am\n",
        "70\n",
        "676\n",
        "**** June 4, 2014 at 9:04 am\n",
        "71\n",
        "677\n",
        "**** \u0642\u06cc\u0645\u062a \u0633\u06a9\u0647\n",
        "72\n",
        "678\n",
        "**** June 5, 2014 at 11:34 am\n",
        "73\n",
        "679\n",
        "**** http://www.ivatan.ir/\n",
        "74\n",
        "680\n",
        "**** \u2190 Older Comments\n",
        "75\n",
        "654\n",
        "**** Cancel reply\n",
        "76\n",
        "681\n",
        "**** Proudly powered by WordPress\n",
        "77\n",
        "682\n",
        "Indexing http://xkcd.com/1375/"
       ]
      },
      {
       "output_type": "stream",
       "stream": "stdout",
       "text": [
        "\n",
        "**** Archive"
       ]
      },
      {
       "output_type": "stream",
       "stream": "stdout",
       "text": [
        "\n",
        "78\n",
        "185\n",
        "**** What If?\n",
        "79\n",
        "186\n",
        "**** Blag\n",
        "80\n",
        "187\n",
        "**** Store\n",
        "81\n",
        "188\n",
        "**** About\n",
        "82\n",
        "189\n",
        "**** \n",
        "\n",
        "83\n",
        "190\n",
        "**** \n",
        "\n",
        "84\n",
        "190\n",
        "**** |<\n",
        "85\n",
        "191\n",
        "**** < Prev\n",
        "86\n",
        "192\n",
        "**** Random\n",
        "87\n",
        "193\n",
        "**** Next >\n",
        "88\n",
        "194\n",
        "**** >|\n",
        "89\n",
        "195\n",
        "**** |<\n",
        "90\n",
        "191\n",
        "**** < Prev"
       ]
      },
      {
       "output_type": "stream",
       "stream": "stdout",
       "text": [
        "\n",
        "91\n",
        "192\n",
        "**** Random\n",
        "92\n",
        "193\n",
        "**** Next >\n",
        "93\n",
        "194\n",
        "**** >|\n",
        "94\n",
        "195\n",
        "**** RSS Feed\n",
        "95\n",
        "196\n",
        "**** Atom Feed\n",
        "96\n",
        "197\n",
        "**** Three Word Phrase\n",
        "97\n",
        "198\n",
        "**** Oglaf\n",
        "98\n",
        "199\n",
        "**** SMBC\n",
        "99\n",
        "200\n",
        "**** Dinosaur Comics\n",
        "100\n",
        "201\n",
        "**** A Softer World\n",
        "101\n",
        "202\n",
        "**** Buttersafe\n",
        "102\n",
        "203\n",
        "**** Perry Bible Fellowship\n",
        "103\n",
        "204\n",
        "**** Questionable Content\n",
        "104\n",
        "205\n",
        "**** Buttercup Festival\n",
        "105\n",
        "206\n",
        "**** Creative Commons Attribution-NonCommercial 2.5 License\n",
        "106\n",
        "207\n",
        "**** More details\n",
        "107\n",
        "208\n",
        "Indexing http://www.qwantz.com"
       ]
      },
      {
       "output_type": "stream",
       "stream": "stdout",
       "text": [
        "\n",
        "Indexing http://xkcd.com/1/"
       ]
      },
      {
       "output_type": "stream",
       "stream": "stdout",
       "text": [
        "\n",
        "**** Archive"
       ]
      },
      {
       "output_type": "stream",
       "stream": "stdout",
       "text": [
        "\n",
        "108\n",
        "185\n",
        "**** What If?\n",
        "109\n",
        "186\n",
        "**** Blag\n",
        "110\n",
        "187\n",
        "**** Store\n",
        "111\n",
        "188\n",
        "**** About\n",
        "112\n",
        "189\n",
        "**** \n"
       ]
      },
      {
       "output_type": "stream",
       "stream": "stdout",
       "text": [
        "\n",
        "113\n",
        "190\n",
        "**** \n",
        "\n",
        "114\n",
        "190\n",
        "**** |<\n",
        "115\n",
        "191\n",
        "**** < Prev\n",
        "116\n",
        "192\n",
        "**** Random\n",
        "117\n",
        "193\n",
        "**** Next >\n",
        "118\n",
        "194\n",
        "**** >|\n",
        "119\n",
        "195\n",
        "**** |<\n",
        "120\n",
        "191\n",
        "**** < Prev\n",
        "121\n",
        "192\n",
        "**** Random\n",
        "122\n",
        "193\n",
        "**** Next >\n"
       ]
      },
      {
       "output_type": "stream",
       "stream": "stdout",
       "text": [
        "123\n",
        "194\n",
        "**** >|\n",
        "124\n",
        "195\n",
        "**** RSS Feed\n",
        "125\n",
        "196\n",
        "**** Atom Feed\n",
        "126\n",
        "197\n",
        "**** Three Word Phrase\n",
        "127\n",
        "198\n",
        "**** Oglaf\n",
        "128\n",
        "199\n",
        "**** SMBC\n",
        "129\n",
        "200\n",
        "**** Dinosaur Comics\n",
        "130\n",
        "201\n",
        "**** A Softer World\n",
        "131\n",
        "202\n",
        "**** Buttersafe\n",
        "132\n",
        "203\n",
        "**** Perry Bible Fellowship\n",
        "133\n",
        "204\n",
        "**** Questionable Content\n",
        "134\n",
        "205\n",
        "**** Buttercup Festival\n",
        "135\n",
        "206\n",
        "**** Creative Commons Attribution-NonCommercial 2.5 License"
       ]
      },
      {
       "output_type": "stream",
       "stream": "stdout",
       "text": [
        "\n",
        "136\n",
        "207\n",
        "**** More details\n",
        "137\n",
        "208\n",
        "Could not open http://questionablecontent.net/"
       ]
      },
      {
       "output_type": "stream",
       "stream": "stdout",
       "text": [
        "\n",
        "Indexing http://threewordphrase.com/"
       ]
      },
      {
       "output_type": "stream",
       "stream": "stdout",
       "text": [
        "\n",
        "**** =   3   W   P   \"   >   i   m   g       s   r   c   =   \"   m   e   r   c   h   a   d   .   j   p   g   \"       w   i   d   t   h   =   \"   8   0   0   \"       h   e   i   g   h   t   =   \"   1   5   0   \"       b   o   r   d   e   r   =   \"   0   \"   >   /   a   >   /   c   e   n   t   e   r   >       \n",
        "   \n",
        "   \n",
        "   t   a   b   l   e       w   i   d   t   h   =   \"   2   8   5   \"       b   o   r   d   e   r   =   \"   0   \"       a   l   i   g   n   =   \"   c   e   n   t   e   r   \"   >   \n",
        "           t   r   >       \n",
        "                   t   d       w   i   d   t   h   =   \"   2   7   9   \"   >   d   i   v       a   l   i   g   n   =   \"   c   e   n   t   e   r   \"   >   a       h   r   e   f   =   \"   i   n   d   e   x   .   h   t   m   \"   >   i   m   g       s   r   c   =   \"   /   h   e   a   d   e   r   .   g   i   f   \"       w   i   d   t   h   =   \"   3   0   0   \"       h   e   i   g   h   t   =   \"   7   2   \"       b   o   r   d   e   r   =   \"   0   \"   >   /   a   >   /   d   i   v   >   /   t   d   >   \n",
        "           /   t   r   >   \n",
        "   /   t   a   b   l   e   >   \n",
        "   d   i   v       a   l   i   g   n   =   \"   c   e   n   t   e   r   \"   >       \n",
        "           t   a   b   l   e       w   i   d   t   h   =   \"   8   0   0   \"       b   o   r   d   e   r   =   \"   0   \"   >   \n",
        "                   t   r   >   \n",
        "                           t   d       w   i   d   t   h   =   \"   1   4   5   \"       h   e   i   g   h   t   =   \"   4   1   \"   >   a       h   r   e   f   =   \"   /   g   o   n   e   a   t   y   a   .   h   t   m   \"   >   i   m   g       s   r   c   =   \"   /   f   i   r   s   t   l   i   n   k   .   g   i   f   \"       w   i   d   t   h   =   \"   1   0   0   \"       h   e   i   g   h   t   =   \"   3   8   \"       b   o   r   d   e   r   =   \"   0   \"   >   /   a   >   /   t   d   >   \n",
        "                           t   d       w   i   d   t   h   =   \"   1   7   3   \"   >   a       h   r   e   f   =   \"   /   j   o   u   r   n   e   y   .   h   t   m   \"   >   i   m   g       s   r   c   =   \"   /   p   r   e   v   l   i   n   k   .   g   i   f   \"       w   i   d   t   h   =   \"   1   0   0   \"       h   e   i   g   h   t   =   \"   3   9   \"       b   o   r   d   e   r   =   \"   0   \"   >   /   a   >   /   t   d   >   \n",
        "                           t   d       w   i   d   t   h   =   \"   1   8   0   \"   >   a       h   r   e   f   =   \"   /   a   r   c   h   i   v   e   .   h   t   m   \"   >   i   m   g       s   r   c   =   \"   /   a   r   c   h   i   v   e   l   i   n   k   .   g   i   f   \"       w   i   d   t   h   =   \"   1   2   0   \"       h   e   i   g   h   t   =   \"   3   2   \"       b   o   r   d   e   r   =   \"   0   \"   >   /   a   >   /   t   d   >   \n",
        "                           t   d       w   i   d   t   h   =   \"   1   4   0   \"   >   i   m   g       s   r   c   =   \"   /   n   e   x   t   l   i   n   k   .   g   i   f   \"       w   i   d   t   h   =   \"   1   0   0   \"       h   e   i   g   h   t   =   \"   3   8   \"       b   o   r   d   e   r   =   \"   0   \"   >   /   t   d   >   \n",
        "                           t   d       w   i   d   t   h   =   \"   1   4   0   \"   >   a       h   r   e   f   =   \"   /   i   n   d   e   x   .   h   t   m   \"   >   i   m   g       s   r   c   =   \"   /   l   a   t   e   s   t   l   i   n   k   .   g   i   f   \"       w   i   d   t   h   =   \"   1   1   5   \"       h   e   i   g   h   t   =   \"   3   8   \"       b   o   r   d   e   r   =   \"   0   \"   >   /   a   >   /   t   d   >   \n",
        "                   /   t   r   >   \n",
        "           /   t   a   b   l   e   >   \n",
        "           t   a   b   l   e       w   i   d   t   h   =   \"   4   0   3   \"       b   o   r   d   e   r   =   \"   0   \"   >   \n",
        "                   t   r   >   \n",
        "                           t   d       w   i   d   t   h   =   \"   3   9   7   \"       h   e   i   g   h   t   =   \"   3   2   4   \"   >   c   e   n   t   e   r   >   \n",
        "                                   i   m   g       s   r   c   =   \"   z   i   b   z   o   b   2   .   g   i   f   \"       w   i   d   t   h   =   \"   1   0   0   0   \"       h   e   i   g   h   t   =   \"   3   1   2   \"   >   \n",
        "                           /   c   e   n   t   e   r   >   /   t   d   >   \n",
        "                   /   t   r   >   \n",
        "           /   t   a   b   l   e   >   \n",
        "           b   r   >   \n",
        "           c   e   n   t   e   r   >   b   >   f   o   n   t       s   i   z   e   =   \"   2   .   4   \"   >   H   e   y       d   u   d   e   s   .       I       g   o   t       a       r   e   a   l   -   a   s   s       j   o   b       s   t   o   r   y   b   o   a   r   d   i   n   g       f   o   r       a       c   a   r   t   o   o   n       c   a   l   l   e   d       R   e   g   u   l   a   r       S   h   o   w       a       f   e   w       m   o   n   t   h   s       a   g   o       s   o       I       h   a   v   e   n   '   t       h   a   d       a   s       m   u   c   h       t   i   m   e       t   o       d   e   v   o   t   e   b   r   >   \n",
        "       t   o       T   h   r   e   e       W   o   r   d       P   h   r   a   s   e       a   s       I       u   s   e   d       t   o   .       P   l   e   a   s   e       d   o   n   '   t       b   e       t   o   o       m   a   d       a   b   o   u   t       m   y       s   h   a   k   y       u   p   d   a   t   e       s   c   h   e   d   u   l   e       a   n   d       I   '   l   l       t   r   y       a   n   d       w   r   i   t   e       s   o   m   e       f   u   n   n   y       c   a   r   t   o   o   n   s       f   o   r       y   '   a   l   l       t   o       w   a   t   c   h   .       T   h   a   n   k   s   !   /   c   e   n   t   e   r   >   \n",
        "       /   f   o   n   t   >   /   b   >       \n",
        "   b   r   >   \n",
        "       \n",
        "           \n",
        "       !   -   -       P   l   a   c   e       t   h   i   s       t   a   g       w   h   e   r   e       y   o   u       w   a   n   t       t   h   e       s   u       b   a   d   g   e       t   o       r   e   n   d   e   r       -   -   >   \n",
        "   s   u   :   b   a   d   g   e       l   a   y   o   u   t   =   \"   6   \"   >   /   s   u   :   b   a   d   g   e   >   \n",
        "   \n",
        "   !   -   -       P   l   a   c   e       t   h   i   s       s   n   i   p   p   e   t       w   h   e   r   e   v   e   r       a   p   p   r   o   p   r   i   a   t   e       -   -   >       \n",
        "       s   c   r   i   p   t       t   y   p   e   =   \"   t   e   x   t   /   j   a   v   a   s   c   r   i   p   t   \"   >       \n",
        "       (   f   u   n   c   t   i   o   n   (   )       {       \n",
        "                       v   a   r       l   i       =       d   o   c   u   m   e   n   t   .   c   r   e   a   t   e   E   l   e   m   e   n   t   (   '   s   c   r   i   p   t   '   )   ;       l   i   .   t   y   p   e       =       '   t   e   x   t   /   j   a   v   a   s   c   r   i   p   t   '   ;       l   i   .   a   s   y   n   c       =       t   r   u   e   ;       \n",
        "                           l   i   .   s   r   c       =       '   h   t   t   p   s   :   /   /   p   l   a   t   f   o   r   m   .   s   t   u   m   b   l   e   u   p   o   n   .   c   o   m   /   1   /   w   i   d   g   e   t   s   .   j   s   '   ;       \n",
        "                           v   a   r       s       =       d   o   c   u   m   e   n   t   .   g   e   t   E   l   e   m   e   n   t   s   B   y   T   a   g   N   a   m   e   (   '   s   c   r   i   p   t   '   )   [   0   ]   ;       s   .   p   a   r   e   n   t   N   o   d   e   .   i   n   s   e   r   t   B   e   f   o   r   e   (   l   i   ,       s   )   ;       \n",
        "       }   )   (   )   ;       \n",
        "       /   s   c   r   i   p   t   >   \n",
        "       \n",
        "   a       h   r   e   f   =   \"   h   t   t   p   :   /   /   w   w   w   .   t   h   r   e   e   w   o   r   d   p   h   r   a   s   e   .   c   o   m   /   r   s   s   .   x   m   l   \"   >   i   m   g       s   r   c   =   \"   r   s   s   _   3   2   .   p   n   g   \"       a   l   t   =   \"   r   s   s       f   e   e   d   \"       b   o   r   d   e   r   =   \"   0   \"   >   /   a   >   a       h   r   e   f   =   \"   h   t   t   p   :   /   /   w   w   w   .   t   w   i   t   t   e   r   .   c   o   m   /   r   y   a   n   p   e   q   u   i   n   \"   >   i   m   g       s   r   c   =   \"   t   w   i   t   t   e   r   _   3   2   .   p   n   g   \"       a   l   t   =   \"   f   o   l   l   o   w       m   e   \"       b   o   r   d   e   r   =   \"   0   \"   >   /   a   >       a       h   r   e   f   =   \"   h   t   t   p   :   /   /   w   w   w   .   f   a   c   e   b   o   o   k   .   c   o   m   /   p   a   g   e   s   /   T   h   r   e   e   -   W   o   r   d   -   P   h   r   a   s   e   /   1   1   4   5   9   1   1   4   5   2   5   8   4   9   9   ?   r   e   f   =   t   s   \"   >   i   m   g       s   r   c   =   \"   f   a   c   e   b   o   o   k   _   3   2   .   p   n   g   \"       a   l   t   =   \"   f   a   c   e   b   o   o   o   o   o   k   \"       b   o   r   d   e   r   =   \"   0   \"   >   /   a   >       a       h   r   e   f   =   \"   h   t   t   p   :   /   /   r   e   d   d   i   t   .   c   o   m   /   s   u   b   m   i   t   \"       o   n   C   l   i   c   k   =   \"   w   i   n   d   o   w   .   l   o   c   a   t   i   o   n       =       '   h   t   t   p   :   /   /   r   e   d   d   i   t   .   c   o   m   /   s   u   b   m   i   t   ?   u   r   l   =   '       +       e   n   c   o   d   e   U   R   I   C   o   m   p   o   n   e   n   t   (   w   i   n   d   o   w   .   l   o   c   a   t   i   o   n   )   ;       r   e   t   u   r   n       f   a   l   s   e   \"   >   i   m   g       s   r   c   =   \"   r   e   d   d   i   t   _   3   2   .   p   n   g   \"       a   l   t   =   \"   s   u   b   m   i   t       t   o       r   e   d   d   i   t   \"       b   o   r   d   e   r   =   \"   0   \"   /   >   /   a   >   a       h   r   e   f   =   \"   h   t   t   p   :   /   /   w   w   w   .   t   h   r   e   e   w   o   r   d   p   h   r   a   s   e   .   t   u   m   b   l   r   .   c   o   m   /   \"   >   i   m   g       s   r   c   =   \"   t   u   m   b   l   r   _   3   2   .   p   n   g   \"       b   o   r   d   e   r   =   \"   0   \"   >   /   a   >   a       h   r   e   f   =   \"   h   t   t   p   s   :   /   /   w   w   w   .   p   a   y   p   a   l   .   c   o   m   /   c   g   i   -   b   i   n   /   w   e   b   s   c   r   ?   c   m   d   =   _   s   -   x   c   l   i   c   k   &h   o   s   t   e   d   _   b   u   t   t   o   n   _   i   d   =   8   D   G   2   H   H   C   8   8   6   7   P   W   \"   >   i   m   g       s   r   c   =   \"   t   i   p   j   a   r   .   j   p   g   \"       w   i   d   t   h   =   \"   7   2   \"       h   e   i   g   h   t   =   \"   3   2   \"       b   o   r   d   e   r   =   \"   0   \"   >   /   a   >   b   r   >   f   o   n   t       f   a   c   e   =   \"   V   e   r   d   a   n   a   ,       G   e   n   e   v   a   ,       s   a   n   s   -   s   e   r   i   f   \"   ,       f   o   n   t       s   i   z   e   =   \"   -   1   \"   >   e   m   a   i   l       m   e       a   t       r   y   a   n   p   e   q   @   g   m   a   i   l   .   c   o   m   /   f   o   n   t   >   /   d   i   v   >   \n",
        "   s   c   r   i   p   t       t   y   p   e   =   \"   t   e   x   t   /   j   a   v   a   s   c   r   i   p   t   \"   >   \n",
        "   v   a   r       g   a   J   s   H   o   s   t       =       (   (   \"   h   t   t   p   s   :   \"       =   =       d   o   c   u   m   e   n   t   .   l   o   c   a   t   i   o   n   .   p   r   o   t   o   c   o   l   )       ?       \"   h   t   t   p   s   :   /   /   s   s   l   .   \"       :       \"   h   t   t   p   :   /   /   w   w   w   .   \"   )   ;   \n",
        "   d   o   c   u   m   e   n   t   .   w   r   i   t   e   (   u   n   e   s   c   a   p   e   (   \"   %   3   C   s   c   r   i   p   t       s   r   c   =   '   \"       +       g   a   J   s   H   o   s   t       +       \"   g   o   o   g   l   e   -   a   n   a   l   y   t   i   c   s   .   c   o   m   /   g   a   .   j   s   '       t   y   p   e   =   '   t   e   x   t   /   j   a   v   a   s   c   r   i   p   t   '   %   3   E   %   3   C   /   s   c   r   i   p   t   %   3   E   \"   )   )   ;   \n",
        "   /   s   c   r   i   p   t   >   \n",
        "   s   c   r   i   p   t       t   y   p   e   =   \"   t   e   x   t   /   j   a   v   a   s   c   r   i   p   t   \"   >   \n",
        "   t   r   y       {   \n",
        "   v   a   r       p   a   g   e   T   r   a   c   k   e   r       =       _   g   a   t   .   _   g   e   t   T   r   a   c   k   e   r   (   \"   U   A   -   7   2   5   5   7   8   5   -   4   \"   )   ;   \n",
        "   p   a   g   e   T   r   a   c   k   e   r   .   _   t   r   a   c   k   P   a   g   e   v   i   e   w   (   )   ;   \n",
        "   }       c   a   t   c   h   (   e   r   r   )       {   }   /   s   c   r   i   p   t   >   \n",
        "   /   f   o   n   t   >   \n",
        "   /   b   o   d   y   >   \n",
        "   /   h   t   m   l   >"
       ]
      },
      {
       "output_type": "stream",
       "stream": "stdout",
       "text": [
        "\n",
        "138\n"
       ]
      },
      {
       "ename": "OperationalError",
       "evalue": "near \"t\": syntax error",
       "output_type": "pyerr",
       "traceback": [
        "\u001b[1;31m---------------------------------------------------------------------------\u001b[0m\n\u001b[1;31mOperationalError\u001b[0m                          Traceback (most recent call last)",
        "\u001b[1;32m<ipython-input-1-db459e9a4f24>\u001b[0m in \u001b[0;36m<module>\u001b[1;34m()\u001b[0m\n\u001b[0;32m      3\u001b[0m \u001b[0mcrawler\u001b[0m\u001b[1;33m.\u001b[0m\u001b[0mcreateindextables\u001b[0m\u001b[1;33m(\u001b[0m\u001b[1;33m)\u001b[0m\u001b[1;33m\u001b[0m\u001b[0m\n\u001b[0;32m      4\u001b[0m \u001b[0mpagelist\u001b[0m\u001b[1;33m=\u001b[0m\u001b[1;33m[\u001b[0m\u001b[1;34m'http://xkcd.com/1376/'\u001b[0m\u001b[1;33m]\u001b[0m\u001b[1;33m\u001b[0m\u001b[0m\n\u001b[1;32m----> 5\u001b[1;33m \u001b[0mcrawler\u001b[0m\u001b[1;33m.\u001b[0m\u001b[0mcrawl\u001b[0m\u001b[1;33m(\u001b[0m\u001b[0mpagelist\u001b[0m\u001b[1;33m)\u001b[0m\u001b[1;33m\u001b[0m\u001b[0m\n\u001b[0m",
        "\u001b[1;32m/media/DATA/Informacion Importante (Replicada en web)/Estudios en Curso/Python/Python for IA/Collective Intelligence/ActualCollectiveIntelligence/Searching and Ranking/searchengine.py\u001b[0m in \u001b[0;36mcrawl\u001b[1;34m(self, pages, depth)\u001b[0m\n\u001b[0;32m    130\u001b[0m                                                 \u001b[0mlinkText\u001b[0m\u001b[1;33m=\u001b[0m\u001b[0mself\u001b[0m\u001b[1;33m.\u001b[0m\u001b[0mgettextonly\u001b[0m\u001b[1;33m(\u001b[0m\u001b[0mlink\u001b[0m\u001b[1;33m)\u001b[0m\u001b[1;33m\u001b[0m\u001b[0m\n\u001b[0;32m    131\u001b[0m                                                 \u001b[1;32mprint\u001b[0m \u001b[1;34m'**** '\u001b[0m \u001b[1;33m+\u001b[0m \u001b[0mlinkText\u001b[0m\u001b[1;33m\u001b[0m\u001b[0m\n\u001b[1;32m--> 132\u001b[1;33m                                                 \u001b[0mself\u001b[0m\u001b[1;33m.\u001b[0m\u001b[0maddlinkref\u001b[0m\u001b[1;33m(\u001b[0m\u001b[0mpage\u001b[0m\u001b[1;33m,\u001b[0m \u001b[0murl\u001b[0m\u001b[1;33m,\u001b[0m \u001b[0mlinkText\u001b[0m\u001b[1;33m)\u001b[0m\u001b[1;33m\u001b[0m\u001b[0m\n\u001b[0m\u001b[0;32m    133\u001b[0m \u001b[1;33m\u001b[0m\u001b[0m\n\u001b[0;32m    134\u001b[0m                                 \u001b[0mself\u001b[0m\u001b[1;33m.\u001b[0m\u001b[0mdbcommit\u001b[0m\u001b[1;33m(\u001b[0m\u001b[1;33m)\u001b[0m\u001b[1;33m\u001b[0m\u001b[0m\n",
        "\u001b[1;32m/media/DATA/Informacion Importante (Replicada en web)/Estudios en Curso/Python/Python for IA/Collective Intelligence/ActualCollectiveIntelligence/Searching and Ranking/searchengine.py\u001b[0m in \u001b[0;36maddlinkref\u001b[1;34m(self, urlFrom, urlto, linkText)\u001b[0m\n\u001b[0;32m     98\u001b[0m \u001b[1;33m\u001b[0m\u001b[0m\n\u001b[0;32m     99\u001b[0m                  \u001b[1;31m#filling linkwords\u001b[0m\u001b[1;33m\u001b[0m\u001b[1;33m\u001b[0m\u001b[0m\n\u001b[1;32m--> 100\u001b[1;33m                  \u001b[0mwordid\u001b[0m\u001b[1;33m=\u001b[0m\u001b[0mself\u001b[0m\u001b[1;33m.\u001b[0m\u001b[0mgetentryid\u001b[0m\u001b[1;33m(\u001b[0m\u001b[1;34m'wordlist'\u001b[0m\u001b[1;33m,\u001b[0m \u001b[1;34m'word'\u001b[0m\u001b[1;33m,\u001b[0m \u001b[0mlinkText\u001b[0m\u001b[1;33m)\u001b[0m\u001b[1;33m\u001b[0m\u001b[0m\n\u001b[0m\u001b[0;32m    101\u001b[0m                  \u001b[1;32mprint\u001b[0m \u001b[0mwordid\u001b[0m\u001b[1;33m\u001b[0m\u001b[0m\n\u001b[0;32m    102\u001b[0m                  \u001b[0mself\u001b[0m\u001b[1;33m.\u001b[0m\u001b[0mcon\u001b[0m\u001b[1;33m.\u001b[0m\u001b[0mexecute\u001b[0m\u001b[1;33m(\u001b[0m\u001b[1;34m\"insert into linkwords(wordid, linkid) values (%s,%s)\"\u001b[0m \u001b[1;33m%\u001b[0m \u001b[1;33m(\u001b[0m\u001b[0mwordid\u001b[0m\u001b[1;33m,\u001b[0m \u001b[0mlinkid\u001b[0m\u001b[1;33m)\u001b[0m\u001b[1;33m)\u001b[0m\u001b[1;33m\u001b[0m\u001b[0m\n",
        "\u001b[1;32m/media/DATA/Informacion Importante (Replicada en web)/Estudios en Curso/Python/Python for IA/Collective Intelligence/ActualCollectiveIntelligence/Searching and Ranking/searchengine.py\u001b[0m in \u001b[0;36mgetentryid\u001b[1;34m(self, table, field, value, createnew)\u001b[0m\n\u001b[0;32m     24\u001b[0m         \u001b[1;32mdef\u001b[0m \u001b[0mgetentryid\u001b[0m\u001b[1;33m(\u001b[0m\u001b[0mself\u001b[0m\u001b[1;33m,\u001b[0m \u001b[0mtable\u001b[0m\u001b[1;33m,\u001b[0m \u001b[0mfield\u001b[0m\u001b[1;33m,\u001b[0m \u001b[0mvalue\u001b[0m\u001b[1;33m,\u001b[0m \u001b[0mcreatenew\u001b[0m\u001b[1;33m=\u001b[0m\u001b[0mTrue\u001b[0m\u001b[1;33m)\u001b[0m\u001b[1;33m:\u001b[0m\u001b[1;33m\u001b[0m\u001b[0m\n\u001b[0;32m     25\u001b[0m \t\tcur = self.con.execute(\n\u001b[1;32m---> 26\u001b[1;33m \t\t\t\"select rowid from %s where %s='%s'\" % (table, field, value))\n\u001b[0m\u001b[0;32m     27\u001b[0m                 \u001b[0mres\u001b[0m\u001b[1;33m=\u001b[0m\u001b[0mcur\u001b[0m\u001b[1;33m.\u001b[0m\u001b[0mfetchone\u001b[0m\u001b[1;33m(\u001b[0m\u001b[1;33m)\u001b[0m\u001b[1;33m\u001b[0m\u001b[0m\n\u001b[0;32m     28\u001b[0m                 \u001b[1;32mif\u001b[0m  \u001b[0mres\u001b[0m \u001b[1;33m==\u001b[0m \u001b[0mNone\u001b[0m \u001b[1;33m:\u001b[0m\u001b[1;33m\u001b[0m\u001b[0m\n",
        "\u001b[1;31mOperationalError\u001b[0m: near \"t\": syntax error"
       ]
      }
     ],
     "prompt_number": 1
    },
    {
     "cell_type": "code",
     "collapsed": false,
     "input": [
      "import searchengine as se\n",
      "crawler=se.crawler('searchindex.db')\n",
      "print [row for row in crawler.con.execute('select * from urllist')]\n",
      "print ''\n",
      "#print [row for row in crawler.con.execute('select * from wordlocation')]\n",
      "print ''\n",
      "#print [row for row in crawler.con.execute('select * from wordlist')]\n",
      "print ''\n",
      " #print len([row for row in crawler.con.execute('select * from wordlist')])\n",
      "print ''\n",
      "print [row for row in crawler.con.execute('select * from linkwords')]\n",
      "print ''\n",
      "print [row for row in crawler.con.execute('select * from link')]"
     ],
     "language": "python",
     "metadata": {},
     "outputs": [
      {
       "output_type": "stream",
       "stream": "stdout",
       "text": [
        "[(u'http://xkcd.com/1376/',), (u'http://xkcd.com/archive',), (u'http://what-if.xkcd.com',), (u'http://blag.xkcd.com',), (u'http://store.xkcd.com/',), (u'http://xkcd.com/about',), (u'http://xkcd.com/',), (u'http://blog.xkcd.com/2014/03/12/what-if-i-wrote-a-book/',), (u'http://xkcd.com/1/',), (u'http://xkcd.com/1375/',), (u'http://c.xkcd.com/random/comic/',), (u'http://xkcd.com/1377/',), (u'http://xkcd.com/rss.xml',), (u'http://xkcd.com/atom.xml',), (u'http://threewordphrase.com/',), (u'http://oglaf.com/',), (u'http://www.smbc-comics.com/',), (u'http://www.qwantz.com',), (u'http://www.asofterworld.com',), (u'http://buttersafe.com/',), (u'http://pbfcomics.com/',), (u'http://questionablecontent.net/',), (u'http://www.buttercupfestival.com/',), (u'http://creativecommons.org/licenses/by-nc/2.5/',), (u'http://xkcd.com/license.html',), (u'http://blog.xkcd.com/',), (u'http://blog.xkcd.com/2014/01/31/the-baby-name-wizard/',), (u'http://blog.xkcd.com/2014/05/30/isee-3/',), (u'http://blog.xkcd.com/author/admin/',), (u'http://what-if.xkcd.com/',), (u'http://www.barnesandnoble.com/w/what-if-serious-scientific-answers-to-absurd-hypothetical-questions-randall-munroe/1118864093?ean=9780544272996',), (u'http://www.amazon.com/What-If-Scientific-Hypothetical-Questions/dp/0544272994/ref=sr_1_1?s=books&ie=UTF8&qid=1394474740&sr=1-1&keywords=what+if%3F%2C+munroe',), (u'http://www.indiebound.org/book/9780544272996',), (u'http://www.amazon.co.uk/What-If-Randall-Munroe/dp/1848549571/',), (u'http://www.amazon.de/What-w%C3%A4re-wenn-wissenschaftliche-hypothetische/dp/3813506525/',), (u'http://blog.xkcd.com/category/uncategorized/',), (u'http://blog.xkcd.com/2014/03/12/what-if-i-wrote-a-book/comment-page-19/',), (u'http://blog.xkcd.com/2014/03/12/what-if-i-wrote-a-book/comment-page-20/',), (u'http://download-videos.ir',), (u'http://gergely.polonkai.eu/',), (u'http://irandecora.ir',), (u'http://www.zeta-producer.com',), (u'http://www.doctorslime.com',), (u'http://twitter.com/Lady_Noremon',), (u'http://www.ivatan.ir/',), (u'http://wordpress.org/',), (u'http://xkcd.com/1374/',), (u'http://xkcd.com/2/',)]\n",
        "\n",
        "\n",
        "\n",
        "\n",
        "[(185, 1), (186, 2), (187, 3), (188, 4), (189, 5), (190, 6), (190, 7), (191, 8), (192, 9), (193, 10), (194, 11), (195, 12), (191, 13), (192, 14), (193, 15), (194, 16), (195, 17), (196, 18), (197, 19), (198, 20), (199, 21), (200, 22), (201, 23), (202, 24), (203, 25), (204, 26), (205, 27), (206, 28), (207, 29), (208, 30), (14, 31), (641, 32), (642, 33), (643, 34), (644, 35), (645, 36), (646, 37), (272, 38), (647, 39), (648, 40), (649, 41), (650, 42), (651, 43), (652, 44), (653, 45), (272, 46), (362, 47), (654, 48), (655, 49), (656, 50), (657, 51), (658, 52), (659, 53), (660, 54), (661, 55), (662, 56), (663, 57), (664, 58), (665, 59), (666, 60), (667, 61), (668, 62), (669, 63), (670, 64), (671, 65), (672, 66), (673, 67), (674, 68), (675, 69), (676, 70), (677, 71), (678, 72), (679, 73), (680, 74), (654, 75), (681, 76), (682, 77), (185, 78), (186, 79), (187, 80), (188, 81), (189, 82), (190, 83), (190, 84), (191, 85), (192, 86), (193, 87), (194, 88), (195, 89), (191, 90), (192, 91), (193, 92), (194, 93), (195, 94), (196, 95), (197, 96), (198, 97), (199, 98), (200, 99), (201, 100), (202, 101), (203, 102), (204, 103), (205, 104), (206, 105), (207, 106), (208, 107), (185, 108), (186, 109), (187, 110), (188, 111), (189, 112), (190, 113), (190, 114), (191, 115), (192, 116), (193, 117), (194, 118), (195, 119), (191, 120), (192, 121), (193, 122), (194, 123), (195, 124), (196, 125), (197, 126), (198, 127), (199, 128), (200, 129), (201, 130), (202, 131), (203, 132), (204, 133), (205, 134), (206, 135), (207, 136), (208, 137)]\n",
        "\n",
        "[(1, 2), (1, 3), (1, 4), (1, 5), (1, 6), (1, 7), (1, 8), (1, 9), (1, 10), (1, 11), (1, 12), (1, 7), (1, 9), (1, 10), (1, 11), (1, 12), (1, 7), (1, 13), (1, 14), (1, 15), (1, 16), (1, 17), (1, 18), (1, 19), (1, 20), (1, 21), (1, 22), (1, 23), (1, 24), (1, 25), (8, 26), (8, 8), (8, 8), (8, 26), (8, 27), (8, 28), (8, 8), (8, 29), (8, 30), (8, 31), (8, 32), (8, 33), (8, 34), (8, 35), (8, 36), (8, 29), (8, 8), (8, 37), (8, 38), (8, 38), (8, 39), (8, 38), (8, 39), (8, 40), (8, 38), (8, 41), (8, 38), (8, 38), (8, 38), (8, 42), (8, 38), (8, 38), (8, 38), (8, 38), (8, 43), (8, 38), (8, 38), (8, 44), (8, 38), (8, 38), (8, 38), (8, 45), (8, 38), (8, 45), (8, 37), (8, 8), (8, 46), (10, 2), (10, 3), (10, 4), (10, 5), (10, 6), (10, 7), (10, 8), (10, 9), (10, 47), (10, 11), (10, 1), (10, 7), (10, 9), (10, 47), (10, 11), (10, 1), (10, 7), (10, 13), (10, 14), (10, 15), (10, 16), (10, 17), (10, 18), (10, 19), (10, 20), (10, 21), (10, 22), (10, 23), (10, 24), (10, 25), (9, 2), (9, 3), (9, 4), (9, 5), (9, 6), (9, 7), (9, 8), (9, 9), (9, 9), (9, 11), (9, 48), (9, 7), (9, 9), (9, 9), (9, 11), (9, 48), (9, 7), (9, 13), (9, 14), (9, 15), (9, 16), (9, 17), (9, 18), (9, 19), (9, 20), (9, 21), (9, 22), (9, 23), (9, 24), (9, 25)]\n"
       ]
      }
     ],
     "prompt_number": 2
    },
    {
     "cell_type": "code",
     "collapsed": false,
     "input": [
      "from sqlite3 import dbapi2 as sqlite\n",
      "con=sqlite.connect('searchindex.db')\n",
      "cur = con.execute(\"select * from linkwords \" )\n",
      "res=cur.fetchone()\n",
      "print res"
     ],
     "language": "python",
     "metadata": {},
     "outputs": [
      {
       "output_type": "stream",
       "stream": "stdout",
       "text": [
        "None\n"
       ]
      }
     ],
     "prompt_number": 34
    },
    {
     "cell_type": "code",
     "collapsed": false,
     "input": [
      "import searchengine as se\n",
      "\n",
      "e = se.searcher('searchindex.db')\n",
      "e.getmatchrows('humor adults')"
     ],
     "language": "python",
     "metadata": {},
     "outputs": [
      {
       "metadata": {},
       "output_type": "pyout",
       "prompt_number": 1,
       "text": [
        "([(1, 215, 221),\n",
        "  (4, 217, 223),\n",
        "  (6, 256, 262),\n",
        "  (16, 337, 343),\n",
        "  (20, 215, 221),\n",
        "  (22, 2807, 2813)],\n",
        " [137, 138])"
       ]
      }
     ],
     "prompt_number": 1
    },
    {
     "cell_type": "code",
     "collapsed": false,
     "input": [
      "import searchengine as se\n",
      "\n",
      "e = se.searcher('searchindex.db')\n",
      "e.query('also')"
     ],
     "language": "python",
     "metadata": {},
     "outputs": [
      {
       "output_type": "stream",
       "stream": "stdout",
       "text": [
        "0.760000\thttp://blog.xkcd.com/2014/03/12/what-if-i-wrote-a-book/\n",
        "0.701613\thttp://blag.xkcd.com\n",
        "0.652377\thttp://xkcd.com/about\n",
        "0.550337\thttp://creativecommons.org/licenses/by-nc/2.5/\n",
        "0.513969\thttp://xkcd.com/license.html\n",
        "0.457778\thttp://www.buttercupfestival.com/\n",
        "0.303413\thttp://what-if.xkcd.com\n"
       ]
      }
     ],
     "prompt_number": 1
    },
    {
     "cell_type": "code",
     "collapsed": false,
     "input": [
      "from bs4 import BeautifulSoup\n",
      "import urllib2"
     ],
     "language": "python",
     "metadata": {},
     "outputs": [],
     "prompt_number": 5
    },
    {
     "cell_type": "code",
     "collapsed": false,
     "input": [
      "c=urllib2.urlopen('http://es.xkcd.com/')\n",
      "soup=BeautifulSoup(c.read())\n",
      "links=soup('a')\n",
      "print links[0]\n",
      "cr = se.crawler('searchindex.db')\n",
      "\n"
     ],
     "language": "python",
     "metadata": {},
     "outputs": [
      {
       "output_type": "stream",
       "stream": "stdout",
       "text": [
        "<a href=\"http://www.xkcd.com/\">xkcd</a>\n",
        "xkcd\n"
       ]
      }
     ],
     "prompt_number": 9
    },
    {
     "cell_type": "code",
     "collapsed": false,
     "input": [
      "from urlparse import urljoin\n",
      "import re\n",
      "\n",
      "page = 'http://es.xkcd.com/' \n",
      "\n",
      "textosLinks= []\n",
      "for link in links:\n",
      "    if ('href' in dict(link.attrs)):\n",
      "        url=urljoin(page,link['href'])\n",
      "        if url.find(\"'\") != -1:\n",
      "            continue\n",
      "        url=url.split('#')[0] #remove location portion\n",
      "        linkText=cr.gettextonly(link)\n",
      "        print linkText\n",
      "        textosLinks.append(linkText)\n",
      "        \n",
      "print textosLinks\n",
      "for texto in textosLinks:\n",
      "    if re.match('^[a-zA-Z0-9_]+$',texto): \n",
      "        print texto"
     ],
     "language": "python",
     "metadata": {},
     "outputs": [
      {
       "output_type": "stream",
       "stream": "stdout",
       "text": [
        "xkcd\n",
        "Randall Munroe\n",
        "yo\n",
        "\n",
        "xkcd en espa\u00f1ol\n",
        "\n",
        "\n",
        "\n",
        "\n",
        "\n",
        "\n",
        "|<\n",
        "<\u00a0Anterior\n",
        "Archivo\n",
        "Siguiente\u00a0>\n",
        ">|\n",
        "\n",
        "\n",
        "\n",
        "\n",
        "\n",
        "\n",
        "\n",
        "\n",
        "\n",
        "\n",
        "\n",
        "Creative Commons Attribution-NonCommercial 2.5\n",
        "Gabriel Rodr\u00edguez Alberich\n",
        "[u'xkcd', u'Randall Munroe', u'yo', u'\\nxkcd en espa\\xf1ol\\n\\n', u'\\n\\n\\n', u'|<', u'<\\xa0Anterior', u'Archivo', u'Siguiente\\xa0>', u'>|', u'\\n\\n\\n', u'\\n\\n\\n', u'\\n\\n', u'Creative Commons Attribution-NonCommercial 2.5', u'Gabriel Rodr\\xedguez Alberich']\n",
        "xkcd\n",
        "yo\n",
        "Archivo\n"
       ]
      }
     ],
     "prompt_number": 25
    },
    {
     "cell_type": "code",
     "collapsed": false,
     "input": [
      "import searchengine as se\n",
      "cr = se.crawler('searchindex.db')\n",
      "cr.calculatepagerank()"
     ],
     "language": "python",
     "metadata": {},
     "outputs": [
      {
       "output_type": "stream",
       "stream": "stdout",
       "text": [
        "Iteration 0\n",
        "Iteration 1"
       ]
      },
      {
       "output_type": "stream",
       "stream": "stdout",
       "text": [
        "\n",
        "Iteration 2"
       ]
      },
      {
       "output_type": "stream",
       "stream": "stdout",
       "text": [
        "\n",
        "Iteration 3"
       ]
      },
      {
       "output_type": "stream",
       "stream": "stdout",
       "text": [
        "\n",
        "Iteration 4"
       ]
      },
      {
       "output_type": "stream",
       "stream": "stdout",
       "text": [
        "\n",
        "Iteration 5"
       ]
      },
      {
       "output_type": "stream",
       "stream": "stdout",
       "text": [
        "\n",
        "Iteration 6"
       ]
      },
      {
       "output_type": "stream",
       "stream": "stdout",
       "text": [
        "\n",
        "Iteration 7"
       ]
      },
      {
       "output_type": "stream",
       "stream": "stdout",
       "text": [
        "\n",
        "Iteration 8"
       ]
      },
      {
       "output_type": "stream",
       "stream": "stdout",
       "text": [
        "\n",
        "Iteration 9"
       ]
      },
      {
       "output_type": "stream",
       "stream": "stdout",
       "text": [
        "\n",
        "Iteration 10"
       ]
      },
      {
       "output_type": "stream",
       "stream": "stdout",
       "text": [
        "\n",
        "Iteration 11"
       ]
      },
      {
       "output_type": "stream",
       "stream": "stdout",
       "text": [
        "\n",
        "Iteration 12"
       ]
      },
      {
       "output_type": "stream",
       "stream": "stdout",
       "text": [
        "\n",
        "Iteration 13"
       ]
      },
      {
       "output_type": "stream",
       "stream": "stdout",
       "text": [
        "\n",
        "Iteration 14"
       ]
      },
      {
       "output_type": "stream",
       "stream": "stdout",
       "text": [
        "\n",
        "Iteration 15"
       ]
      },
      {
       "output_type": "stream",
       "stream": "stdout",
       "text": [
        "\n",
        "Iteration 16"
       ]
      },
      {
       "output_type": "stream",
       "stream": "stdout",
       "text": [
        "\n",
        "Iteration 17"
       ]
      },
      {
       "output_type": "stream",
       "stream": "stdout",
       "text": [
        "\n",
        "Iteration 18"
       ]
      },
      {
       "output_type": "stream",
       "stream": "stdout",
       "text": [
        "\n",
        "Iteration 19"
       ]
      },
      {
       "output_type": "stream",
       "stream": "stdout",
       "text": [
        "\n"
       ]
      }
     ],
     "prompt_number": 1
    },
    {
     "cell_type": "code",
     "collapsed": false,
     "input": [
      "cur = cr.con.execute('select * from pagerank order by score desc')\n",
      "for i in range(20): print cur.next()"
     ],
     "language": "python",
     "metadata": {},
     "outputs": [
      {
       "output_type": "stream",
       "stream": "stdout",
       "text": [
        "(8, 0.166386)\n",
        "(2, 0.163377)\n",
        "(3, 0.163377)\n",
        "(4, 0.163377)\n",
        "(5, 0.163377)\n",
        "(6, 0.163377)\n",
        "(7, 0.163377)\n",
        "(9, 0.163377)\n",
        "(11, 0.163377)\n",
        "(13, 0.163377)\n",
        "(14, 0.163377)\n",
        "(15, 0.163377)\n",
        "(16, 0.163377)\n",
        "(17, 0.163377)\n",
        "(18, 0.163377)\n",
        "(19, 0.163377)\n",
        "(20, 0.163377)\n",
        "(21, 0.163377)\n",
        "(22, 0.163377)\n",
        "(23, 0.163377)\n"
       ]
      }
     ],
     "prompt_number": 4
    },
    {
     "cell_type": "code",
     "collapsed": false,
     "input": [
      "import searchengine as se\n",
      "\n",
      "e = se.searcher('searchindex.db')\n",
      "e.query('humor')"
     ],
     "language": "python",
     "metadata": {},
     "outputs": [
      {
       "output_type": "stream",
       "stream": "stdout",
       "text": [
        "0.972447\thttp://xkcd.com/1376/\n",
        "0.970542\thttp://xkcd.com/1375/\n",
        "0.967068\thttp://xkcd.com/1/\n"
       ]
      }
     ],
     "prompt_number": 4
    },
    {
     "cell_type": "code",
     "collapsed": false,
     "input": [],
     "language": "python",
     "metadata": {},
     "outputs": []
    }
   ],
   "metadata": {}
  }
 ]
}