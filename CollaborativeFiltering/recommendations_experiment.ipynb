{
 "metadata": {
  "name": "",
  "signature": "sha256:e86036be65c584e99382f51c0835331d8b0585c2d4d8d866a36074ec51a88954"
 },
 "nbformat": 3,
 "nbformat_minor": 0,
 "worksheets": [
  {
   "cells": [
    {
     "cell_type": "code",
     "collapsed": false,
     "input": [
      "from recommendations import critics"
     ],
     "language": "python",
     "metadata": {},
     "outputs": [],
     "prompt_number": 1
    },
    {
     "cell_type": "code",
     "collapsed": false,
     "input": [
      "critics['Lisa Rose']['Lady in the Water']"
     ],
     "language": "python",
     "metadata": {},
     "outputs": [
      {
       "metadata": {},
       "output_type": "pyout",
       "prompt_number": 2,
       "text": [
        "2.5"
       ]
      }
     ],
     "prompt_number": 2
    },
    {
     "cell_type": "code",
     "collapsed": false,
     "input": [
      "from math import sqrt\n"
     ],
     "language": "python",
     "metadata": {},
     "outputs": [],
     "prompt_number": 3
    },
    {
     "cell_type": "code",
     "collapsed": false,
     "input": [
      "sqrt(pow(5-4,2)+pow(4-1,2))\n"
     ],
     "language": "python",
     "metadata": {},
     "outputs": [
      {
       "metadata": {},
       "output_type": "pyout",
       "prompt_number": 4,
       "text": [
        "3.1622776601683795"
       ]
      }
     ],
     "prompt_number": 4
    },
    {
     "cell_type": "code",
     "collapsed": false,
     "input": [
      "1/(1+sqrt(pow(5-4,2)+pow(4-1,2)))"
     ],
     "language": "python",
     "metadata": {},
     "outputs": [
      {
       "metadata": {},
       "output_type": "pyout",
       "prompt_number": 5,
       "text": [
        "0.2402530733520421"
       ]
      }
     ],
     "prompt_number": 5
    },
    {
     "cell_type": "code",
     "collapsed": false,
     "input": [
      "%run recommendations.py"
     ],
     "language": "python",
     "metadata": {},
     "outputs": [],
     "prompt_number": 10
    },
    {
     "cell_type": "code",
     "collapsed": false,
     "input": [
      "from math import sqrt\n",
      "# A dictionary of movie critics and their ratings of a small\n",
      "# set of movies\n",
      "critics={'Lisa Rose': {'Lady in the Water': 2.5, 'Snakes on a Plane': 3.5,\n",
      "'Just My Luck': 3.0, 'Superman Returns': 3.5, 'You, Me and Dupree': 2.5,\n",
      "'The Night Listener': 3.0},\n",
      "'Gene Seymour': {'Lady in the Water': 3.0, 'Snakes on a Plane': 3.5,\n",
      "'Just My Luck': 1.5, 'Superman Returns': 5.0, 'The Night Listener': 3.0,\n",
      "'You, Me and Dupree': 3.5},\n",
      "'Michael Phillips': {'Lady in the Water': 2.5, 'Snakes on a Plane': 3.0,\n",
      "'Superman Returns': 3.5, 'The Night Listener': 4.0},\n",
      "'Claudia Puig': {'Snakes on a Plane': 3.5, 'Just My Luck': 3.0,\n",
      "'The Night Listener': 4.5, 'Superman Returns': 4.0,\n",
      "'You, Me and Dupree': 2.5},\n",
      "'Mick LaSalle': {'Lady in the Water': 3.0, 'Snakes on a Plane': 4.0,\n",
      "'Just My Luck': 2.0, 'Superman Returns': 3.0, 'The Night Listener': 3.0,\n",
      "'You, Me and Dupree': 2.0},\n",
      "'Jack Matthews': {'Lady in the Water': 3.0, 'Snakes on a Plane': 4.0,\n",
      "'The Night Listener': 3.0, 'Superman Returns': 5.0, 'You, Me and Dupree': 3.5},\n",
      "'Toby': {'Snakes on a Plane':4.5,'You, Me and Dupree':1.0,'Superman Returns':4.0}}\n",
      "\n",
      "#Returns a distance-based similarity score for person1 and person2\n",
      "def sim_distance(prefs, person1,person2):\n",
      "\tsi = {} #Get the list of shared  items\n",
      "\tfor item in prefs[person1]:\n",
      "\t\tif item in prefs[person2]:\n",
      "\t\t\tsi[item]=1\n",
      "\n",
      "\t#if the have no ratings in common, return 0\n",
      "\tif len(si)== 0: return 0\n",
      "\n",
      "\t#Add up the squares of all the differences\n",
      "\tsum_of_squares = sum([pow(prefs[person1][item]-prefs[person2][item], 2)\n",
      "\t\t\t\t\t\t\tfor item in prefs[person1] if item in prefs[person2]])\n",
      "\n",
      "\treturn 1/(1+sum_of_squares) \n"
     ],
     "language": "python",
     "metadata": {},
     "outputs": []
    },
    {
     "cell_type": "code",
     "collapsed": false,
     "input": [
      "sim_distance(critics, 'Lisa Rose', 'Gene Seymour')"
     ],
     "language": "python",
     "metadata": {},
     "outputs": [
      {
       "metadata": {},
       "output_type": "pyout",
       "prompt_number": 12,
       "text": [
        "0.14814814814814814"
       ]
      }
     ],
     "prompt_number": 12
    },
    {
     "cell_type": "code",
     "collapsed": false,
     "input": [
      "%magic"
     ],
     "language": "python",
     "metadata": {},
     "outputs": [],
     "prompt_number": 13
    },
    {
     "cell_type": "code",
     "collapsed": false,
     "input": [
      "%lsmagic"
     ],
     "language": "python",
     "metadata": {},
     "outputs": [
      {
       "json": [
        "{\"cell\": {\"prun\": \"ExecutionMagics\", \"file\": \"Other\", \"!\": \"OSMagics\", \"capture\": \"ExecutionMagics\", \"timeit\": \"ExecutionMagics\", \"script\": \"ScriptMagics\", \"pypy\": \"Other\", \"system\": \"OSMagics\", \"perl\": \"Other\", \"HTML\": \"Other\", \"bash\": \"Other\", \"python\": \"Other\", \"SVG\": \"Other\", \"javascript\": \"DisplayMagics\", \"writefile\": \"OSMagics\", \"ruby\": \"Other\", \"python3\": \"Other\", \"python2\": \"Other\", \"latex\": \"DisplayMagics\", \"sx\": \"OSMagics\", \"svg\": \"DisplayMagics\", \"html\": \"DisplayMagics\", \"sh\": \"Other\", \"time\": \"ExecutionMagics\", \"debug\": \"ExecutionMagics\"}, \"line\": {\"psource\": \"NamespaceMagics\", \"logstart\": \"LoggingMagics\", \"popd\": \"OSMagics\", \"loadpy\": \"CodeMagics\", \"install_ext\": \"ExtensionMagics\", \"colors\": \"BasicMagics\", \"who_ls\": \"NamespaceMagics\", \"lf\": \"Other\", \"install_profiles\": \"DeprecatedMagics\", \"ll\": \"Other\", \"pprint\": \"BasicMagics\", \"lk\": \"Other\", \"ls\": \"Other\", \"save\": \"CodeMagics\", \"tb\": \"ExecutionMagics\", \"lx\": \"Other\", \"pylab\": \"PylabMagics\", \"killbgscripts\": \"ScriptMagics\", \"quickref\": \"BasicMagics\", \"magic\": \"BasicMagics\", \"dhist\": \"OSMagics\", \"edit\": \"KernelMagics\", \"logstop\": \"LoggingMagics\", \"gui\": \"BasicMagics\", \"alias_magic\": \"BasicMagics\", \"debug\": \"ExecutionMagics\", \"page\": \"BasicMagics\", \"logstate\": \"LoggingMagics\", \"ed\": \"Other\", \"pushd\": \"OSMagics\", \"timeit\": \"ExecutionMagics\", \"rehashx\": \"OSMagics\", \"hist\": \"Other\", \"qtconsole\": \"KernelMagics\", \"rm\": \"Other\", \"dirs\": \"OSMagics\", \"run\": \"ExecutionMagics\", \"reset_selective\": \"NamespaceMagics\", \"rep\": \"Other\", \"pinfo2\": \"NamespaceMagics\", \"matplotlib\": \"PylabMagics\", \"unload_ext\": \"ExtensionMagics\", \"doctest_mode\": \"KernelMagics\", \"logoff\": \"LoggingMagics\", \"reload_ext\": \"ExtensionMagics\", \"pdb\": \"ExecutionMagics\", \"load\": \"CodeMagics\", \"lsmagic\": \"BasicMagics\", \"autosave\": \"KernelMagics\", \"cd\": \"OSMagics\", \"pastebin\": \"CodeMagics\", \"prun\": \"ExecutionMagics\", \"cp\": \"Other\", \"autocall\": \"AutoMagics\", \"bookmark\": \"OSMagics\", \"connect_info\": \"KernelMagics\", \"mkdir\": \"Other\", \"system\": \"OSMagics\", \"whos\": \"NamespaceMagics\", \"rmdir\": \"Other\", \"automagic\": \"AutoMagics\", \"store\": \"StoreMagics\", \"more\": \"KernelMagics\", \"pdef\": \"NamespaceMagics\", \"precision\": \"BasicMagics\", \"pinfo\": \"NamespaceMagics\", \"pwd\": \"OSMagics\", \"psearch\": \"NamespaceMagics\", \"reset\": \"NamespaceMagics\", \"recall\": \"HistoryMagics\", \"xdel\": \"NamespaceMagics\", \"xmode\": \"BasicMagics\", \"cat\": \"Other\", \"mv\": \"Other\", \"rerun\": \"HistoryMagics\", \"logon\": \"LoggingMagics\", \"history\": \"HistoryMagics\", \"pycat\": \"OSMagics\", \"unalias\": \"OSMagics\", \"install_default_config\": \"DeprecatedMagics\", \"env\": \"OSMagics\", \"load_ext\": \"ExtensionMagics\", \"config\": \"ConfigMagics\", \"profile\": \"BasicMagics\", \"pfile\": \"NamespaceMagics\", \"less\": \"KernelMagics\", \"who\": \"NamespaceMagics\", \"notebook\": \"BasicMagics\", \"man\": \"KernelMagics\", \"sx\": \"OSMagics\", \"macro\": \"ExecutionMagics\", \"clear\": \"KernelMagics\", \"alias\": \"OSMagics\", \"time\": \"ExecutionMagics\", \"sc\": \"OSMagics\", \"ldir\": \"Other\", \"pdoc\": \"NamespaceMagics\"}}"
       ],
       "metadata": {},
       "output_type": "pyout",
       "prompt_number": 1,
       "text": [
        "Available line magics:\n",
        "%alias  %alias_magic  %autocall  %automagic  %autosave  %bookmark  %cat  %cd  %clear  %colors  %config  %connect_info  %cp  %debug  %dhist  %dirs  %doctest_mode  %ed  %edit  %env  %gui  %hist  %history  %install_default_config  %install_ext  %install_profiles  %killbgscripts  %ldir  %less  %lf  %lk  %ll  %load  %load_ext  %loadpy  %logoff  %logon  %logstart  %logstate  %logstop  %ls  %lsmagic  %lx  %macro  %magic  %man  %matplotlib  %mkdir  %more  %mv  %notebook  %page  %pastebin  %pdb  %pdef  %pdoc  %pfile  %pinfo  %pinfo2  %popd  %pprint  %precision  %profile  %prun  %psearch  %psource  %pushd  %pwd  %pycat  %pylab  %qtconsole  %quickref  %recall  %rehashx  %reload_ext  %rep  %rerun  %reset  %reset_selective  %rm  %rmdir  %run  %save  %sc  %store  %sx  %system  %tb  %time  %timeit  %unalias  %unload_ext  %who  %who_ls  %whos  %xdel  %xmode\n",
        "\n",
        "Available cell magics:\n",
        "%%!  %%HTML  %%SVG  %%bash  %%capture  %%debug  %%file  %%html  %%javascript  %%latex  %%perl  %%prun  %%pypy  %%python  %%python2  %%python3  %%ruby  %%script  %%sh  %%svg  %%sx  %%system  %%time  %%timeit  %%writefile\n",
        "\n",
        "Automagic is ON, % prefix IS NOT needed for line magics."
       ]
      }
     ],
     "prompt_number": 1
    },
    {
     "cell_type": "code",
     "collapsed": false,
     "input": [
      "run recommendations.py"
     ],
     "language": "python",
     "metadata": {},
     "outputs": [],
     "prompt_number": 15
    },
    {
     "cell_type": "code",
     "collapsed": false,
     "input": [
      "print sim_pearson(critics,'Lisa Rose', 'Gene Seymour')"
     ],
     "language": "python",
     "metadata": {},
     "outputs": [
      {
       "output_type": "stream",
       "stream": "stdout",
       "text": [
        "0.396059017191\n"
       ]
      }
     ],
     "prompt_number": 13
    },
    {
     "cell_type": "code",
     "collapsed": false,
     "input": [
      "topMatches(critics,'Toby',n=3)"
     ],
     "language": "python",
     "metadata": {},
     "outputs": [
      {
       "metadata": {},
       "output_type": "pyout",
       "prompt_number": 14,
       "text": [
        "[(0.9912407071619299, 'Lisa Rose'),\n",
        " (0.9244734516419049, 'Mick LaSalle'),\n",
        " (0.8934051474415647, 'Claudia Puig')]"
       ]
      }
     ],
     "prompt_number": 14
    },
    {
     "cell_type": "code",
     "collapsed": false,
     "input": [
      "getRecommendations(critics,'Toby')"
     ],
     "language": "python",
     "metadata": {},
     "outputs": [
      {
       "metadata": {},
       "output_type": "pyout",
       "prompt_number": 16,
       "text": [
        "[(3.3477895267131013, 'The Night Listener'),\n",
        " (2.8325499182641614, 'Lady in the Water'),\n",
        " (2.5309807037655645, 'Just My Luck')]"
       ]
      }
     ],
     "prompt_number": 16
    },
    {
     "cell_type": "code",
     "collapsed": false,
     "input": [
      "run recommendations.py"
     ],
     "language": "python",
     "metadata": {},
     "outputs": [],
     "prompt_number": 1
    },
    {
     "cell_type": "code",
     "collapsed": false,
     "input": [
      "movies = transformPrefs(critics)"
     ],
     "language": "python",
     "metadata": {},
     "outputs": [],
     "prompt_number": 2
    },
    {
     "cell_type": "code",
     "collapsed": false,
     "input": [
      "topMatches(movies,'Superman Returns')"
     ],
     "language": "python",
     "metadata": {},
     "outputs": [
      {
       "metadata": {},
       "output_type": "pyout",
       "prompt_number": 3,
       "text": [
        "[(0.6579516949597695, 'You, Me and Dupree'),\n",
        " (0.4879500364742689, 'Lady in the Water'),\n",
        " (0.11180339887498941, 'Snakes on a Plane'),\n",
        " (-0.1798471947990544, 'The Night Listener'),\n",
        " (-0.42289003161103106, 'Just My Luck')]"
       ]
      }
     ],
     "prompt_number": 3
    },
    {
     "cell_type": "code",
     "collapsed": false,
     "input": [
      "getRecommendations(movies,'Just My Luck')"
     ],
     "language": "python",
     "metadata": {},
     "outputs": [
      {
       "metadata": {},
       "output_type": "pyout",
       "prompt_number": 4,
       "text": [
        "[(4.0, 'Michael Phillips'), (3.0, 'Jack Matthews')]"
       ]
      }
     ],
     "prompt_number": 4
    },
    {
     "cell_type": "code",
     "collapsed": false,
     "input": [
      "import pydelicious"
     ],
     "language": "python",
     "metadata": {},
     "outputs": [],
     "prompt_number": 1
    },
    {
     "cell_type": "code",
     "collapsed": false,
     "input": [
      "pydelicious.get_popular(tag='programming')"
     ],
     "language": "python",
     "metadata": {},
     "outputs": [
      {
       "metadata": {},
       "output_type": "pyout",
       "prompt_number": 2,
       "text": [
        "[{'description': u'Intro to Cocoa KVC/KVO and Bindings - SSSSLIDE',\n",
        "  'dt': '',\n",
        "  'extended': u'',\n",
        "  'tags': u'cocoa',\n",
        "  'url': u'http://sssslide.com/www.slideshare.net/sergio.acosta/intro-to-cocoa-kvckvo-and-bindings-presentation',\n",
        "  'user': u''},\n",
        " {'description': u'PHP Fights HHVM and Zephir with PHPNG',\n",
        "  'dt': '',\n",
        "  'extended': u'',\n",
        "  'tags': u'development',\n",
        "  'url': u'http://www.sitepoint.com/php-fights-hhvm-zephir-phpng/',\n",
        "  'user': u'tomohiro'},\n",
        " {'description': u'Advanced Scientific Programming in Python [start]',\n",
        "  'dt': '',\n",
        "  'extended': u'',\n",
        "  'tags': u'courses',\n",
        "  'url': u'https://python.g-node.org/wiki/',\n",
        "  'user': u''},\n",
        " {'description': u'programming - finite state machine',\n",
        "  'dt': '',\n",
        "  'extended': u'',\n",
        "  'tags': u'datastructure',\n",
        "  'url': u'http://gamedevelopment.tutsplus.com/tutorials/finite-state-machines-theory-and-implementation--gamedev-11867',\n",
        "  'user': u''},\n",
        " {'description': u'instagram.com',\n",
        "  'dt': '',\n",
        "  'extended': u'',\n",
        "  'tags': u'php',\n",
        "  'url': u'http://instagram.com/p/ockzGQtzIN/',\n",
        "  'user': u'jovanepires'},\n",
        " {'description': u'Java Platform SE 8',\n",
        "  'dt': '',\n",
        "  'extended': u'',\n",
        "  'tags': u'java',\n",
        "  'url': u'http://docs.oracle.com/javase/8/docs/api/index.html',\n",
        "  'user': u''},\n",
        " {'description': u'\\u300c\\u6587\\u5b57\\u5316\\u3051\\u306b\\u95a2\\u3059\\u308b\\u30c8\\u30e9\\u30d6\\u30eb\\u30b7\\u30e5\\u30fc\\u30c6\\u30a3\\u30f3\\u30b0\\u300d - @tmtms \\u306e\\u30e1\\u30e2',\n",
        "  'dt': '',\n",
        "  'extended': u'',\n",
        "  'tags': u'charcode',\n",
        "  'url': u'http://tmtms.hatenablog.com/entry/2014/05/25/mojibake',\n",
        "  'user': u''},\n",
        " {'description': u'\\u041a\\u0430\\u043a \\u043f\\u0438\\u0441\\u0430\\u0442\\u044c \\u043f\\u0430\\u0440\\u0441\\u0435\\u0440\\u044b \\u043d\\u0430 JavaScript / \\u0425\\u0430\\u0431\\u0440\\u0430\\u0445\\u0430\\u0431\\u0440',\n",
        "  'dt': '',\n",
        "  'extended': u'',\n",
        "  'tags': u'javascript',\n",
        "  'url': u'http://habrahabr.ru/post/224081/',\n",
        "  'user': u'shaman_svg'},\n",
        " {'description': u'\\u3010Ruby\\u304c\\u597d\\u304d\\u3011\\u5fae\\u7a4d\\u5206\\u3084\\u7d71\\u8a08\\u89e3\\u6790\\u3092\\u5feb\\u9069\\u306b\\u6271\\u3046\\u8a00\\u8a9e(DSL) ruby\\u3067\\u4f5c\\u3063\\u305f\\u30e8\\uff01 - Qiita',\n",
        "  'dt': '',\n",
        "  'extended': u'',\n",
        "  'tags': u'programming',\n",
        "  'url': u'http://qiita.com/gogotanaka/items/834eca2c1774a73b251c',\n",
        "  'user': u''},\n",
        " {'description': u'13\\u4e2aPython\\u56fe\\u5f62\\u5e93 - Django\\u4e2d\\u56fd\\u793e\\u533a',\n",
        "  'dt': '',\n",
        "  'extended': u'',\n",
        "  'tags': u'django',\n",
        "  'url': u'http://django-china.cn/topic/75/',\n",
        "  'user': u''}]"
       ]
      }
     ],
     "prompt_number": 2
    },
    {
     "cell_type": "code",
     "collapsed": false,
     "input": [
      "run deliciousrec.py"
     ],
     "language": "python",
     "metadata": {},
     "outputs": [],
     "prompt_number": 9
    },
    {
     "cell_type": "code",
     "collapsed": false,
     "input": [
      "delDic = initializeUserDict('python')"
     ],
     "language": "python",
     "metadata": {},
     "outputs": [],
     "prompt_number": 10
    },
    {
     "cell_type": "code",
     "collapsed": false,
     "input": [
      "fillItems(delDic)\n",
      "print delDic"
     ],
     "language": "python",
     "metadata": {},
     "outputs": [
      {
       "output_type": "stream",
       "stream": "stdout",
       "text": [
        "{u'karim279': {u'https://foursquare.com/yasirmturk/checkin/537f8c3d498e2a96258413ab?s=XyPTmT6LQC8KnmKjLwUAhn9me_U&ref=tw': 0.0, u'https://github.com/CamDavidsonPilon/Probabilistic-Programming-and-Bayesian-Methods-for-Hackers': 0.0, u'http://lucumr.pocoo.org/2011/7/15/eppur-si-muove/': 0.0, u'http://www.screenfree.org/': 0.0, u'https://github.com/torchbox/wagtaildemo': 0.0, u'https://foursquare.com/yasirmturk/checkin/537f8be0498ee99ec25f1a11?s=EksdvpLs1X6VWbYegmJukcgR23E&ref=tw': 0.0, u'https://github.com/nst/objc_strings': 0.0, u'http://www.reddit.com/r/netsec/comments/1fc2xp/veil_a_metasploit_payload_generator_for_bypassing/': 0.0, u'http://www.labirint.ru/series/6600/': 0.0, u'http://railskyway.com/': 0.0, u'http://www.chipadeedoodah.com/blog/2013/06/10/understanding-chef-testing-part-1/': 0.0, u'http://www.vox.com/a/maps-explain-the-middle-east': 1.0, u'http://www.reddit.com/r/ReverseEngineering/comments/25ou7n/practical_and_portable_x86_recompilation/': 0.0, u'http://www.reddit.com/r/DotA2/comments/1abwer/dota_2_heroes_lesser_known_names_titles_and/': 0.0, u'https://wiki.python.org/moin/PythonDecoratorLibrary': 1.0, u'http://www.reddit.com/r/ReverseEngineering/comments/24mlw9/understand_usb_raw_data/': 0.0, u'http://youthplugged.com/urdu/?p=415': 0.0, u'http://stackoverflow.com/questions/100003/what-is-a-metaclass-in-python': 1.0, u'http://youthplugged.com/urdu/?p=411': 0.0, u'http://psiturk.org/': 0.0, u'http://nbviewer.ipython.org/github/rasbt/python_reference/blob/master/tutorials/key_differences_between_python_2_and_3.ipynb?create=1': 0.0, u'https://www.nhgis.org/': 0.0, u'https://pinboard.in/u:kosqx/': 0.0, u'http://habrahabr.ru/post/53831/': 0.0, u'http://jacksbox.de/stuff/jquery-fractionslider/': 0.0, u'http://browser.primatelabs.com/': 0.0, u'http://blog.tjll.net/ssh-kung-fu/': 0.0, u'http://www.lahey.com/float.htm': 0.0, u'https://developers.google.com/maps/documentation/business/mobile/': 0.0, u'https://github.com/ipython/ipython': 0.0, u'https://github.com/syllog1sm/redshift': 0.0, u'http://en.wikipedia.org/wiki/Communicating_sequential_processes': 0.0, u'https://tbaldridge.pivotshare.com/': 0.0, u'http://www.reddit.com/r/PowerShell/comments/25zjtx/invokesshcommand_using_plinkexe_run_ssh_commands/': 0.0, u'http://hyry.dip.jp/tech/slice/slice.html/43': 0.0, u'https://github.com/emre/storm': 0.0, u'http://developer.android.com/guide/topics/location/strategies.html': 0.0, u'https://github.com/rasbt/python_reference': 0.0, u'http://stackoverflow.com/questions/392022/best-way-to-kill-all-child-processes': 0.0, u'https://github.com/Cue/scales': 0.0, u'http://www.codehs.com/': 0.0, u'http://www.yakaboo.ua/ru/catalog/all/-362998': 0.0, u'http://www.ozon.ru/context/detail/id/20423038/': 0.0, u'https://github.com/nvbn/subman': 0.0, u'https://www.learnstreet.com/': 0.0, u'https://www.swarmapp.com/yasirmturk/checkin/5380c32511d22cc3fd99e515?s=TfvGDMm5h0DjkspUWs-gYJFZ_DQ&ref=tw': 0.0, u'http://www.stanford.edu/class/cs193p/cgi-bin/drupal/': 0.0, u'http://www.reddit.com/r/ReverseEngineering/comments/25b71d/reverse_engineering_for_beginners/': 0.0, u'http://blog.kowalczyk.info/article/uvw2/Thoughts-on-Go-after-writing-3-websites.html': 0.0, u'http://prosody.im/': 0.0, u'http://en.wikipedia.org/wiki/Support_vector_machine': 0.0, u'http://www.halls.md/body-mass-index/av.htm': 0.0, u'http://youthplugged.com/': 0.0, u'http://csnyc.org/': 0.0, u'http://gortransport.kharkov.ua/bus/suburban/stops/327/shedule/': 0.0, u'http://www.w3.org/International/questions/qa-http-and-lang': 1.0, u'http://shuklan.com/haskell/': 0.0, u'http://bendemott.blogspot.com/2013/11/installing-pylucene-4-451.html': 0.0, u'http://ibm.co/1mqWEAV': 0.0, u'http://www.reddit.com/r/technology/comments/j1mit/how_to_remove_yourself_from_all_background_check/': 0.0, u'http://freelansim.ru/tasks/35820': 0.0, u'http://www.reddit.com/r/ReverseEngineering/comments/23v5k6/patch_analysis_of_latest_microsoft_office/': 0.0, u'http://www.citrus.ua/shop/goods/tabletpc/467/66711': 0.0, u'http://www.instructables.com/id/Raspberry-Pi-GPIO-home-automation/#intro': 0.0, u'https://foursquare.com/yasirmturk/checkin/537f8c29498ec8b9d84f31b0?s=BWWnHX9LexZkcqpqbw3rh_3aXQQ&ref=tw': 0.0, u'https://swiftype.com/site-search#': 1.0, u'https://github.com/sk1418/myScripts/blob/master/shell/recWin.sh': 0.0, u'http://www.shkolaradosti.kharkov.ua/center.html': 0.0, u'http://www.reddit.com/r/ReverseEngineering/comments/25nnhm/exploit_exercises_protostar_stack_levels/': 0.0, u'http://robots.thoughtbot.com/tips-for-clojure-beginners': 0.0, u'https://github.com/mininet/mininet': 0.0, u'http://yasirmturk.com/': 0.0, u'http://lab.hakim.se/reveal-js/#/2': 0.0, u'http://arabdigitalcontent.com/index.php': 1.0, u'https://github.com/smicallef/spiderfoot': 0.0, u'http://kotaku.com/5975610/the-exceptional-beauty-of-doom-3s-source-code': 0.0, u'http://locust.io/': 0.0, u'https://github.com/nginx-clojure/nginx-clojure': 0.0, u'https://github.com/bitcoin-abe/bitcoin-abe': 0.0, u'http://toblerity.org/shapely/manual.html': 0.0, u'http://www.toptal.com/python/top-10-mistakes-that-python-programmers-make': 0.0, u'http://www.reddit.com/r/netsec/comments/25xgsj/static_analysis_tool_for_javascript/': 0.0, u'http://karma-runner.github.io/0.8/index.html': 0.0, u'https://github.com/billkeller/Delicious-Chrome-Extension': 0.0, u'https://developers.google.com/maps/documentation/business/mobile/android/': 0.0, u'http://rashf.com/': 1.0, u'https://github.com/flying-sheep/bcode': 0.0, u'http://www.pcmag.com/article2/0,2817,2393102,00.asp': 1.0, u'http://www.como.com/': 1.0, u'http://java.dzone.com/articles/develope-high-performance': 0.0, u'http://www.reddit.com/r/ReverseEngineering/comments/24t71h/big_file_diffing_with_darungrim/': 0.0, u'http://youthplugged.com/urdu/': 0.0, u'http://habrahabr.ru/post/224065/': 0.0, u'http://www.ozon.ru/context/detail/id/2624244/': 0.0, u'https://foursquare.com/yasirmturk/checkin/537f8b71498e60eb7f0be51a?s=4bvNdbxNzPy16QA3IJCJYvRCmD8&ref=tw': 0.0, u'http://pythontesting.net/framework/pytest-introduction/': 0.0, u'http://websolr.com/guides/solr-clients': 1.0}, u'railskyway': {u'https://foursquare.com/yasirmturk/checkin/537f8c3d498e2a96258413ab?s=XyPTmT6LQC8KnmKjLwUAhn9me_U&ref=tw': 0.0, u'https://github.com/CamDavidsonPilon/Probabilistic-Programming-and-Bayesian-Methods-for-Hackers': 0.0, u'http://lucumr.pocoo.org/2011/7/15/eppur-si-muove/': 0.0, u'http://www.screenfree.org/': 0.0, u'https://foursquare.com/yasirmturk/checkin/537f8be0498ee99ec25f1a11?s=EksdvpLs1X6VWbYegmJukcgR23E&ref=tw': 0.0, u'https://github.com/nst/objc_strings': 0.0, u'http://www.reddit.com/r/netsec/comments/1fc2xp/veil_a_metasploit_payload_generator_for_bypassing/': 0.0, u'http://www.labirint.ru/series/6600/': 0.0, u'http://railskyway.com/': 1.0, u'https://github.com/torchbox/wagtaildemo': 0.0, u'http://www.vox.com/a/maps-explain-the-middle-east': 0.0, u'http://www.reddit.com/r/ReverseEngineering/comments/25ou7n/practical_and_portable_x86_recompilation/': 0.0, u'http://www.reddit.com/r/DotA2/comments/1abwer/dota_2_heroes_lesser_known_names_titles_and/': 0.0, u'https://wiki.python.org/moin/PythonDecoratorLibrary': 0.0, u'http://www.reddit.com/r/ReverseEngineering/comments/24mlw9/understand_usb_raw_data/': 0.0, u'http://youthplugged.com/urdu/?p=415': 0.0, u'http://stackoverflow.com/questions/100003/what-is-a-metaclass-in-python': 0.0, u'http://youthplugged.com/urdu/?p=411': 0.0, u'http://psiturk.org/': 0.0, u'http://nbviewer.ipython.org/github/rasbt/python_reference/blob/master/tutorials/key_differences_between_python_2_and_3.ipynb?create=1': 1.0, u'https://www.nhgis.org/': 0.0, u'https://pinboard.in/u:kosqx/': 0.0, u'http://habrahabr.ru/post/53831/': 1.0, u'http://jacksbox.de/stuff/jquery-fractionslider/': 1.0, u'http://browser.primatelabs.com/': 0.0, u'http://blog.tjll.net/ssh-kung-fu/': 0.0, u'http://www.lahey.com/float.htm': 0.0, u'https://developers.google.com/maps/documentation/business/mobile/': 0.0, u'https://github.com/ipython/ipython': 1.0, u'https://github.com/syllog1sm/redshift': 0.0, u'http://en.wikipedia.org/wiki/Communicating_sequential_processes': 0.0, u'https://tbaldridge.pivotshare.com/': 0.0, u'http://www.reddit.com/r/PowerShell/comments/25zjtx/invokesshcommand_using_plinkexe_run_ssh_commands/': 0.0, u'http://hyry.dip.jp/tech/slice/slice.html/43': 0.0, u'https://github.com/emre/storm': 0.0, u'http://developer.android.com/guide/topics/location/strategies.html': 0.0, u'https://github.com/rasbt/python_reference': 0.0, u'http://stackoverflow.com/questions/392022/best-way-to-kill-all-child-processes': 0.0, u'https://github.com/Cue/scales': 0.0, u'http://www.codehs.com/': 0.0, u'http://www.yakaboo.ua/ru/catalog/all/-362998': 0.0, u'http://www.ozon.ru/context/detail/id/20423038/': 0.0, u'https://github.com/nvbn/subman': 0.0, u'https://www.learnstreet.com/': 0.0, u'https://www.swarmapp.com/yasirmturk/checkin/5380c32511d22cc3fd99e515?s=TfvGDMm5h0DjkspUWs-gYJFZ_DQ&ref=tw': 0.0, u'http://www.stanford.edu/class/cs193p/cgi-bin/drupal/': 0.0, u'http://www.reddit.com/r/ReverseEngineering/comments/25b71d/reverse_engineering_for_beginners/': 0.0, u'http://blog.kowalczyk.info/article/uvw2/Thoughts-on-Go-after-writing-3-websites.html': 0.0, u'http://prosody.im/': 0.0, u'http://en.wikipedia.org/wiki/Support_vector_machine': 0.0, u'http://www.halls.md/body-mass-index/av.htm': 0.0, u'http://youthplugged.com/': 0.0, u'http://csnyc.org/': 0.0, u'http://www.chipadeedoodah.com/blog/2013/06/10/understanding-chef-testing-part-1/': 0.0, u'http://gortransport.kharkov.ua/bus/suburban/stops/327/shedule/': 0.0, u'http://www.w3.org/International/questions/qa-http-and-lang': 0.0, u'http://shuklan.com/haskell/': 0.0, u'http://bendemott.blogspot.com/2013/11/installing-pylucene-4-451.html': 0.0, u'http://ibm.co/1mqWEAV': 1.0, u'http://www.reddit.com/r/technology/comments/j1mit/how_to_remove_yourself_from_all_background_check/': 0.0, u'http://freelansim.ru/tasks/35820': 0.0, u'http://www.reddit.com/r/ReverseEngineering/comments/23v5k6/patch_analysis_of_latest_microsoft_office/': 0.0, u'http://www.citrus.ua/shop/goods/tabletpc/467/66711': 0.0, u'http://www.instructables.com/id/Raspberry-Pi-GPIO-home-automation/#intro': 0.0, u'https://foursquare.com/yasirmturk/checkin/537f8c29498ec8b9d84f31b0?s=BWWnHX9LexZkcqpqbw3rh_3aXQQ&ref=tw': 0.0, u'https://swiftype.com/site-search#': 0.0, u'https://github.com/sk1418/myScripts/blob/master/shell/recWin.sh': 0.0, u'http://www.shkolaradosti.kharkov.ua/center.html': 0.0, u'http://www.reddit.com/r/ReverseEngineering/comments/25nnhm/exploit_exercises_protostar_stack_levels/': 0.0, u'http://robots.thoughtbot.com/tips-for-clojure-beginners': 0.0, u'https://github.com/mininet/mininet': 0.0, u'http://yasirmturk.com/': 0.0, u'http://lab.hakim.se/reveal-js/#/2': 0.0, u'http://arabdigitalcontent.com/index.php': 0.0, u'https://github.com/smicallef/spiderfoot': 0.0, u'http://kotaku.com/5975610/the-exceptional-beauty-of-doom-3s-source-code': 0.0, u'http://locust.io/': 0.0, u'https://github.com/nginx-clojure/nginx-clojure': 0.0, u'https://github.com/bitcoin-abe/bitcoin-abe': 0.0, u'http://toblerity.org/shapely/manual.html': 0.0, u'http://www.toptal.com/python/top-10-mistakes-that-python-programmers-make': 0.0, u'http://www.reddit.com/r/netsec/comments/25xgsj/static_analysis_tool_for_javascript/': 0.0, u'http://karma-runner.github.io/0.8/index.html': 0.0, u'https://github.com/billkeller/Delicious-Chrome-Extension': 0.0, u'https://developers.google.com/maps/documentation/business/mobile/android/': 0.0, u'http://rashf.com/': 0.0, u'https://github.com/flying-sheep/bcode': 0.0, u'http://www.pcmag.com/article2/0,2817,2393102,00.asp': 0.0, u'http://www.como.com/': 0.0, u'http://java.dzone.com/articles/develope-high-performance': 0.0, u'http://www.reddit.com/r/ReverseEngineering/comments/24t71h/big_file_diffing_with_darungrim/': 0.0, u'http://youthplugged.com/urdu/': 0.0, u'http://habrahabr.ru/post/224065/': 1.0, u'http://www.ozon.ru/context/detail/id/2624244/': 0.0, u'https://foursquare.com/yasirmturk/checkin/537f8b71498e60eb7f0be51a?s=4bvNdbxNzPy16QA3IJCJYvRCmD8&ref=tw': 0.0, u'http://pythontesting.net/framework/pytest-introduction/': 0.0, u'http://websolr.com/guides/solr-clients': 0.0}, u'jhofman': {u'https://foursquare.com/yasirmturk/checkin/537f8c3d498e2a96258413ab?s=XyPTmT6LQC8KnmKjLwUAhn9me_U&ref=tw': 0.0, u'https://github.com/CamDavidsonPilon/Probabilistic-Programming-and-Bayesian-Methods-for-Hackers': 0.0, u'http://lucumr.pocoo.org/2011/7/15/eppur-si-muove/': 0.0, u'http://www.screenfree.org/': 1.0, u'https://foursquare.com/yasirmturk/checkin/537f8be0498ee99ec25f1a11?s=EksdvpLs1X6VWbYegmJukcgR23E&ref=tw': 0.0, u'https://github.com/nst/objc_strings': 0.0, u'http://www.reddit.com/r/netsec/comments/1fc2xp/veil_a_metasploit_payload_generator_for_bypassing/': 0.0, u'http://www.labirint.ru/series/6600/': 0.0, u'http://railskyway.com/': 0.0, u'https://github.com/torchbox/wagtaildemo': 0.0, u'http://www.vox.com/a/maps-explain-the-middle-east': 0.0, u'http://www.reddit.com/r/ReverseEngineering/comments/25ou7n/practical_and_portable_x86_recompilation/': 0.0, u'http://www.reddit.com/r/DotA2/comments/1abwer/dota_2_heroes_lesser_known_names_titles_and/': 0.0, u'https://wiki.python.org/moin/PythonDecoratorLibrary': 0.0, u'http://www.reddit.com/r/ReverseEngineering/comments/24mlw9/understand_usb_raw_data/': 0.0, u'http://youthplugged.com/urdu/?p=415': 0.0, u'http://stackoverflow.com/questions/100003/what-is-a-metaclass-in-python': 0.0, u'http://youthplugged.com/urdu/?p=411': 0.0, u'http://psiturk.org/': 1.0, u'http://nbviewer.ipython.org/github/rasbt/python_reference/blob/master/tutorials/key_differences_between_python_2_and_3.ipynb?create=1': 0.0, u'https://www.nhgis.org/': 1.0, u'https://pinboard.in/u:kosqx/': 0.0, u'http://habrahabr.ru/post/53831/': 0.0, u'http://jacksbox.de/stuff/jquery-fractionslider/': 0.0, u'http://blog.kowalczyk.info/article/uvw2/Thoughts-on-Go-after-writing-3-websites.html': 0.0, u'http://blog.tjll.net/ssh-kung-fu/': 0.0, u'http://www.lahey.com/float.htm': 1.0, u'https://developers.google.com/maps/documentation/business/mobile/': 0.0, u'https://github.com/ipython/ipython': 0.0, u'https://github.com/syllog1sm/redshift': 0.0, u'http://en.wikipedia.org/wiki/Communicating_sequential_processes': 0.0, u'https://tbaldridge.pivotshare.com/': 0.0, u'http://www.reddit.com/r/PowerShell/comments/25zjtx/invokesshcommand_using_plinkexe_run_ssh_commands/': 0.0, u'http://hyry.dip.jp/tech/slice/slice.html/43': 0.0, u'https://github.com/emre/storm': 0.0, u'http://developer.android.com/guide/topics/location/strategies.html': 0.0, u'https://github.com/rasbt/python_reference': 0.0, u'http://stackoverflow.com/questions/392022/best-way-to-kill-all-child-processes': 0.0, u'https://github.com/Cue/scales': 0.0, u'http://www.codehs.com/': 1.0, u'http://www.yakaboo.ua/ru/catalog/all/-362998': 0.0, u'http://www.ozon.ru/context/detail/id/20423038/': 0.0, u'https://github.com/nvbn/subman': 0.0, u'https://www.learnstreet.com/': 1.0, u'https://www.swarmapp.com/yasirmturk/checkin/5380c32511d22cc3fd99e515?s=TfvGDMm5h0DjkspUWs-gYJFZ_DQ&ref=tw': 0.0, u'http://www.stanford.edu/class/cs193p/cgi-bin/drupal/': 1.0, u'http://www.reddit.com/r/ReverseEngineering/comments/25b71d/reverse_engineering_for_beginners/': 0.0, u'http://browser.primatelabs.com/': 1.0, u'http://prosody.im/': 0.0, u'http://en.wikipedia.org/wiki/Support_vector_machine': 0.0, u'http://www.halls.md/body-mass-index/av.htm': 1.0, u'http://youthplugged.com/': 0.0, u'http://csnyc.org/': 1.0, u'http://www.chipadeedoodah.com/blog/2013/06/10/understanding-chef-testing-part-1/': 0.0, u'http://gortransport.kharkov.ua/bus/suburban/stops/327/shedule/': 0.0, u'http://www.w3.org/International/questions/qa-http-and-lang': 0.0, u'http://shuklan.com/haskell/': 0.0, u'http://bendemott.blogspot.com/2013/11/installing-pylucene-4-451.html': 0.0, u'http://ibm.co/1mqWEAV': 0.0, u'http://www.reddit.com/r/technology/comments/j1mit/how_to_remove_yourself_from_all_background_check/': 0.0, u'http://freelansim.ru/tasks/35820': 0.0, u'http://www.reddit.com/r/ReverseEngineering/comments/23v5k6/patch_analysis_of_latest_microsoft_office/': 0.0, u'http://www.citrus.ua/shop/goods/tabletpc/467/66711': 0.0, u'http://www.instructables.com/id/Raspberry-Pi-GPIO-home-automation/#intro': 0.0, u'https://foursquare.com/yasirmturk/checkin/537f8c29498ec8b9d84f31b0?s=BWWnHX9LexZkcqpqbw3rh_3aXQQ&ref=tw': 0.0, u'https://swiftype.com/site-search#': 0.0, u'https://github.com/sk1418/myScripts/blob/master/shell/recWin.sh': 0.0, u'http://www.shkolaradosti.kharkov.ua/center.html': 0.0, u'http://www.reddit.com/r/ReverseEngineering/comments/25nnhm/exploit_exercises_protostar_stack_levels/': 0.0, u'http://robots.thoughtbot.com/tips-for-clojure-beginners': 0.0, u'https://github.com/mininet/mininet': 0.0, u'http://yasirmturk.com/': 0.0, u'http://lab.hakim.se/reveal-js/#/2': 0.0, u'http://arabdigitalcontent.com/index.php': 0.0, u'https://github.com/smicallef/spiderfoot': 0.0, u'http://kotaku.com/5975610/the-exceptional-beauty-of-doom-3s-source-code': 0.0, u'http://locust.io/': 0.0, u'https://github.com/nginx-clojure/nginx-clojure': 0.0, u'https://github.com/bitcoin-abe/bitcoin-abe': 0.0, u'http://toblerity.org/shapely/manual.html': 0.0, u'http://www.toptal.com/python/top-10-mistakes-that-python-programmers-make': 0.0, u'http://www.reddit.com/r/netsec/comments/25xgsj/static_analysis_tool_for_javascript/': 0.0, u'http://karma-runner.github.io/0.8/index.html': 0.0, u'https://github.com/billkeller/Delicious-Chrome-Extension': 0.0, u'https://developers.google.com/maps/documentation/business/mobile/android/': 0.0, u'http://rashf.com/': 0.0, u'https://github.com/flying-sheep/bcode': 0.0, u'http://www.pcmag.com/article2/0,2817,2393102,00.asp': 0.0, u'http://www.como.com/': 0.0, u'http://java.dzone.com/articles/develope-high-performance': 0.0, u'http://www.reddit.com/r/ReverseEngineering/comments/24t71h/big_file_diffing_with_darungrim/': 0.0, u'http://youthplugged.com/urdu/': 0.0, u'http://habrahabr.ru/post/224065/': 0.0, u'http://www.ozon.ru/context/detail/id/2624244/': 0.0, u'https://foursquare.com/yasirmturk/checkin/537f8b71498e60eb7f0be51a?s=4bvNdbxNzPy16QA3IJCJYvRCmD8&ref=tw': 0.0, u'http://pythontesting.net/framework/pytest-introduction/': 0.0, u'http://websolr.com/guides/solr-clients': 0.0}, u'tanelpuhu': {u'https://foursquare.com/yasirmturk/checkin/537f8c3d498e2a96258413ab?s=XyPTmT6LQC8KnmKjLwUAhn9me_U&ref=tw': 0.0, u'https://github.com/CamDavidsonPilon/Probabilistic-Programming-and-Bayesian-Methods-for-Hackers': 1.0, u'http://lucumr.pocoo.org/2011/7/15/eppur-si-muove/': 0.0, u'http://www.screenfree.org/': 0.0, u'https://foursquare.com/yasirmturk/checkin/537f8be0498ee99ec25f1a11?s=EksdvpLs1X6VWbYegmJukcgR23E&ref=tw': 0.0, u'https://github.com/nst/objc_strings': 1.0, u'http://www.reddit.com/r/netsec/comments/1fc2xp/veil_a_metasploit_payload_generator_for_bypassing/': 0.0, u'http://www.labirint.ru/series/6600/': 0.0, u'http://railskyway.com/': 0.0, u'http://karma-runner.github.io/0.8/index.html': 0.0, u'http://www.vox.com/a/maps-explain-the-middle-east': 0.0, u'http://www.reddit.com/r/ReverseEngineering/comments/25ou7n/practical_and_portable_x86_recompilation/': 0.0, u'http://www.reddit.com/r/DotA2/comments/1abwer/dota_2_heroes_lesser_known_names_titles_and/': 0.0, u'https://wiki.python.org/moin/PythonDecoratorLibrary': 0.0, u'http://www.reddit.com/r/ReverseEngineering/comments/24mlw9/understand_usb_raw_data/': 0.0, u'http://youthplugged.com/urdu/?p=415': 0.0, u'http://stackoverflow.com/questions/100003/what-is-a-metaclass-in-python': 0.0, u'http://youthplugged.com/urdu/?p=411': 0.0, u'http://psiturk.org/': 0.0, u'http://nbviewer.ipython.org/github/rasbt/python_reference/blob/master/tutorials/key_differences_between_python_2_and_3.ipynb?create=1': 0.0, u'https://www.nhgis.org/': 0.0, u'https://pinboard.in/u:kosqx/': 0.0, u'http://habrahabr.ru/post/53831/': 0.0, u'http://jacksbox.de/stuff/jquery-fractionslider/': 0.0, u'http://browser.primatelabs.com/': 0.0, u'http://blog.tjll.net/ssh-kung-fu/': 0.0, u'http://www.lahey.com/float.htm': 0.0, u'https://developers.google.com/maps/documentation/business/mobile/': 0.0, u'https://github.com/ipython/ipython': 0.0, u'https://github.com/syllog1sm/redshift': 1.0, u'http://en.wikipedia.org/wiki/Communicating_sequential_processes': 0.0, u'https://tbaldridge.pivotshare.com/': 0.0, u'http://www.reddit.com/r/PowerShell/comments/25zjtx/invokesshcommand_using_plinkexe_run_ssh_commands/': 0.0, u'http://hyry.dip.jp/tech/slice/slice.html/43': 0.0, u'https://github.com/emre/storm': 1.0, u'http://developer.android.com/guide/topics/location/strategies.html': 0.0, u'https://github.com/rasbt/python_reference': 1.0, u'http://stackoverflow.com/questions/392022/best-way-to-kill-all-child-processes': 0.0, u'https://github.com/Cue/scales': 1.0, u'http://www.codehs.com/': 0.0, u'http://www.yakaboo.ua/ru/catalog/all/-362998': 0.0, u'http://www.ozon.ru/context/detail/id/20423038/': 0.0, u'https://github.com/nvbn/subman': 0.0, u'https://www.learnstreet.com/': 0.0, u'https://www.swarmapp.com/yasirmturk/checkin/5380c32511d22cc3fd99e515?s=TfvGDMm5h0DjkspUWs-gYJFZ_DQ&ref=tw': 0.0, u'http://www.stanford.edu/class/cs193p/cgi-bin/drupal/': 0.0, u'http://www.reddit.com/r/ReverseEngineering/comments/25b71d/reverse_engineering_for_beginners/': 0.0, u'http://blog.kowalczyk.info/article/uvw2/Thoughts-on-Go-after-writing-3-websites.html': 0.0, u'http://prosody.im/': 0.0, u'http://en.wikipedia.org/wiki/Support_vector_machine': 0.0, u'http://www.halls.md/body-mass-index/av.htm': 0.0, u'http://youthplugged.com/': 0.0, u'http://csnyc.org/': 0.0, u'http://www.chipadeedoodah.com/blog/2013/06/10/understanding-chef-testing-part-1/': 0.0, u'http://gortransport.kharkov.ua/bus/suburban/stops/327/shedule/': 0.0, u'http://www.w3.org/International/questions/qa-http-and-lang': 0.0, u'http://shuklan.com/haskell/': 0.0, u'http://bendemott.blogspot.com/2013/11/installing-pylucene-4-451.html': 0.0, u'http://ibm.co/1mqWEAV': 0.0, u'http://www.reddit.com/r/technology/comments/j1mit/how_to_remove_yourself_from_all_background_check/': 0.0, u'http://freelansim.ru/tasks/35820': 0.0, u'http://www.reddit.com/r/ReverseEngineering/comments/23v5k6/patch_analysis_of_latest_microsoft_office/': 0.0, u'http://www.citrus.ua/shop/goods/tabletpc/467/66711': 0.0, u'http://www.instructables.com/id/Raspberry-Pi-GPIO-home-automation/#intro': 0.0, u'https://foursquare.com/yasirmturk/checkin/537f8c29498ec8b9d84f31b0?s=BWWnHX9LexZkcqpqbw3rh_3aXQQ&ref=tw': 0.0, u'https://swiftype.com/site-search#': 0.0, u'https://github.com/sk1418/myScripts/blob/master/shell/recWin.sh': 0.0, u'http://www.shkolaradosti.kharkov.ua/center.html': 0.0, u'http://www.reddit.com/r/ReverseEngineering/comments/25nnhm/exploit_exercises_protostar_stack_levels/': 0.0, u'http://robots.thoughtbot.com/tips-for-clojure-beginners': 0.0, u'https://github.com/mininet/mininet': 1.0, u'http://yasirmturk.com/': 0.0, u'http://lab.hakim.se/reveal-js/#/2': 0.0, u'http://arabdigitalcontent.com/index.php': 0.0, u'https://github.com/smicallef/spiderfoot': 1.0, u'http://kotaku.com/5975610/the-exceptional-beauty-of-doom-3s-source-code': 0.0, u'http://locust.io/': 0.0, u'https://github.com/nginx-clojure/nginx-clojure': 0.0, u'https://github.com/bitcoin-abe/bitcoin-abe': 1.0, u'http://toblerity.org/shapely/manual.html': 0.0, u'http://www.toptal.com/python/top-10-mistakes-that-python-programmers-make': 0.0, u'http://www.reddit.com/r/netsec/comments/25xgsj/static_analysis_tool_for_javascript/': 0.0, u'https://github.com/torchbox/wagtaildemo': 1.0, u'https://github.com/billkeller/Delicious-Chrome-Extension': 0.0, u'https://developers.google.com/maps/documentation/business/mobile/android/': 0.0, u'http://rashf.com/': 0.0, u'https://github.com/flying-sheep/bcode': 0.0, u'http://www.pcmag.com/article2/0,2817,2393102,00.asp': 0.0, u'http://www.como.com/': 0.0, u'http://java.dzone.com/articles/develope-high-performance': 0.0, u'http://www.reddit.com/r/ReverseEngineering/comments/24t71h/big_file_diffing_with_darungrim/': 0.0, u'http://youthplugged.com/urdu/': 0.0, u'http://habrahabr.ru/post/224065/': 0.0, u'http://www.ozon.ru/context/detail/id/2624244/': 0.0, u'https://foursquare.com/yasirmturk/checkin/537f8b71498e60eb7f0be51a?s=4bvNdbxNzPy16QA3IJCJYvRCmD8&ref=tw': 0.0, u'http://pythontesting.net/framework/pytest-introduction/': 0.0, u'http://websolr.com/guides/solr-clients': 0.0}, u'opexxx': {u'https://foursquare.com/yasirmturk/checkin/537f8c3d498e2a96258413ab?s=XyPTmT6LQC8KnmKjLwUAhn9me_U&ref=tw': 0.0, u'https://github.com/CamDavidsonPilon/Probabilistic-Programming-and-Bayesian-Methods-for-Hackers': 0.0, u'http://lucumr.pocoo.org/2011/7/15/eppur-si-muove/': 0.0, u'http://www.screenfree.org/': 0.0, u'https://foursquare.com/yasirmturk/checkin/537f8be0498ee99ec25f1a11?s=EksdvpLs1X6VWbYegmJukcgR23E&ref=tw': 0.0, u'https://github.com/nst/objc_strings': 0.0, u'http://www.reddit.com/r/netsec/comments/1fc2xp/veil_a_metasploit_payload_generator_for_bypassing/': 1.0, u'http://www.labirint.ru/series/6600/': 0.0, u'http://railskyway.com/': 0.0, u'https://github.com/torchbox/wagtaildemo': 0.0, u'http://www.vox.com/a/maps-explain-the-middle-east': 0.0, u'http://www.reddit.com/r/ReverseEngineering/comments/25ou7n/practical_and_portable_x86_recompilation/': 1.0, u'http://www.reddit.com/r/DotA2/comments/1abwer/dota_2_heroes_lesser_known_names_titles_and/': 0.0, u'https://wiki.python.org/moin/PythonDecoratorLibrary': 0.0, u'http://www.reddit.com/r/ReverseEngineering/comments/24mlw9/understand_usb_raw_data/': 1.0, u'http://youthplugged.com/urdu/?p=415': 0.0, u'http://stackoverflow.com/questions/100003/what-is-a-metaclass-in-python': 0.0, u'http://youthplugged.com/urdu/?p=411': 0.0, u'http://psiturk.org/': 0.0, u'http://nbviewer.ipython.org/github/rasbt/python_reference/blob/master/tutorials/key_differences_between_python_2_and_3.ipynb?create=1': 0.0, u'https://www.nhgis.org/': 0.0, u'http://www.reddit.com/r/ReverseEngineering/comments/23v5k6/patch_analysis_of_latest_microsoft_office/': 1.0, u'http://habrahabr.ru/post/53831/': 0.0, u'http://jacksbox.de/stuff/jquery-fractionslider/': 0.0, u'http://browser.primatelabs.com/': 0.0, u'http://blog.tjll.net/ssh-kung-fu/': 0.0, u'http://www.lahey.com/float.htm': 0.0, u'https://developers.google.com/maps/documentation/business/mobile/': 0.0, u'https://github.com/ipython/ipython': 0.0, u'https://github.com/syllog1sm/redshift': 0.0, u'http://en.wikipedia.org/wiki/Communicating_sequential_processes': 0.0, u'https://tbaldridge.pivotshare.com/': 0.0, u'http://www.reddit.com/r/PowerShell/comments/25zjtx/invokesshcommand_using_plinkexe_run_ssh_commands/': 1.0, u'http://hyry.dip.jp/tech/slice/slice.html/43': 0.0, u'https://github.com/emre/storm': 0.0, u'http://developer.android.com/guide/topics/location/strategies.html': 0.0, u'https://github.com/rasbt/python_reference': 0.0, u'http://stackoverflow.com/questions/392022/best-way-to-kill-all-child-processes': 0.0, u'https://github.com/Cue/scales': 0.0, u'http://www.codehs.com/': 0.0, u'http://www.yakaboo.ua/ru/catalog/all/-362998': 0.0, u'http://www.ozon.ru/context/detail/id/20423038/': 0.0, u'https://github.com/nvbn/subman': 0.0, u'https://www.learnstreet.com/': 0.0, u'https://www.swarmapp.com/yasirmturk/checkin/5380c32511d22cc3fd99e515?s=TfvGDMm5h0DjkspUWs-gYJFZ_DQ&ref=tw': 0.0, u'http://www.stanford.edu/class/cs193p/cgi-bin/drupal/': 0.0, u'http://www.reddit.com/r/ReverseEngineering/comments/25b71d/reverse_engineering_for_beginners/': 1.0, u'http://blog.kowalczyk.info/article/uvw2/Thoughts-on-Go-after-writing-3-websites.html': 0.0, u'http://prosody.im/': 0.0, u'http://en.wikipedia.org/wiki/Support_vector_machine': 0.0, u'http://www.halls.md/body-mass-index/av.htm': 0.0, u'http://youthplugged.com/': 0.0, u'http://csnyc.org/': 0.0, u'http://www.chipadeedoodah.com/blog/2013/06/10/understanding-chef-testing-part-1/': 0.0, u'http://gortransport.kharkov.ua/bus/suburban/stops/327/shedule/': 0.0, u'http://www.w3.org/International/questions/qa-http-and-lang': 0.0, u'http://shuklan.com/haskell/': 0.0, u'http://bendemott.blogspot.com/2013/11/installing-pylucene-4-451.html': 0.0, u'http://ibm.co/1mqWEAV': 0.0, u'http://www.reddit.com/r/technology/comments/j1mit/how_to_remove_yourself_from_all_background_check/': 1.0, u'http://freelansim.ru/tasks/35820': 0.0, u'https://pinboard.in/u:kosqx/': 0.0, u'http://www.citrus.ua/shop/goods/tabletpc/467/66711': 0.0, u'http://www.instructables.com/id/Raspberry-Pi-GPIO-home-automation/#intro': 0.0, u'https://foursquare.com/yasirmturk/checkin/537f8c29498ec8b9d84f31b0?s=BWWnHX9LexZkcqpqbw3rh_3aXQQ&ref=tw': 0.0, u'https://swiftype.com/site-search#': 0.0, u'https://github.com/sk1418/myScripts/blob/master/shell/recWin.sh': 0.0, u'http://www.shkolaradosti.kharkov.ua/center.html': 0.0, u'http://www.reddit.com/r/ReverseEngineering/comments/25nnhm/exploit_exercises_protostar_stack_levels/': 1.0, u'http://robots.thoughtbot.com/tips-for-clojure-beginners': 0.0, u'https://github.com/mininet/mininet': 0.0, u'http://yasirmturk.com/': 0.0, u'http://lab.hakim.se/reveal-js/#/2': 0.0, u'http://arabdigitalcontent.com/index.php': 0.0, u'https://github.com/smicallef/spiderfoot': 0.0, u'http://kotaku.com/5975610/the-exceptional-beauty-of-doom-3s-source-code': 0.0, u'http://locust.io/': 0.0, u'https://github.com/nginx-clojure/nginx-clojure': 0.0, u'https://github.com/bitcoin-abe/bitcoin-abe': 0.0, u'http://toblerity.org/shapely/manual.html': 0.0, u'http://www.toptal.com/python/top-10-mistakes-that-python-programmers-make': 0.0, u'http://www.reddit.com/r/netsec/comments/25xgsj/static_analysis_tool_for_javascript/': 1.0, u'http://karma-runner.github.io/0.8/index.html': 0.0, u'https://github.com/billkeller/Delicious-Chrome-Extension': 0.0, u'https://developers.google.com/maps/documentation/business/mobile/android/': 0.0, u'http://rashf.com/': 0.0, u'https://github.com/flying-sheep/bcode': 0.0, u'http://www.pcmag.com/article2/0,2817,2393102,00.asp': 0.0, u'http://www.como.com/': 0.0, u'http://java.dzone.com/articles/develope-high-performance': 0.0, u'http://www.reddit.com/r/ReverseEngineering/comments/24t71h/big_file_diffing_with_darungrim/': 1.0, u'http://youthplugged.com/urdu/': 0.0, u'http://habrahabr.ru/post/224065/': 0.0, u'http://www.ozon.ru/context/detail/id/2624244/': 0.0, u'https://foursquare.com/yasirmturk/checkin/537f8b71498e60eb7f0be51a?s=4bvNdbxNzPy16QA3IJCJYvRCmD8&ref=tw': 0.0, u'http://pythontesting.net/framework/pytest-introduction/': 0.0, u'http://websolr.com/guides/solr-clients': 0.0}, u'areus': {u'https://foursquare.com/yasirmturk/checkin/537f8c3d498e2a96258413ab?s=XyPTmT6LQC8KnmKjLwUAhn9me_U&ref=tw': 0.0, u'https://github.com/CamDavidsonPilon/Probabilistic-Programming-and-Bayesian-Methods-for-Hackers': 0.0, u'http://lucumr.pocoo.org/2011/7/15/eppur-si-muove/': 0.0, u'http://www.screenfree.org/': 0.0, u'https://foursquare.com/yasirmturk/checkin/537f8be0498ee99ec25f1a11?s=EksdvpLs1X6VWbYegmJukcgR23E&ref=tw': 0.0, u'https://github.com/nst/objc_strings': 0.0, u'http://www.reddit.com/r/netsec/comments/1fc2xp/veil_a_metasploit_payload_generator_for_bypassing/': 0.0, u'http://www.labirint.ru/series/6600/': 1.0, u'http://railskyway.com/': 0.0, u'http://www.chipadeedoodah.com/blog/2013/06/10/understanding-chef-testing-part-1/': 1.0, u'http://www.vox.com/a/maps-explain-the-middle-east': 0.0, u'http://www.reddit.com/r/ReverseEngineering/comments/25ou7n/practical_and_portable_x86_recompilation/': 0.0, u'http://www.reddit.com/r/DotA2/comments/1abwer/dota_2_heroes_lesser_known_names_titles_and/': 0.0, u'https://wiki.python.org/moin/PythonDecoratorLibrary': 0.0, u'http://www.reddit.com/r/ReverseEngineering/comments/24mlw9/understand_usb_raw_data/': 0.0, u'http://youthplugged.com/urdu/?p=415': 0.0, u'http://stackoverflow.com/questions/100003/what-is-a-metaclass-in-python': 0.0, u'http://youthplugged.com/urdu/?p=411': 0.0, u'http://psiturk.org/': 0.0, u'http://nbviewer.ipython.org/github/rasbt/python_reference/blob/master/tutorials/key_differences_between_python_2_and_3.ipynb?create=1': 0.0, u'https://www.nhgis.org/': 0.0, u'https://pinboard.in/u:kosqx/': 0.0, u'http://habrahabr.ru/post/53831/': 0.0, u'http://jacksbox.de/stuff/jquery-fractionslider/': 0.0, u'http://browser.primatelabs.com/': 0.0, u'http://blog.tjll.net/ssh-kung-fu/': 0.0, u'http://www.lahey.com/float.htm': 0.0, u'https://developers.google.com/maps/documentation/business/mobile/': 0.0, u'https://github.com/ipython/ipython': 0.0, u'https://github.com/syllog1sm/redshift': 0.0, u'http://en.wikipedia.org/wiki/Communicating_sequential_processes': 0.0, u'https://tbaldridge.pivotshare.com/': 0.0, u'http://www.reddit.com/r/PowerShell/comments/25zjtx/invokesshcommand_using_plinkexe_run_ssh_commands/': 0.0, u'http://hyry.dip.jp/tech/slice/slice.html/43': 0.0, u'https://github.com/emre/storm': 0.0, u'http://developer.android.com/guide/topics/location/strategies.html': 0.0, u'https://github.com/rasbt/python_reference': 0.0, u'http://stackoverflow.com/questions/392022/best-way-to-kill-all-child-processes': 0.0, u'https://github.com/Cue/scales': 0.0, u'http://www.codehs.com/': 0.0, u'http://www.yakaboo.ua/ru/catalog/all/-362998': 1.0, u'http://www.ozon.ru/context/detail/id/20423038/': 1.0, u'https://github.com/nvbn/subman': 0.0, u'https://www.learnstreet.com/': 0.0, u'https://www.swarmapp.com/yasirmturk/checkin/5380c32511d22cc3fd99e515?s=TfvGDMm5h0DjkspUWs-gYJFZ_DQ&ref=tw': 0.0, u'http://www.stanford.edu/class/cs193p/cgi-bin/drupal/': 0.0, u'http://www.reddit.com/r/ReverseEngineering/comments/25b71d/reverse_engineering_for_beginners/': 0.0, u'http://blog.kowalczyk.info/article/uvw2/Thoughts-on-Go-after-writing-3-websites.html': 0.0, u'http://prosody.im/': 0.0, u'http://en.wikipedia.org/wiki/Support_vector_machine': 0.0, u'http://www.halls.md/body-mass-index/av.htm': 0.0, u'http://youthplugged.com/': 0.0, u'http://csnyc.org/': 0.0, u'http://gortransport.kharkov.ua/bus/suburban/stops/327/shedule/': 1.0, u'http://www.w3.org/International/questions/qa-http-and-lang': 0.0, u'http://shuklan.com/haskell/': 0.0, u'http://bendemott.blogspot.com/2013/11/installing-pylucene-4-451.html': 0.0, u'http://ibm.co/1mqWEAV': 0.0, u'http://www.reddit.com/r/technology/comments/j1mit/how_to_remove_yourself_from_all_background_check/': 0.0, u'http://freelansim.ru/tasks/35820': 1.0, u'http://www.reddit.com/r/ReverseEngineering/comments/23v5k6/patch_analysis_of_latest_microsoft_office/': 0.0, u'http://www.citrus.ua/shop/goods/tabletpc/467/66711': 1.0, u'http://www.instructables.com/id/Raspberry-Pi-GPIO-home-automation/#intro': 0.0, u'https://foursquare.com/yasirmturk/checkin/537f8c29498ec8b9d84f31b0?s=BWWnHX9LexZkcqpqbw3rh_3aXQQ&ref=tw': 0.0, u'https://swiftype.com/site-search#': 0.0, u'https://github.com/sk1418/myScripts/blob/master/shell/recWin.sh': 0.0, u'http://www.shkolaradosti.kharkov.ua/center.html': 1.0, u'http://www.reddit.com/r/ReverseEngineering/comments/25nnhm/exploit_exercises_protostar_stack_levels/': 0.0, u'http://robots.thoughtbot.com/tips-for-clojure-beginners': 0.0, u'https://github.com/mininet/mininet': 0.0, u'http://yasirmturk.com/': 0.0, u'http://lab.hakim.se/reveal-js/#/2': 0.0, u'http://arabdigitalcontent.com/index.php': 0.0, u'https://github.com/smicallef/spiderfoot': 0.0, u'http://kotaku.com/5975610/the-exceptional-beauty-of-doom-3s-source-code': 0.0, u'http://locust.io/': 0.0, u'https://github.com/nginx-clojure/nginx-clojure': 0.0, u'https://github.com/bitcoin-abe/bitcoin-abe': 0.0, u'http://toblerity.org/shapely/manual.html': 0.0, u'http://www.toptal.com/python/top-10-mistakes-that-python-programmers-make': 0.0, u'http://www.reddit.com/r/netsec/comments/25xgsj/static_analysis_tool_for_javascript/': 0.0, u'https://github.com/torchbox/wagtaildemo': 0.0, u'https://github.com/billkeller/Delicious-Chrome-Extension': 1.0, u'https://developers.google.com/maps/documentation/business/mobile/android/': 0.0, u'http://rashf.com/': 0.0, u'https://github.com/flying-sheep/bcode': 0.0, u'http://www.pcmag.com/article2/0,2817,2393102,00.asp': 0.0, u'http://www.como.com/': 0.0, u'http://java.dzone.com/articles/develope-high-performance': 0.0, u'http://www.reddit.com/r/ReverseEngineering/comments/24t71h/big_file_diffing_with_darungrim/': 0.0, u'http://youthplugged.com/urdu/': 0.0, u'http://habrahabr.ru/post/224065/': 0.0, u'http://www.ozon.ru/context/detail/id/2624244/': 1.0, u'http://karma-runner.github.io/0.8/index.html': 0.0, u'https://foursquare.com/yasirmturk/checkin/537f8b71498e60eb7f0be51a?s=4bvNdbxNzPy16QA3IJCJYvRCmD8&ref=tw': 0.0, u'http://pythontesting.net/framework/pytest-introduction/': 0.0, u'http://websolr.com/guides/solr-clients': 0.0}, u'iceout': {u'https://foursquare.com/yasirmturk/checkin/537f8c3d498e2a96258413ab?s=XyPTmT6LQC8KnmKjLwUAhn9me_U&ref=tw': 0.0, u'https://github.com/CamDavidsonPilon/Probabilistic-Programming-and-Bayesian-Methods-for-Hackers': 0.0, u'http://lucumr.pocoo.org/2011/7/15/eppur-si-muove/': 1.0, u'http://www.screenfree.org/': 0.0, u'https://github.com/torchbox/wagtaildemo': 0.0, u'https://foursquare.com/yasirmturk/checkin/537f8be0498ee99ec25f1a11?s=EksdvpLs1X6VWbYegmJukcgR23E&ref=tw': 0.0, u'https://github.com/nst/objc_strings': 0.0, u'http://www.reddit.com/r/netsec/comments/1fc2xp/veil_a_metasploit_payload_generator_for_bypassing/': 0.0, u'http://www.labirint.ru/series/6600/': 0.0, u'http://railskyway.com/': 0.0, u'http://www.chipadeedoodah.com/blog/2013/06/10/understanding-chef-testing-part-1/': 0.0, u'http://www.vox.com/a/maps-explain-the-middle-east': 0.0, u'http://www.reddit.com/r/ReverseEngineering/comments/25ou7n/practical_and_portable_x86_recompilation/': 0.0, u'http://www.reddit.com/r/DotA2/comments/1abwer/dota_2_heroes_lesser_known_names_titles_and/': 1.0, u'https://wiki.python.org/moin/PythonDecoratorLibrary': 0.0, u'http://www.reddit.com/r/ReverseEngineering/comments/24mlw9/understand_usb_raw_data/': 0.0, u'http://youthplugged.com/urdu/?p=415': 0.0, u'http://stackoverflow.com/questions/100003/what-is-a-metaclass-in-python': 0.0, u'http://youthplugged.com/urdu/?p=411': 0.0, u'http://psiturk.org/': 0.0, u'http://nbviewer.ipython.org/github/rasbt/python_reference/blob/master/tutorials/key_differences_between_python_2_and_3.ipynb?create=1': 0.0, u'https://www.nhgis.org/': 0.0, u'https://pinboard.in/u:kosqx/': 0.0, u'http://habrahabr.ru/post/53831/': 0.0, u'http://jacksbox.de/stuff/jquery-fractionslider/': 0.0, u'http://browser.primatelabs.com/': 0.0, u'http://blog.tjll.net/ssh-kung-fu/': 1.0, u'http://www.lahey.com/float.htm': 0.0, u'https://developers.google.com/maps/documentation/business/mobile/': 0.0, u'https://github.com/ipython/ipython': 0.0, u'https://github.com/syllog1sm/redshift': 0.0, u'http://en.wikipedia.org/wiki/Communicating_sequential_processes': 0.0, u'https://tbaldridge.pivotshare.com/': 0.0, u'http://www.reddit.com/r/PowerShell/comments/25zjtx/invokesshcommand_using_plinkexe_run_ssh_commands/': 0.0, u'http://hyry.dip.jp/tech/slice/slice.html/43': 1.0, u'https://github.com/emre/storm': 0.0, u'http://developer.android.com/guide/topics/location/strategies.html': 0.0, u'https://github.com/rasbt/python_reference': 0.0, u'http://stackoverflow.com/questions/392022/best-way-to-kill-all-child-processes': 1.0, u'https://github.com/Cue/scales': 0.0, u'http://www.codehs.com/': 0.0, u'http://www.yakaboo.ua/ru/catalog/all/-362998': 0.0, u'http://www.ozon.ru/context/detail/id/20423038/': 0.0, u'https://github.com/nvbn/subman': 0.0, u'https://www.learnstreet.com/': 0.0, u'https://www.swarmapp.com/yasirmturk/checkin/5380c32511d22cc3fd99e515?s=TfvGDMm5h0DjkspUWs-gYJFZ_DQ&ref=tw': 0.0, u'http://www.stanford.edu/class/cs193p/cgi-bin/drupal/': 0.0, u'http://www.reddit.com/r/ReverseEngineering/comments/25b71d/reverse_engineering_for_beginners/': 0.0, u'http://blog.kowalczyk.info/article/uvw2/Thoughts-on-Go-after-writing-3-websites.html': 0.0, u'http://prosody.im/': 0.0, u'http://en.wikipedia.org/wiki/Support_vector_machine': 0.0, u'http://www.halls.md/body-mass-index/av.htm': 0.0, u'http://youthplugged.com/': 0.0, u'http://csnyc.org/': 0.0, u'http://gortransport.kharkov.ua/bus/suburban/stops/327/shedule/': 0.0, u'http://www.w3.org/International/questions/qa-http-and-lang': 0.0, u'http://shuklan.com/haskell/': 0.0, u'http://bendemott.blogspot.com/2013/11/installing-pylucene-4-451.html': 1.0, u'http://ibm.co/1mqWEAV': 0.0, u'http://www.reddit.com/r/technology/comments/j1mit/how_to_remove_yourself_from_all_background_check/': 0.0, u'http://freelansim.ru/tasks/35820': 0.0, u'http://www.reddit.com/r/ReverseEngineering/comments/23v5k6/patch_analysis_of_latest_microsoft_office/': 0.0, u'http://www.citrus.ua/shop/goods/tabletpc/467/66711': 0.0, u'http://www.instructables.com/id/Raspberry-Pi-GPIO-home-automation/#intro': 0.0, u'https://foursquare.com/yasirmturk/checkin/537f8c29498ec8b9d84f31b0?s=BWWnHX9LexZkcqpqbw3rh_3aXQQ&ref=tw': 0.0, u'https://swiftype.com/site-search#': 0.0, u'https://github.com/sk1418/myScripts/blob/master/shell/recWin.sh': 1.0, u'http://www.shkolaradosti.kharkov.ua/center.html': 0.0, u'http://www.reddit.com/r/ReverseEngineering/comments/25nnhm/exploit_exercises_protostar_stack_levels/': 0.0, u'http://robots.thoughtbot.com/tips-for-clojure-beginners': 0.0, u'https://github.com/mininet/mininet': 0.0, u'http://yasirmturk.com/': 0.0, u'http://lab.hakim.se/reveal-js/#/2': 1.0, u'http://arabdigitalcontent.com/index.php': 0.0, u'https://github.com/smicallef/spiderfoot': 0.0, u'http://kotaku.com/5975610/the-exceptional-beauty-of-doom-3s-source-code': 0.0, u'http://locust.io/': 0.0, u'https://github.com/nginx-clojure/nginx-clojure': 0.0, u'https://github.com/bitcoin-abe/bitcoin-abe': 0.0, u'http://toblerity.org/shapely/manual.html': 1.0, u'http://www.toptal.com/python/top-10-mistakes-that-python-programmers-make': 1.0, u'http://www.reddit.com/r/netsec/comments/25xgsj/static_analysis_tool_for_javascript/': 0.0, u'http://karma-runner.github.io/0.8/index.html': 0.0, u'https://github.com/billkeller/Delicious-Chrome-Extension': 0.0, u'https://developers.google.com/maps/documentation/business/mobile/android/': 0.0, u'http://rashf.com/': 0.0, u'https://github.com/flying-sheep/bcode': 0.0, u'http://www.pcmag.com/article2/0,2817,2393102,00.asp': 0.0, u'http://www.como.com/': 0.0, u'http://java.dzone.com/articles/develope-high-performance': 0.0, u'http://www.reddit.com/r/ReverseEngineering/comments/24t71h/big_file_diffing_with_darungrim/': 0.0, u'http://youthplugged.com/urdu/': 0.0, u'http://habrahabr.ru/post/224065/': 0.0, u'http://www.ozon.ru/context/detail/id/2624244/': 0.0, u'https://foursquare.com/yasirmturk/checkin/537f8b71498e60eb7f0be51a?s=4bvNdbxNzPy16QA3IJCJYvRCmD8&ref=tw': 0.0, u'http://pythontesting.net/framework/pytest-introduction/': 0.0, u'http://websolr.com/guides/solr-clients': 0.0}, u'papachan': {u'https://foursquare.com/yasirmturk/checkin/537f8c3d498e2a96258413ab?s=XyPTmT6LQC8KnmKjLwUAhn9me_U&ref=tw': 0.0, u'https://github.com/CamDavidsonPilon/Probabilistic-Programming-and-Bayesian-Methods-for-Hackers': 0.0, u'http://lucumr.pocoo.org/2011/7/15/eppur-si-muove/': 0.0, u'http://www.screenfree.org/': 0.0, u'https://foursquare.com/yasirmturk/checkin/537f8be0498ee99ec25f1a11?s=EksdvpLs1X6VWbYegmJukcgR23E&ref=tw': 0.0, u'https://github.com/nst/objc_strings': 0.0, u'http://www.reddit.com/r/netsec/comments/1fc2xp/veil_a_metasploit_payload_generator_for_bypassing/': 0.0, u'http://www.labirint.ru/series/6600/': 0.0, u'http://railskyway.com/': 0.0, u'https://github.com/torchbox/wagtaildemo': 0.0, u'http://www.vox.com/a/maps-explain-the-middle-east': 0.0, u'http://www.reddit.com/r/ReverseEngineering/comments/25ou7n/practical_and_portable_x86_recompilation/': 0.0, u'http://www.reddit.com/r/DotA2/comments/1abwer/dota_2_heroes_lesser_known_names_titles_and/': 0.0, u'https://wiki.python.org/moin/PythonDecoratorLibrary': 0.0, u'http://www.reddit.com/r/ReverseEngineering/comments/24mlw9/understand_usb_raw_data/': 0.0, u'http://youthplugged.com/urdu/?p=415': 0.0, u'http://stackoverflow.com/questions/100003/what-is-a-metaclass-in-python': 0.0, u'http://youthplugged.com/urdu/?p=411': 0.0, u'http://psiturk.org/': 0.0, u'http://nbviewer.ipython.org/github/rasbt/python_reference/blob/master/tutorials/key_differences_between_python_2_and_3.ipynb?create=1': 0.0, u'https://www.nhgis.org/': 0.0, u'https://pinboard.in/u:kosqx/': 0.0, u'http://habrahabr.ru/post/53831/': 0.0, u'http://jacksbox.de/stuff/jquery-fractionslider/': 0.0, u'http://blog.kowalczyk.info/article/uvw2/Thoughts-on-Go-after-writing-3-websites.html': 0.0, u'http://blog.tjll.net/ssh-kung-fu/': 0.0, u'http://www.lahey.com/float.htm': 0.0, u'https://developers.google.com/maps/documentation/business/mobile/': 1.0, u'https://github.com/ipython/ipython': 0.0, u'https://github.com/syllog1sm/redshift': 0.0, u'http://en.wikipedia.org/wiki/Communicating_sequential_processes': 1.0, u'https://tbaldridge.pivotshare.com/': 1.0, u'http://www.reddit.com/r/PowerShell/comments/25zjtx/invokesshcommand_using_plinkexe_run_ssh_commands/': 0.0, u'http://hyry.dip.jp/tech/slice/slice.html/43': 0.0, u'https://github.com/emre/storm': 0.0, u'http://developer.android.com/guide/topics/location/strategies.html': 1.0, u'https://github.com/rasbt/python_reference': 0.0, u'http://stackoverflow.com/questions/392022/best-way-to-kill-all-child-processes': 0.0, u'https://github.com/Cue/scales': 0.0, u'http://www.codehs.com/': 0.0, u'http://www.yakaboo.ua/ru/catalog/all/-362998': 0.0, u'http://www.ozon.ru/context/detail/id/20423038/': 0.0, u'https://github.com/nvbn/subman': 1.0, u'https://www.learnstreet.com/': 0.0, u'https://www.swarmapp.com/yasirmturk/checkin/5380c32511d22cc3fd99e515?s=TfvGDMm5h0DjkspUWs-gYJFZ_DQ&ref=tw': 0.0, u'http://www.stanford.edu/class/cs193p/cgi-bin/drupal/': 0.0, u'http://www.reddit.com/r/ReverseEngineering/comments/25b71d/reverse_engineering_for_beginners/': 0.0, u'http://browser.primatelabs.com/': 0.0, u'http://prosody.im/': 0.0, u'http://en.wikipedia.org/wiki/Support_vector_machine': 0.0, u'http://www.halls.md/body-mass-index/av.htm': 0.0, u'http://youthplugged.com/': 0.0, u'http://csnyc.org/': 0.0, u'http://www.chipadeedoodah.com/blog/2013/06/10/understanding-chef-testing-part-1/': 0.0, u'http://gortransport.kharkov.ua/bus/suburban/stops/327/shedule/': 0.0, u'http://www.w3.org/International/questions/qa-http-and-lang': 0.0, u'http://shuklan.com/haskell/': 0.0, u'http://bendemott.blogspot.com/2013/11/installing-pylucene-4-451.html': 0.0, u'http://ibm.co/1mqWEAV': 0.0, u'http://www.reddit.com/r/technology/comments/j1mit/how_to_remove_yourself_from_all_background_check/': 0.0, u'http://freelansim.ru/tasks/35820': 0.0, u'http://www.reddit.com/r/ReverseEngineering/comments/23v5k6/patch_analysis_of_latest_microsoft_office/': 0.0, u'http://www.citrus.ua/shop/goods/tabletpc/467/66711': 0.0, u'http://www.instructables.com/id/Raspberry-Pi-GPIO-home-automation/#intro': 0.0, u'https://foursquare.com/yasirmturk/checkin/537f8c29498ec8b9d84f31b0?s=BWWnHX9LexZkcqpqbw3rh_3aXQQ&ref=tw': 0.0, u'https://swiftype.com/site-search#': 0.0, u'https://github.com/sk1418/myScripts/blob/master/shell/recWin.sh': 0.0, u'http://www.shkolaradosti.kharkov.ua/center.html': 0.0, u'http://www.reddit.com/r/ReverseEngineering/comments/25nnhm/exploit_exercises_protostar_stack_levels/': 0.0, u'http://robots.thoughtbot.com/tips-for-clojure-beginners': 1.0, u'https://github.com/mininet/mininet': 0.0, u'http://yasirmturk.com/': 0.0, u'http://lab.hakim.se/reveal-js/#/2': 0.0, u'http://arabdigitalcontent.com/index.php': 0.0, u'https://github.com/smicallef/spiderfoot': 0.0, u'http://kotaku.com/5975610/the-exceptional-beauty-of-doom-3s-source-code': 0.0, u'http://locust.io/': 0.0, u'https://github.com/nginx-clojure/nginx-clojure': 1.0, u'https://github.com/bitcoin-abe/bitcoin-abe': 0.0, u'http://toblerity.org/shapely/manual.html': 0.0, u'http://www.toptal.com/python/top-10-mistakes-that-python-programmers-make': 0.0, u'http://www.reddit.com/r/netsec/comments/25xgsj/static_analysis_tool_for_javascript/': 0.0, u'http://karma-runner.github.io/0.8/index.html': 1.0, u'https://github.com/billkeller/Delicious-Chrome-Extension': 0.0, u'https://developers.google.com/maps/documentation/business/mobile/android/': 1.0, u'http://rashf.com/': 0.0, u'https://github.com/flying-sheep/bcode': 0.0, u'http://www.pcmag.com/article2/0,2817,2393102,00.asp': 0.0, u'http://www.como.com/': 0.0, u'http://java.dzone.com/articles/develope-high-performance': 1.0, u'http://www.reddit.com/r/ReverseEngineering/comments/24t71h/big_file_diffing_with_darungrim/': 0.0, u'http://youthplugged.com/urdu/': 0.0, u'http://habrahabr.ru/post/224065/': 0.0, u'http://www.ozon.ru/context/detail/id/2624244/': 0.0, u'https://foursquare.com/yasirmturk/checkin/537f8b71498e60eb7f0be51a?s=4bvNdbxNzPy16QA3IJCJYvRCmD8&ref=tw': 0.0, u'http://pythontesting.net/framework/pytest-introduction/': 0.0, u'http://websolr.com/guides/solr-clients': 0.0}, u'kosqx': {u'https://foursquare.com/yasirmturk/checkin/537f8c3d498e2a96258413ab?s=XyPTmT6LQC8KnmKjLwUAhn9me_U&ref=tw': 0.0, u'https://github.com/CamDavidsonPilon/Probabilistic-Programming-and-Bayesian-Methods-for-Hackers': 0.0, u'http://lucumr.pocoo.org/2011/7/15/eppur-si-muove/': 0.0, u'http://www.screenfree.org/': 0.0, u'https://foursquare.com/yasirmturk/checkin/537f8be0498ee99ec25f1a11?s=EksdvpLs1X6VWbYegmJukcgR23E&ref=tw': 0.0, u'https://github.com/nst/objc_strings': 0.0, u'http://www.reddit.com/r/netsec/comments/1fc2xp/veil_a_metasploit_payload_generator_for_bypassing/': 0.0, u'http://www.labirint.ru/series/6600/': 0.0, u'http://railskyway.com/': 0.0, u'https://github.com/torchbox/wagtaildemo': 0.0, u'http://www.vox.com/a/maps-explain-the-middle-east': 0.0, u'http://www.reddit.com/r/ReverseEngineering/comments/25ou7n/practical_and_portable_x86_recompilation/': 0.0, u'http://www.reddit.com/r/DotA2/comments/1abwer/dota_2_heroes_lesser_known_names_titles_and/': 0.0, u'https://wiki.python.org/moin/PythonDecoratorLibrary': 0.0, u'http://www.reddit.com/r/ReverseEngineering/comments/24mlw9/understand_usb_raw_data/': 0.0, u'http://youthplugged.com/urdu/?p=415': 0.0, u'http://stackoverflow.com/questions/100003/what-is-a-metaclass-in-python': 0.0, u'http://youthplugged.com/urdu/?p=411': 0.0, u'http://psiturk.org/': 0.0, u'http://nbviewer.ipython.org/github/rasbt/python_reference/blob/master/tutorials/key_differences_between_python_2_and_3.ipynb?create=1': 0.0, u'https://www.nhgis.org/': 0.0, u'https://pinboard.in/u:kosqx/': 1.0, u'http://habrahabr.ru/post/53831/': 0.0, u'http://jacksbox.de/stuff/jquery-fractionslider/': 0.0, u'http://browser.primatelabs.com/': 0.0, u'http://blog.tjll.net/ssh-kung-fu/': 0.0, u'http://www.lahey.com/float.htm': 0.0, u'https://developers.google.com/maps/documentation/business/mobile/': 0.0, u'https://github.com/ipython/ipython': 0.0, u'https://github.com/syllog1sm/redshift': 0.0, u'http://en.wikipedia.org/wiki/Communicating_sequential_processes': 0.0, u'http://www.instructables.com/id/Raspberry-Pi-GPIO-home-automation/#intro': 1.0, u'http://www.reddit.com/r/PowerShell/comments/25zjtx/invokesshcommand_using_plinkexe_run_ssh_commands/': 0.0, u'http://hyry.dip.jp/tech/slice/slice.html/43': 0.0, u'https://github.com/emre/storm': 0.0, u'http://developer.android.com/guide/topics/location/strategies.html': 0.0, u'https://github.com/rasbt/python_reference': 0.0, u'http://stackoverflow.com/questions/392022/best-way-to-kill-all-child-processes': 0.0, u'https://github.com/Cue/scales': 0.0, u'http://www.codehs.com/': 0.0, u'http://www.yakaboo.ua/ru/catalog/all/-362998': 0.0, u'http://www.ozon.ru/context/detail/id/20423038/': 0.0, u'https://github.com/nvbn/subman': 0.0, u'https://www.learnstreet.com/': 0.0, u'https://www.swarmapp.com/yasirmturk/checkin/5380c32511d22cc3fd99e515?s=TfvGDMm5h0DjkspUWs-gYJFZ_DQ&ref=tw': 0.0, u'http://www.stanford.edu/class/cs193p/cgi-bin/drupal/': 0.0, u'http://www.reddit.com/r/ReverseEngineering/comments/25b71d/reverse_engineering_for_beginners/': 0.0, u'http://blog.kowalczyk.info/article/uvw2/Thoughts-on-Go-after-writing-3-websites.html': 1.0, u'http://prosody.im/': 1.0, u'http://en.wikipedia.org/wiki/Support_vector_machine': 1.0, u'http://www.halls.md/body-mass-index/av.htm': 0.0, u'http://youthplugged.com/': 0.0, u'http://csnyc.org/': 0.0, u'http://www.chipadeedoodah.com/blog/2013/06/10/understanding-chef-testing-part-1/': 0.0, u'http://gortransport.kharkov.ua/bus/suburban/stops/327/shedule/': 0.0, u'http://www.w3.org/International/questions/qa-http-and-lang': 0.0, u'http://shuklan.com/haskell/': 1.0, u'http://bendemott.blogspot.com/2013/11/installing-pylucene-4-451.html': 0.0, u'http://ibm.co/1mqWEAV': 0.0, u'http://www.reddit.com/r/technology/comments/j1mit/how_to_remove_yourself_from_all_background_check/': 0.0, u'http://freelansim.ru/tasks/35820': 0.0, u'http://www.reddit.com/r/ReverseEngineering/comments/23v5k6/patch_analysis_of_latest_microsoft_office/': 0.0, u'http://www.citrus.ua/shop/goods/tabletpc/467/66711': 0.0, u'https://tbaldridge.pivotshare.com/': 0.0, u'https://foursquare.com/yasirmturk/checkin/537f8c29498ec8b9d84f31b0?s=BWWnHX9LexZkcqpqbw3rh_3aXQQ&ref=tw': 0.0, u'https://swiftype.com/site-search#': 0.0, u'https://github.com/sk1418/myScripts/blob/master/shell/recWin.sh': 0.0, u'http://www.shkolaradosti.kharkov.ua/center.html': 0.0, u'http://www.reddit.com/r/ReverseEngineering/comments/25nnhm/exploit_exercises_protostar_stack_levels/': 0.0, u'http://robots.thoughtbot.com/tips-for-clojure-beginners': 0.0, u'https://github.com/mininet/mininet': 0.0, u'http://yasirmturk.com/': 0.0, u'http://lab.hakim.se/reveal-js/#/2': 0.0, u'http://arabdigitalcontent.com/index.php': 0.0, u'https://github.com/smicallef/spiderfoot': 0.0, u'http://kotaku.com/5975610/the-exceptional-beauty-of-doom-3s-source-code': 1.0, u'http://locust.io/': 1.0, u'https://github.com/nginx-clojure/nginx-clojure': 0.0, u'https://github.com/bitcoin-abe/bitcoin-abe': 0.0, u'http://toblerity.org/shapely/manual.html': 0.0, u'http://www.toptal.com/python/top-10-mistakes-that-python-programmers-make': 0.0, u'http://www.reddit.com/r/netsec/comments/25xgsj/static_analysis_tool_for_javascript/': 0.0, u'http://karma-runner.github.io/0.8/index.html': 0.0, u'https://github.com/billkeller/Delicious-Chrome-Extension': 0.0, u'https://developers.google.com/maps/documentation/business/mobile/android/': 0.0, u'http://rashf.com/': 0.0, u'https://github.com/flying-sheep/bcode': 1.0, u'http://www.pcmag.com/article2/0,2817,2393102,00.asp': 0.0, u'http://www.como.com/': 0.0, u'http://java.dzone.com/articles/develope-high-performance': 0.0, u'http://www.reddit.com/r/ReverseEngineering/comments/24t71h/big_file_diffing_with_darungrim/': 0.0, u'http://youthplugged.com/urdu/': 0.0, u'http://habrahabr.ru/post/224065/': 0.0, u'http://www.ozon.ru/context/detail/id/2624244/': 0.0, u'https://foursquare.com/yasirmturk/checkin/537f8b71498e60eb7f0be51a?s=4bvNdbxNzPy16QA3IJCJYvRCmD8&ref=tw': 0.0, u'http://pythontesting.net/framework/pytest-introduction/': 1.0, u'http://websolr.com/guides/solr-clients': 0.0}, u'yasirmturk': {u'https://foursquare.com/yasirmturk/checkin/537f8c3d498e2a96258413ab?s=XyPTmT6LQC8KnmKjLwUAhn9me_U&ref=tw': 1.0, u'https://github.com/CamDavidsonPilon/Probabilistic-Programming-and-Bayesian-Methods-for-Hackers': 0.0, u'http://lucumr.pocoo.org/2011/7/15/eppur-si-muove/': 0.0, u'http://www.screenfree.org/': 0.0, u'https://foursquare.com/yasirmturk/checkin/537f8be0498ee99ec25f1a11?s=EksdvpLs1X6VWbYegmJukcgR23E&ref=tw': 1.0, u'https://github.com/nst/objc_strings': 0.0, u'http://www.reddit.com/r/netsec/comments/1fc2xp/veil_a_metasploit_payload_generator_for_bypassing/': 0.0, u'http://www.labirint.ru/series/6600/': 0.0, u'http://railskyway.com/': 0.0, u'https://github.com/torchbox/wagtaildemo': 0.0, u'https://foursquare.com/yasirmturk/checkin/537f8b71498e60eb7f0be51a?s=4bvNdbxNzPy16QA3IJCJYvRCmD8&ref=tw': 1.0, u'http://www.reddit.com/r/ReverseEngineering/comments/25ou7n/practical_and_portable_x86_recompilation/': 0.0, u'http://www.reddit.com/r/DotA2/comments/1abwer/dota_2_heroes_lesser_known_names_titles_and/': 0.0, u'https://wiki.python.org/moin/PythonDecoratorLibrary': 0.0, u'http://www.reddit.com/r/ReverseEngineering/comments/24mlw9/understand_usb_raw_data/': 0.0, u'https://github.com/smicallef/spiderfoot': 0.0, u'http://stackoverflow.com/questions/100003/what-is-a-metaclass-in-python': 0.0, u'http://youthplugged.com/urdu/?p=411': 1.0, u'http://psiturk.org/': 0.0, u'http://nbviewer.ipython.org/github/rasbt/python_reference/blob/master/tutorials/key_differences_between_python_2_and_3.ipynb?create=1': 0.0, u'https://www.nhgis.org/': 0.0, u'https://pinboard.in/u:kosqx/': 0.0, u'http://habrahabr.ru/post/53831/': 0.0, u'http://jacksbox.de/stuff/jquery-fractionslider/': 0.0, u'http://browser.primatelabs.com/': 0.0, u'http://blog.tjll.net/ssh-kung-fu/': 0.0, u'http://www.lahey.com/float.htm': 0.0, u'https://developers.google.com/maps/documentation/business/mobile/': 0.0, u'https://github.com/ipython/ipython': 0.0, u'https://github.com/syllog1sm/redshift': 0.0, u'http://en.wikipedia.org/wiki/Communicating_sequential_processes': 0.0, u'https://tbaldridge.pivotshare.com/': 0.0, u'http://www.reddit.com/r/PowerShell/comments/25zjtx/invokesshcommand_using_plinkexe_run_ssh_commands/': 0.0, u'http://hyry.dip.jp/tech/slice/slice.html/43': 0.0, u'https://github.com/emre/storm': 0.0, u'http://developer.android.com/guide/topics/location/strategies.html': 0.0, u'https://github.com/rasbt/python_reference': 0.0, u'http://stackoverflow.com/questions/392022/best-way-to-kill-all-child-processes': 0.0, u'https://github.com/Cue/scales': 0.0, u'http://www.codehs.com/': 0.0, u'http://www.yakaboo.ua/ru/catalog/all/-362998': 0.0, u'http://www.ozon.ru/context/detail/id/20423038/': 0.0, u'https://github.com/nvbn/subman': 0.0, u'https://www.learnstreet.com/': 0.0, u'https://www.swarmapp.com/yasirmturk/checkin/5380c32511d22cc3fd99e515?s=TfvGDMm5h0DjkspUWs-gYJFZ_DQ&ref=tw': 1.0, u'http://www.stanford.edu/class/cs193p/cgi-bin/drupal/': 0.0, u'http://www.reddit.com/r/ReverseEngineering/comments/25b71d/reverse_engineering_for_beginners/': 0.0, u'http://blog.kowalczyk.info/article/uvw2/Thoughts-on-Go-after-writing-3-websites.html': 0.0, u'http://prosody.im/': 0.0, u'http://en.wikipedia.org/wiki/Support_vector_machine': 0.0, u'http://www.halls.md/body-mass-index/av.htm': 0.0, u'http://youthplugged.com/': 1.0, u'http://csnyc.org/': 0.0, u'http://www.chipadeedoodah.com/blog/2013/06/10/understanding-chef-testing-part-1/': 0.0, u'http://www.vox.com/a/maps-explain-the-middle-east': 0.0, u'http://www.w3.org/International/questions/qa-http-and-lang': 0.0, u'http://shuklan.com/haskell/': 0.0, u'http://bendemott.blogspot.com/2013/11/installing-pylucene-4-451.html': 0.0, u'http://ibm.co/1mqWEAV': 0.0, u'http://www.reddit.com/r/technology/comments/j1mit/how_to_remove_yourself_from_all_background_check/': 0.0, u'http://freelansim.ru/tasks/35820': 0.0, u'http://www.reddit.com/r/ReverseEngineering/comments/23v5k6/patch_analysis_of_latest_microsoft_office/': 0.0, u'http://www.citrus.ua/shop/goods/tabletpc/467/66711': 0.0, u'http://www.instructables.com/id/Raspberry-Pi-GPIO-home-automation/#intro': 0.0, u'https://foursquare.com/yasirmturk/checkin/537f8c29498ec8b9d84f31b0?s=BWWnHX9LexZkcqpqbw3rh_3aXQQ&ref=tw': 1.0, u'https://swiftype.com/site-search#': 0.0, u'https://github.com/sk1418/myScripts/blob/master/shell/recWin.sh': 0.0, u'http://www.shkolaradosti.kharkov.ua/center.html': 0.0, u'http://gortransport.kharkov.ua/bus/suburban/stops/327/shedule/': 0.0, u'http://www.reddit.com/r/ReverseEngineering/comments/25nnhm/exploit_exercises_protostar_stack_levels/': 0.0, u'http://robots.thoughtbot.com/tips-for-clojure-beginners': 0.0, u'https://github.com/mininet/mininet': 0.0, u'http://yasirmturk.com/': 1.0, u'http://lab.hakim.se/reveal-js/#/2': 0.0, u'http://arabdigitalcontent.com/index.php': 0.0, u'http://youthplugged.com/urdu/?p=415': 1.0, u'http://kotaku.com/5975610/the-exceptional-beauty-of-doom-3s-source-code': 0.0, u'http://locust.io/': 0.0, u'https://github.com/nginx-clojure/nginx-clojure': 0.0, u'https://github.com/bitcoin-abe/bitcoin-abe': 0.0, u'http://toblerity.org/shapely/manual.html': 0.0, u'http://www.toptal.com/python/top-10-mistakes-that-python-programmers-make': 0.0, u'http://www.reddit.com/r/netsec/comments/25xgsj/static_analysis_tool_for_javascript/': 0.0, u'http://karma-runner.github.io/0.8/index.html': 0.0, u'https://github.com/billkeller/Delicious-Chrome-Extension': 0.0, u'https://developers.google.com/maps/documentation/business/mobile/android/': 0.0, u'http://rashf.com/': 0.0, u'https://github.com/flying-sheep/bcode': 0.0, u'http://www.pcmag.com/article2/0,2817,2393102,00.asp': 0.0, u'http://www.como.com/': 0.0, u'http://java.dzone.com/articles/develope-high-performance': 0.0, u'http://www.reddit.com/r/ReverseEngineering/comments/24t71h/big_file_diffing_with_darungrim/': 0.0, u'http://youthplugged.com/urdu/': 1.0, u'http://habrahabr.ru/post/224065/': 0.0, u'http://www.ozon.ru/context/detail/id/2624244/': 0.0, u'http://pythontesting.net/framework/pytest-introduction/': 0.0, u'http://websolr.com/guides/solr-clients': 0.0}}\n"
       ]
      }
     ],
     "prompt_number": 11
    },
    {
     "cell_type": "code",
     "collapsed": false,
     "input": [
      "import random"
     ],
     "language": "python",
     "metadata": {},
     "outputs": [],
     "prompt_number": 12
    },
    {
     "cell_type": "code",
     "collapsed": false,
     "input": [
      "user = delDic.keys()[random.randint(0,len(delDic)-1)]\n",
      "user"
     ],
     "language": "python",
     "metadata": {},
     "outputs": [
      {
       "metadata": {},
       "output_type": "pyout",
       "prompt_number": 13,
       "text": [
        "u'iceout'"
       ]
      }
     ],
     "prompt_number": 13
    },
    {
     "cell_type": "code",
     "collapsed": false,
     "input": [
      "run recommendations.py"
     ],
     "language": "python",
     "metadata": {},
     "outputs": [],
     "prompt_number": 14
    },
    {
     "cell_type": "code",
     "collapsed": false,
     "input": [
      "topMatches(delDic, user)"
     ],
     "language": "python",
     "metadata": {},
     "outputs": [
      {
       "metadata": {},
       "output_type": "pyout",
       "prompt_number": 15,
       "text": [
        "[(-0.0945514381551959, u'railskyway'),\n",
        " (-0.11494252873563217, u'yasirmturk'),\n",
        " (-0.11494252873563217, u'tanelpuhu'),\n",
        " (-0.11494252873563217, u'papachan'),\n",
        " (-0.11494252873563217, u'opexxx')]"
       ]
      }
     ],
     "prompt_number": 15
    },
    {
     "cell_type": "code",
     "collapsed": false,
     "input": [
      "getRecommendations(delDic,user)[0:10]"
     ],
     "language": "python",
     "metadata": {},
     "outputs": [
      {
       "metadata": {},
       "output_type": "pyout",
       "prompt_number": 16,
       "text": [
        "[]"
       ]
      }
     ],
     "prompt_number": 16
    },
    {
     "cell_type": "code",
     "collapsed": false,
     "input": [
      "run recommendations.py"
     ],
     "language": "python",
     "metadata": {},
     "outputs": [],
     "prompt_number": 18
    },
    {
     "cell_type": "code",
     "collapsed": false,
     "input": [
      "itemsim=calculateSimilarItems(critics)\n",
      "itemsim"
     ],
     "language": "python",
     "metadata": {},
     "outputs": [
      {
       "metadata": {},
       "output_type": "pyout",
       "prompt_number": 19,
       "text": [
        "{'Just My Luck': [(0.2222222222222222, 'Lady in the Water'),\n",
        "  (0.18181818181818182, 'You, Me and Dupree'),\n",
        "  (0.15384615384615385, 'The Night Listener'),\n",
        "  (0.10526315789473684, 'Snakes on a Plane'),\n",
        "  (0.06451612903225806, 'Superman Returns')],\n",
        " 'Lady in the Water': [(0.4, 'You, Me and Dupree'),\n",
        "  (0.2857142857142857, 'The Night Listener'),\n",
        "  (0.2222222222222222, 'Snakes on a Plane'),\n",
        "  (0.2222222222222222, 'Just My Luck'),\n",
        "  (0.09090909090909091, 'Superman Returns')],\n",
        " 'Snakes on a Plane': [(0.2222222222222222, 'Lady in the Water'),\n",
        "  (0.18181818181818182, 'The Night Listener'),\n",
        "  (0.16666666666666666, 'Superman Returns'),\n",
        "  (0.10526315789473684, 'Just My Luck'),\n",
        "  (0.05128205128205128, 'You, Me and Dupree')],\n",
        " 'Superman Returns': [(0.16666666666666666, 'Snakes on a Plane'),\n",
        "  (0.10256410256410256, 'The Night Listener'),\n",
        "  (0.09090909090909091, 'Lady in the Water'),\n",
        "  (0.06451612903225806, 'Just My Luck'),\n",
        "  (0.05333333333333334, 'You, Me and Dupree')],\n",
        " 'The Night Listener': [(0.2857142857142857, 'Lady in the Water'),\n",
        "  (0.18181818181818182, 'Snakes on a Plane'),\n",
        "  (0.15384615384615385, 'Just My Luck'),\n",
        "  (0.14814814814814814, 'You, Me and Dupree'),\n",
        "  (0.10256410256410256, 'Superman Returns')],\n",
        " 'You, Me and Dupree': [(0.4, 'Lady in the Water'),\n",
        "  (0.18181818181818182, 'Just My Luck'),\n",
        "  (0.14814814814814814, 'The Night Listener'),\n",
        "  (0.05333333333333334, 'Superman Returns'),\n",
        "  (0.05128205128205128, 'Snakes on a Plane')]}"
       ]
      }
     ],
     "prompt_number": 19
    },
    {
     "cell_type": "code",
     "collapsed": false,
     "input": [
      "run recommendations.py"
     ],
     "language": "python",
     "metadata": {},
     "outputs": [],
     "prompt_number": 21
    },
    {
     "cell_type": "code",
     "collapsed": false,
     "input": [
      "getRecommendedItems(critics,itemsim,'Toby')"
     ],
     "language": "python",
     "metadata": {},
     "outputs": [
      {
       "metadata": {},
       "output_type": "pyout",
       "prompt_number": 22,
       "text": [
        "[(3.182634730538922, 'The Night Listener'),\n",
        " (2.5983318700614575, 'Just My Luck'),\n",
        " (2.4730878186968837, 'Lady in the Water')]"
       ]
      }
     ],
     "prompt_number": 22
    },
    {
     "cell_type": "code",
     "collapsed": false,
     "input": [],
     "language": "python",
     "metadata": {},
     "outputs": []
    }
   ],
   "metadata": {}
  }
 ]
}