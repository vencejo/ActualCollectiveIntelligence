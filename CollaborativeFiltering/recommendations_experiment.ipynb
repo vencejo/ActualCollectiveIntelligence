{
 "metadata": {
  "name": "",
  "signature": "sha256:e478d83bad1f1165f2120c5893f012d69ea9626e57fa07971586b2feb6be8842"
 },
 "nbformat": 3,
 "nbformat_minor": 0,
 "worksheets": [
  {
   "cells": [
    {
     "cell_type": "code",
     "collapsed": false,
     "input": [
      "from recommendations import critics"
     ],
     "language": "python",
     "metadata": {},
     "outputs": [],
     "prompt_number": 1
    },
    {
     "cell_type": "code",
     "collapsed": false,
     "input": [
      "critics['Lisa Rose']['Lady in the Water']"
     ],
     "language": "python",
     "metadata": {},
     "outputs": [
      {
       "metadata": {},
       "output_type": "pyout",
       "prompt_number": 2,
       "text": [
        "2.5"
       ]
      }
     ],
     "prompt_number": 2
    },
    {
     "cell_type": "code",
     "collapsed": false,
     "input": [
      "from math import sqrt\n"
     ],
     "language": "python",
     "metadata": {},
     "outputs": [],
     "prompt_number": 3
    },
    {
     "cell_type": "code",
     "collapsed": false,
     "input": [
      "sqrt(pow(5-4,2)+pow(4-1,2))\n"
     ],
     "language": "python",
     "metadata": {},
     "outputs": [
      {
       "metadata": {},
       "output_type": "pyout",
       "prompt_number": 4,
       "text": [
        "3.1622776601683795"
       ]
      }
     ],
     "prompt_number": 4
    },
    {
     "cell_type": "code",
     "collapsed": false,
     "input": [
      "1/(1+sqrt(pow(5-4,2)+pow(4-1,2)))"
     ],
     "language": "python",
     "metadata": {},
     "outputs": [
      {
       "metadata": {},
       "output_type": "pyout",
       "prompt_number": 5,
       "text": [
        "0.2402530733520421"
       ]
      }
     ],
     "prompt_number": 5
    },
    {
     "cell_type": "code",
     "collapsed": false,
     "input": [
      "%run recommendations.py"
     ],
     "language": "python",
     "metadata": {},
     "outputs": [],
     "prompt_number": 10
    },
    {
     "cell_type": "code",
     "collapsed": false,
     "input": [
      "from math import sqrt\n",
      "# A dictionary of movie critics and their ratings of a small\n",
      "# set of movies\n",
      "critics={'Lisa Rose': {'Lady in the Water': 2.5, 'Snakes on a Plane': 3.5,\n",
      "'Just My Luck': 3.0, 'Superman Returns': 3.5, 'You, Me and Dupree': 2.5,\n",
      "'The Night Listener': 3.0},\n",
      "'Gene Seymour': {'Lady in the Water': 3.0, 'Snakes on a Plane': 3.5,\n",
      "'Just My Luck': 1.5, 'Superman Returns': 5.0, 'The Night Listener': 3.0,\n",
      "'You, Me and Dupree': 3.5},\n",
      "'Michael Phillips': {'Lady in the Water': 2.5, 'Snakes on a Plane': 3.0,\n",
      "'Superman Returns': 3.5, 'The Night Listener': 4.0},\n",
      "'Claudia Puig': {'Snakes on a Plane': 3.5, 'Just My Luck': 3.0,\n",
      "'The Night Listener': 4.5, 'Superman Returns': 4.0,\n",
      "'You, Me and Dupree': 2.5},\n",
      "'Mick LaSalle': {'Lady in the Water': 3.0, 'Snakes on a Plane': 4.0,\n",
      "'Just My Luck': 2.0, 'Superman Returns': 3.0, 'The Night Listener': 3.0,\n",
      "'You, Me and Dupree': 2.0},\n",
      "'Jack Matthews': {'Lady in the Water': 3.0, 'Snakes on a Plane': 4.0,\n",
      "'The Night Listener': 3.0, 'Superman Returns': 5.0, 'You, Me and Dupree': 3.5},\n",
      "'Toby': {'Snakes on a Plane':4.5,'You, Me and Dupree':1.0,'Superman Returns':4.0}}\n",
      "\n",
      "#Returns a distance-based similarity score for person1 and person2\n",
      "def sim_distance(prefs, person1,person2):\n",
      "\tsi = {} #Get the list of shared  items\n",
      "\tfor item in prefs[person1]:\n",
      "\t\tif item in prefs[person2]:\n",
      "\t\t\tsi[item]=1\n",
      "\n",
      "\t#if the have no ratings in common, return 0\n",
      "\tif len(si)== 0: return 0\n",
      "\n",
      "\t#Add up the squares of all the differences\n",
      "\tsum_of_squares = sum([pow(prefs[person1][item]-prefs[person2][item], 2)\n",
      "\t\t\t\t\t\t\tfor item in prefs[person1] if item in prefs[person2]])\n",
      "\n",
      "\treturn 1/(1+sum_of_squares) \n"
     ],
     "language": "python",
     "metadata": {},
     "outputs": []
    },
    {
     "cell_type": "code",
     "collapsed": false,
     "input": [
      "sim_distance(critics, 'Lisa Rose', 'Gene Seymour')"
     ],
     "language": "python",
     "metadata": {},
     "outputs": [
      {
       "metadata": {},
       "output_type": "pyout",
       "prompt_number": 12,
       "text": [
        "0.14814814814814814"
       ]
      }
     ],
     "prompt_number": 12
    },
    {
     "cell_type": "code",
     "collapsed": false,
     "input": [
      "%magic"
     ],
     "language": "python",
     "metadata": {},
     "outputs": [],
     "prompt_number": 13
    },
    {
     "cell_type": "code",
     "collapsed": false,
     "input": [],
     "language": "python",
     "metadata": {},
     "outputs": []
    }
   ],
   "metadata": {}
  }
 ]
}