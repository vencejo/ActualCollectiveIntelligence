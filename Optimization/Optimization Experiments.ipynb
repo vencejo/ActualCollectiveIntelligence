{
 "metadata": {
  "name": "",
  "signature": "sha256:d696a598cb31edd9766b15e7de5cdddcbc9c6d532461a68d830d585c6e30817b"
 },
 "nbformat": 3,
 "nbformat_minor": 0,
 "worksheets": [
  {
   "cells": [
    {
     "cell_type": "code",
     "collapsed": false,
     "input": [
      "import optimization"
     ],
     "language": "python",
     "metadata": {},
     "outputs": [],
     "prompt_number": 1
    },
    {
     "cell_type": "code",
     "collapsed": false,
     "input": [
      "s = [1,4,3,2]\n",
      "optimization.printschedule(s)"
     ],
     "language": "python",
     "metadata": {},
     "outputs": [
      {
       "output_type": "stream",
       "stream": "stdout",
       "text": [
        "   Seymour       BOS  8:04-10:11 $ 95 12:08-14:05 $142\n",
        "    Franny       DAL 12:19-15:25 $342 10:51-14:16 $256\n"
       ]
      }
     ],
     "prompt_number": 2
    },
    {
     "cell_type": "code",
     "collapsed": false,
     "input": [
      "optimization.flights[('LGA','BOS')]"
     ],
     "language": "python",
     "metadata": {},
     "outputs": [
      {
       "metadata": {},
       "output_type": "pyout",
       "prompt_number": 3,
       "text": [
        "[('6:39', '8:09', 86),\n",
        " ('8:23', '10:28', 149),\n",
        " ('9:58', '11:18', 130),\n",
        " ('10:33', '12:03', 74),\n",
        " ('12:08', '14:05', 142),\n",
        " ('13:39', '15:30', 74),\n",
        " ('15:25', '16:58', 62),\n",
        " ('17:03', '18:03', 103),\n",
        " ('18:24', '20:49', 124),\n",
        " ('19:58', '21:23', 142)]"
       ]
      }
     ],
     "prompt_number": 3
    },
    {
     "cell_type": "code",
     "collapsed": false,
     "input": [
      "import optimization\n",
      "s = [1,4,3,2,7,3,6,3,2,4,5,3]\n",
      "optimization.printschedule(s)\n",
      "optimization.schedulecost(s)"
     ],
     "language": "python",
     "metadata": {},
     "outputs": [
      {
       "output_type": "stream",
       "stream": "stdout",
       "text": [
        "   Seymour       BOS  8:04-10:11 $ 95 12:08-14:05 $142\n",
        "    Franny       DAL 12:19-15:25 $342 10:51-14:16 $256\n",
        "     Zooey       CAK 10:53-13:36 $189  9:58-12:56 $249\n",
        "      Walt       MIA  9:15-12:29 $225 16:50-19:26 $304\n",
        "     Buddy       ORD 16:43-19:00 $246 10:33-13:11 $132\n",
        "       Les       OMA 11:08-13:07 $175 15:07-17:21 $129\n"
       ]
      },
      {
       "metadata": {},
       "output_type": "pyout",
       "prompt_number": 1,
       "text": [
        "5285"
       ]
      }
     ],
     "prompt_number": 1
    },
    {
     "cell_type": "code",
     "collapsed": false,
     "input": [
      "import optimization\n",
      "domain = [(0,8)]*(len(optimization.people)*2)\n",
      "s = optimization.randomoptimize(domain, optimization.schedulecost)\n",
      "optimization.printschedule(s)\n",
      "optimization.schedulecost(s)"
     ],
     "language": "python",
     "metadata": {},
     "outputs": [
      {
       "output_type": "stream",
       "stream": "stdout",
       "text": [
        "   Seymour       BOS  8:04-10:11 $ 95  6:39- 8:09 $ 86\n",
        "    Franny       DAL  6:12-10:22 $230  7:57-11:15 $347\n",
        "     Zooey       CAK  8:27-10:45 $139  8:19-11:16 $122\n",
        "      Walt       MIA  7:34- 9:40 $324  8:23-11:07 $143\n",
        "     Buddy       ORD  8:25-10:34 $157  7:50-10:08 $164\n",
        "       Les       OMA  7:39-10:24 $219  9:31-11:43 $210\n"
       ]
      },
      {
       "metadata": {},
       "output_type": "pyout",
       "prompt_number": 4,
       "text": [
        "2965"
       ]
      }
     ],
     "prompt_number": 4
    },
    {
     "cell_type": "code",
     "collapsed": false,
     "input": [],
     "language": "python",
     "metadata": {},
     "outputs": []
    }
   ],
   "metadata": {}
  }
 ]
}